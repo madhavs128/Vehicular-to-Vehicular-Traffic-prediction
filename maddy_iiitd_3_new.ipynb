{
 "cells": [
  {
   "cell_type": "code",
   "execution_count": 1,
   "id": "4f4e9e49",
   "metadata": {},
   "outputs": [],
   "source": [
    "import numpy as np\n",
    "import matplotlib.pyplot as plt\n",
    "import pandas as pd\n"
   ]
  },
  {
   "cell_type": "code",
   "execution_count": 2,
   "id": "82529e88",
   "metadata": {},
   "outputs": [],
   "source": [
    "df = pd.read_csv('Metro_Interstate_Traffic_Volume.csv')"
   ]
  },
  {
   "cell_type": "code",
   "execution_count": 3,
   "id": "2881e400",
   "metadata": {},
   "outputs": [
    {
     "data": {
      "text/html": [
       "<div>\n",
       "<style scoped>\n",
       "    .dataframe tbody tr th:only-of-type {\n",
       "        vertical-align: middle;\n",
       "    }\n",
       "\n",
       "    .dataframe tbody tr th {\n",
       "        vertical-align: top;\n",
       "    }\n",
       "\n",
       "    .dataframe thead th {\n",
       "        text-align: right;\n",
       "    }\n",
       "</style>\n",
       "<table border=\"1\" class=\"dataframe\">\n",
       "  <thead>\n",
       "    <tr style=\"text-align: right;\">\n",
       "      <th></th>\n",
       "      <th>holiday</th>\n",
       "      <th>temp</th>\n",
       "      <th>rain_1h</th>\n",
       "      <th>snow_1h</th>\n",
       "      <th>clouds_all</th>\n",
       "      <th>weather_main</th>\n",
       "      <th>day</th>\n",
       "      <th>weather_description</th>\n",
       "      <th>date_time</th>\n",
       "      <th>traffic_volume</th>\n",
       "    </tr>\n",
       "  </thead>\n",
       "  <tbody>\n",
       "    <tr>\n",
       "      <th>0</th>\n",
       "      <td>None</td>\n",
       "      <td>288.28</td>\n",
       "      <td>0.0</td>\n",
       "      <td>0.0</td>\n",
       "      <td>40</td>\n",
       "      <td>Clouds</td>\n",
       "      <td>Tuesday</td>\n",
       "      <td>scattered clouds</td>\n",
       "      <td>02-10-2012 09:00</td>\n",
       "      <td>5545</td>\n",
       "    </tr>\n",
       "    <tr>\n",
       "      <th>1</th>\n",
       "      <td>None</td>\n",
       "      <td>289.36</td>\n",
       "      <td>0.0</td>\n",
       "      <td>0.0</td>\n",
       "      <td>75</td>\n",
       "      <td>Clouds</td>\n",
       "      <td>Wednesday</td>\n",
       "      <td>broken clouds</td>\n",
       "      <td>02-10-2012 10:00</td>\n",
       "      <td>4516</td>\n",
       "    </tr>\n",
       "    <tr>\n",
       "      <th>2</th>\n",
       "      <td>None</td>\n",
       "      <td>289.58</td>\n",
       "      <td>0.0</td>\n",
       "      <td>0.0</td>\n",
       "      <td>90</td>\n",
       "      <td>Clouds</td>\n",
       "      <td>Thursday</td>\n",
       "      <td>overcast clouds</td>\n",
       "      <td>02-10-2012 11:00</td>\n",
       "      <td>4767</td>\n",
       "    </tr>\n",
       "    <tr>\n",
       "      <th>3</th>\n",
       "      <td>None</td>\n",
       "      <td>290.13</td>\n",
       "      <td>0.0</td>\n",
       "      <td>0.0</td>\n",
       "      <td>90</td>\n",
       "      <td>Clouds</td>\n",
       "      <td>Friday</td>\n",
       "      <td>overcast clouds</td>\n",
       "      <td>02-10-2012 12:00</td>\n",
       "      <td>5026</td>\n",
       "    </tr>\n",
       "    <tr>\n",
       "      <th>4</th>\n",
       "      <td>None</td>\n",
       "      <td>291.14</td>\n",
       "      <td>0.0</td>\n",
       "      <td>0.0</td>\n",
       "      <td>75</td>\n",
       "      <td>Clouds</td>\n",
       "      <td>Saturday</td>\n",
       "      <td>broken clouds</td>\n",
       "      <td>02-10-2012 13:00</td>\n",
       "      <td>4918</td>\n",
       "    </tr>\n",
       "  </tbody>\n",
       "</table>\n",
       "</div>"
      ],
      "text/plain": [
       "  holiday    temp  rain_1h  snow_1h  clouds_all weather_main        day  \\\n",
       "0    None  288.28      0.0      0.0          40       Clouds    Tuesday   \n",
       "1    None  289.36      0.0      0.0          75       Clouds  Wednesday   \n",
       "2    None  289.58      0.0      0.0          90       Clouds   Thursday   \n",
       "3    None  290.13      0.0      0.0          90       Clouds     Friday   \n",
       "4    None  291.14      0.0      0.0          75       Clouds   Saturday   \n",
       "\n",
       "  weather_description         date_time  traffic_volume  \n",
       "0    scattered clouds  02-10-2012 09:00            5545  \n",
       "1       broken clouds  02-10-2012 10:00            4516  \n",
       "2     overcast clouds  02-10-2012 11:00            4767  \n",
       "3     overcast clouds  02-10-2012 12:00            5026  \n",
       "4       broken clouds  02-10-2012 13:00            4918  "
      ]
     },
     "execution_count": 3,
     "metadata": {},
     "output_type": "execute_result"
    }
   ],
   "source": [
    "df.head()"
   ]
  },
  {
   "cell_type": "code",
   "execution_count": 4,
   "id": "24cf829c",
   "metadata": {},
   "outputs": [
    {
     "data": {
      "text/html": [
       "<div>\n",
       "<style scoped>\n",
       "    .dataframe tbody tr th:only-of-type {\n",
       "        vertical-align: middle;\n",
       "    }\n",
       "\n",
       "    .dataframe tbody tr th {\n",
       "        vertical-align: top;\n",
       "    }\n",
       "\n",
       "    .dataframe thead th {\n",
       "        text-align: right;\n",
       "    }\n",
       "</style>\n",
       "<table border=\"1\" class=\"dataframe\">\n",
       "  <thead>\n",
       "    <tr style=\"text-align: right;\">\n",
       "      <th></th>\n",
       "      <th>holiday</th>\n",
       "      <th>temp</th>\n",
       "      <th>rain_1h</th>\n",
       "      <th>snow_1h</th>\n",
       "      <th>clouds_all</th>\n",
       "      <th>weather_main</th>\n",
       "      <th>day</th>\n",
       "      <th>weather_description</th>\n",
       "      <th>date_time</th>\n",
       "      <th>traffic_volume</th>\n",
       "    </tr>\n",
       "  </thead>\n",
       "  <tbody>\n",
       "    <tr>\n",
       "      <th>48199</th>\n",
       "      <td>None</td>\n",
       "      <td>283.45</td>\n",
       "      <td>0.0</td>\n",
       "      <td>0.0</td>\n",
       "      <td>75</td>\n",
       "      <td>Clouds</td>\n",
       "      <td>Saturday</td>\n",
       "      <td>broken clouds</td>\n",
       "      <td>30-09-2018 19:00</td>\n",
       "      <td>3543</td>\n",
       "    </tr>\n",
       "    <tr>\n",
       "      <th>48200</th>\n",
       "      <td>None</td>\n",
       "      <td>282.76</td>\n",
       "      <td>0.0</td>\n",
       "      <td>0.0</td>\n",
       "      <td>90</td>\n",
       "      <td>Clouds</td>\n",
       "      <td>Sunday</td>\n",
       "      <td>overcast clouds</td>\n",
       "      <td>30-09-2018 20:00</td>\n",
       "      <td>2781</td>\n",
       "    </tr>\n",
       "    <tr>\n",
       "      <th>48201</th>\n",
       "      <td>None</td>\n",
       "      <td>282.73</td>\n",
       "      <td>0.0</td>\n",
       "      <td>0.0</td>\n",
       "      <td>90</td>\n",
       "      <td>Thunderstorm</td>\n",
       "      <td>Monday</td>\n",
       "      <td>proximity thunderstorm</td>\n",
       "      <td>30-09-2018 21:00</td>\n",
       "      <td>2159</td>\n",
       "    </tr>\n",
       "    <tr>\n",
       "      <th>48202</th>\n",
       "      <td>None</td>\n",
       "      <td>282.09</td>\n",
       "      <td>0.0</td>\n",
       "      <td>0.0</td>\n",
       "      <td>90</td>\n",
       "      <td>Clouds</td>\n",
       "      <td>Tuesday</td>\n",
       "      <td>overcast clouds</td>\n",
       "      <td>30-09-2018 22:00</td>\n",
       "      <td>1450</td>\n",
       "    </tr>\n",
       "    <tr>\n",
       "      <th>48203</th>\n",
       "      <td>None</td>\n",
       "      <td>282.12</td>\n",
       "      <td>0.0</td>\n",
       "      <td>0.0</td>\n",
       "      <td>90</td>\n",
       "      <td>Clouds</td>\n",
       "      <td>Wednesday</td>\n",
       "      <td>overcast clouds</td>\n",
       "      <td>30-09-2018 23:00</td>\n",
       "      <td>954</td>\n",
       "    </tr>\n",
       "  </tbody>\n",
       "</table>\n",
       "</div>"
      ],
      "text/plain": [
       "      holiday    temp  rain_1h  snow_1h  clouds_all  weather_main        day  \\\n",
       "48199    None  283.45      0.0      0.0          75        Clouds   Saturday   \n",
       "48200    None  282.76      0.0      0.0          90        Clouds     Sunday   \n",
       "48201    None  282.73      0.0      0.0          90  Thunderstorm     Monday   \n",
       "48202    None  282.09      0.0      0.0          90        Clouds    Tuesday   \n",
       "48203    None  282.12      0.0      0.0          90        Clouds  Wednesday   \n",
       "\n",
       "          weather_description         date_time  traffic_volume  \n",
       "48199           broken clouds  30-09-2018 19:00            3543  \n",
       "48200         overcast clouds  30-09-2018 20:00            2781  \n",
       "48201  proximity thunderstorm  30-09-2018 21:00            2159  \n",
       "48202         overcast clouds  30-09-2018 22:00            1450  \n",
       "48203         overcast clouds  30-09-2018 23:00             954  "
      ]
     },
     "execution_count": 4,
     "metadata": {},
     "output_type": "execute_result"
    }
   ],
   "source": [
    "df.tail()"
   ]
  },
  {
   "cell_type": "code",
   "execution_count": 5,
   "id": "617d203b",
   "metadata": {},
   "outputs": [],
   "source": [
    "df = df.dropna()"
   ]
  },
  {
   "cell_type": "markdown",
   "id": "6ea703eb",
   "metadata": {},
   "source": [
    "### data is from 2nd october 2012 to 30 september 2018\n",
    "### now let us train our model from 2012 to 2017 data and predict 2018 "
   ]
  },
  {
   "cell_type": "code",
   "execution_count": 6,
   "id": "1f6223fd",
   "metadata": {},
   "outputs": [
    {
     "data": {
      "text/plain": [
       "array(['Clouds', 'Clear', 'Rain', 'Drizzle', 'Mist', 'Haze', 'Fog',\n",
       "       'Thunderstorm', 'Snow', 'Squall', 'Smoke'], dtype=object)"
      ]
     },
     "execution_count": 6,
     "metadata": {},
     "output_type": "execute_result"
    }
   ],
   "source": [
    "df['weather_main'].unique()"
   ]
  },
  {
   "cell_type": "code",
   "execution_count": 7,
   "id": "5ce1c104",
   "metadata": {},
   "outputs": [],
   "source": [
    "# pip install category-encoders\n",
    "\n",
    "import category_encoders as ce\n",
    "encoder= ce.OrdinalEncoder(cols=['weather_main'],return_df=True,\n",
    "                           mapping=[{'col':'weather_main',\n",
    "'mapping':{'Clouds':0,'Clear':1,'Rain':2,'Drizzle':3,'Mist':4,'Haze':5,'Fog':5,'Thunderstorm':6,'Snow':7,'Squall':8,'Smoke':9}}])"
   ]
  },
  {
   "cell_type": "code",
   "execution_count": 8,
   "id": "fface6ab",
   "metadata": {},
   "outputs": [
    {
     "name": "stderr",
     "output_type": "stream",
     "text": [
      "c:\\users\\dell\\appdata\\local\\programs\\python\\python39\\lib\\site-packages\\category_encoders\\utils.py:21: FutureWarning: is_categorical is deprecated and will be removed in a future version.  Use is_categorical_dtype instead\n",
      "  elif pd.api.types.is_categorical(cols):\n"
     ]
    }
   ],
   "source": [
    "df = encoder.fit_transform(df)\n"
   ]
  },
  {
   "cell_type": "code",
   "execution_count": 9,
   "id": "a177f0b0",
   "metadata": {},
   "outputs": [
    {
     "data": {
      "text/html": [
       "<div>\n",
       "<style scoped>\n",
       "    .dataframe tbody tr th:only-of-type {\n",
       "        vertical-align: middle;\n",
       "    }\n",
       "\n",
       "    .dataframe tbody tr th {\n",
       "        vertical-align: top;\n",
       "    }\n",
       "\n",
       "    .dataframe thead th {\n",
       "        text-align: right;\n",
       "    }\n",
       "</style>\n",
       "<table border=\"1\" class=\"dataframe\">\n",
       "  <thead>\n",
       "    <tr style=\"text-align: right;\">\n",
       "      <th></th>\n",
       "      <th>holiday</th>\n",
       "      <th>temp</th>\n",
       "      <th>rain_1h</th>\n",
       "      <th>snow_1h</th>\n",
       "      <th>clouds_all</th>\n",
       "      <th>weather_main</th>\n",
       "      <th>day</th>\n",
       "      <th>weather_description</th>\n",
       "      <th>date_time</th>\n",
       "      <th>traffic_volume</th>\n",
       "    </tr>\n",
       "  </thead>\n",
       "  <tbody>\n",
       "    <tr>\n",
       "      <th>0</th>\n",
       "      <td>None</td>\n",
       "      <td>288.28</td>\n",
       "      <td>0.0</td>\n",
       "      <td>0.0</td>\n",
       "      <td>40</td>\n",
       "      <td>0</td>\n",
       "      <td>Tuesday</td>\n",
       "      <td>scattered clouds</td>\n",
       "      <td>02-10-2012 09:00</td>\n",
       "      <td>5545</td>\n",
       "    </tr>\n",
       "    <tr>\n",
       "      <th>1</th>\n",
       "      <td>None</td>\n",
       "      <td>289.36</td>\n",
       "      <td>0.0</td>\n",
       "      <td>0.0</td>\n",
       "      <td>75</td>\n",
       "      <td>0</td>\n",
       "      <td>Wednesday</td>\n",
       "      <td>broken clouds</td>\n",
       "      <td>02-10-2012 10:00</td>\n",
       "      <td>4516</td>\n",
       "    </tr>\n",
       "    <tr>\n",
       "      <th>2</th>\n",
       "      <td>None</td>\n",
       "      <td>289.58</td>\n",
       "      <td>0.0</td>\n",
       "      <td>0.0</td>\n",
       "      <td>90</td>\n",
       "      <td>0</td>\n",
       "      <td>Thursday</td>\n",
       "      <td>overcast clouds</td>\n",
       "      <td>02-10-2012 11:00</td>\n",
       "      <td>4767</td>\n",
       "    </tr>\n",
       "    <tr>\n",
       "      <th>3</th>\n",
       "      <td>None</td>\n",
       "      <td>290.13</td>\n",
       "      <td>0.0</td>\n",
       "      <td>0.0</td>\n",
       "      <td>90</td>\n",
       "      <td>0</td>\n",
       "      <td>Friday</td>\n",
       "      <td>overcast clouds</td>\n",
       "      <td>02-10-2012 12:00</td>\n",
       "      <td>5026</td>\n",
       "    </tr>\n",
       "    <tr>\n",
       "      <th>4</th>\n",
       "      <td>None</td>\n",
       "      <td>291.14</td>\n",
       "      <td>0.0</td>\n",
       "      <td>0.0</td>\n",
       "      <td>75</td>\n",
       "      <td>0</td>\n",
       "      <td>Saturday</td>\n",
       "      <td>broken clouds</td>\n",
       "      <td>02-10-2012 13:00</td>\n",
       "      <td>4918</td>\n",
       "    </tr>\n",
       "    <tr>\n",
       "      <th>5</th>\n",
       "      <td>None</td>\n",
       "      <td>291.72</td>\n",
       "      <td>0.0</td>\n",
       "      <td>0.0</td>\n",
       "      <td>1</td>\n",
       "      <td>1</td>\n",
       "      <td>Sunday</td>\n",
       "      <td>sky is clear</td>\n",
       "      <td>02-10-2012 14:00</td>\n",
       "      <td>5181</td>\n",
       "    </tr>\n",
       "    <tr>\n",
       "      <th>6</th>\n",
       "      <td>None</td>\n",
       "      <td>293.17</td>\n",
       "      <td>0.0</td>\n",
       "      <td>0.0</td>\n",
       "      <td>1</td>\n",
       "      <td>1</td>\n",
       "      <td>Monday</td>\n",
       "      <td>sky is clear</td>\n",
       "      <td>02-10-2012 15:00</td>\n",
       "      <td>5584</td>\n",
       "    </tr>\n",
       "    <tr>\n",
       "      <th>7</th>\n",
       "      <td>None</td>\n",
       "      <td>293.86</td>\n",
       "      <td>0.0</td>\n",
       "      <td>0.0</td>\n",
       "      <td>1</td>\n",
       "      <td>1</td>\n",
       "      <td>Tuesday</td>\n",
       "      <td>sky is clear</td>\n",
       "      <td>02-10-2012 16:00</td>\n",
       "      <td>6015</td>\n",
       "    </tr>\n",
       "    <tr>\n",
       "      <th>8</th>\n",
       "      <td>None</td>\n",
       "      <td>294.14</td>\n",
       "      <td>0.0</td>\n",
       "      <td>0.0</td>\n",
       "      <td>20</td>\n",
       "      <td>0</td>\n",
       "      <td>Wednesday</td>\n",
       "      <td>few clouds</td>\n",
       "      <td>02-10-2012 17:00</td>\n",
       "      <td>5791</td>\n",
       "    </tr>\n",
       "    <tr>\n",
       "      <th>9</th>\n",
       "      <td>None</td>\n",
       "      <td>293.10</td>\n",
       "      <td>0.0</td>\n",
       "      <td>0.0</td>\n",
       "      <td>20</td>\n",
       "      <td>0</td>\n",
       "      <td>Thursday</td>\n",
       "      <td>few clouds</td>\n",
       "      <td>02-10-2012 18:00</td>\n",
       "      <td>4770</td>\n",
       "    </tr>\n",
       "  </tbody>\n",
       "</table>\n",
       "</div>"
      ],
      "text/plain": [
       "  holiday    temp  rain_1h  snow_1h  clouds_all  weather_main        day  \\\n",
       "0    None  288.28      0.0      0.0          40             0    Tuesday   \n",
       "1    None  289.36      0.0      0.0          75             0  Wednesday   \n",
       "2    None  289.58      0.0      0.0          90             0   Thursday   \n",
       "3    None  290.13      0.0      0.0          90             0     Friday   \n",
       "4    None  291.14      0.0      0.0          75             0   Saturday   \n",
       "5    None  291.72      0.0      0.0           1             1     Sunday   \n",
       "6    None  293.17      0.0      0.0           1             1     Monday   \n",
       "7    None  293.86      0.0      0.0           1             1    Tuesday   \n",
       "8    None  294.14      0.0      0.0          20             0  Wednesday   \n",
       "9    None  293.10      0.0      0.0          20             0   Thursday   \n",
       "\n",
       "  weather_description         date_time  traffic_volume  \n",
       "0    scattered clouds  02-10-2012 09:00            5545  \n",
       "1       broken clouds  02-10-2012 10:00            4516  \n",
       "2     overcast clouds  02-10-2012 11:00            4767  \n",
       "3     overcast clouds  02-10-2012 12:00            5026  \n",
       "4       broken clouds  02-10-2012 13:00            4918  \n",
       "5        sky is clear  02-10-2012 14:00            5181  \n",
       "6        sky is clear  02-10-2012 15:00            5584  \n",
       "7        sky is clear  02-10-2012 16:00            6015  \n",
       "8          few clouds  02-10-2012 17:00            5791  \n",
       "9          few clouds  02-10-2012 18:00            4770  "
      ]
     },
     "execution_count": 9,
     "metadata": {},
     "output_type": "execute_result"
    }
   ],
   "source": [
    "df.head(10)"
   ]
  },
  {
   "cell_type": "code",
   "execution_count": 10,
   "id": "e98aa720",
   "metadata": {},
   "outputs": [
    {
     "data": {
      "text/plain": [
       "array(['scattered clouds', 'broken clouds', 'overcast clouds',\n",
       "       'sky is clear', 'few clouds', 'light rain',\n",
       "       'light intensity drizzle', 'mist', 'haze', 'fog',\n",
       "       'proximity shower rain', 'drizzle', 'moderate rain',\n",
       "       'heavy intensity rain', 'proximity thunderstorm',\n",
       "       'thunderstorm with light rain', 'proximity thunderstorm with rain',\n",
       "       'heavy snow', 'heavy intensity drizzle', 'snow',\n",
       "       'thunderstorm with heavy rain', 'freezing rain', 'shower snow',\n",
       "       'light rain and snow', 'light intensity shower rain', 'SQUALLS',\n",
       "       'thunderstorm with rain', 'proximity thunderstorm with drizzle',\n",
       "       'thunderstorm', 'Sky is Clear', 'very heavy rain',\n",
       "       'thunderstorm with light drizzle', 'light snow',\n",
       "       'thunderstorm with drizzle', 'smoke', 'shower drizzle',\n",
       "       'light shower snow', 'sleet'], dtype=object)"
      ]
     },
     "execution_count": 10,
     "metadata": {},
     "output_type": "execute_result"
    }
   ],
   "source": [
    "df['weather_description'].unique()"
   ]
  },
  {
   "cell_type": "code",
   "execution_count": 11,
   "id": "c2262a78",
   "metadata": {},
   "outputs": [],
   "source": [
    "encoder= ce.OrdinalEncoder(cols=['weather_description'],return_df=True,\n",
    "                           mapping=[{'col':'weather_description',\n",
    "'mapping':{'scattered clouds':0, 'broken clouds':1, 'overcast clouds':2,\n",
    "       'sky is clear':3, 'few clouds':4, 'light rain':5,\n",
    "       'light intensity drizzle':6, 'mist':7, 'haze':8, 'fog':9,\n",
    "       'proximity shower rain':10, 'drizzle':11, 'moderate rain':12,\n",
    "       'heavy intensity rain':13, 'proximity thunderstorm':14,\n",
    "       'thunderstorm with light rain':15, 'proximity thunderstorm with rain':16,\n",
    "       'heavy snow':17, 'heavy intensity drizzle':18, 'snow':19,\n",
    "       'thunderstorm with heavy rain':20, 'freezing rain':21, 'shower snow':22,\n",
    "       'light rain and snow':23, 'light intensity shower rain':24, 'SQUALLS':25,\n",
    "       'thunderstorm with rain':26, 'proximity thunderstorm with drizzle':27,\n",
    "       'thunderstorm':28, 'Sky is Clear':3, 'very heavy rain':29,\n",
    "       'thunderstorm with light drizzle':30, 'light snow':31,\n",
    "       'thunderstorm with drizzle':32, 'smoke':33, 'shower drizzle':34,\n",
    "       'light shower snow':35, 'sleet':36}}])"
   ]
  },
  {
   "cell_type": "code",
   "execution_count": 12,
   "id": "9a27fe97",
   "metadata": {},
   "outputs": [
    {
     "name": "stderr",
     "output_type": "stream",
     "text": [
      "c:\\users\\dell\\appdata\\local\\programs\\python\\python39\\lib\\site-packages\\category_encoders\\utils.py:21: FutureWarning: is_categorical is deprecated and will be removed in a future version.  Use is_categorical_dtype instead\n",
      "  elif pd.api.types.is_categorical(cols):\n"
     ]
    }
   ],
   "source": [
    "df = encoder.fit_transform(df)"
   ]
  },
  {
   "cell_type": "code",
   "execution_count": 13,
   "id": "6a9b49fb",
   "metadata": {},
   "outputs": [
    {
     "data": {
      "text/html": [
       "<div>\n",
       "<style scoped>\n",
       "    .dataframe tbody tr th:only-of-type {\n",
       "        vertical-align: middle;\n",
       "    }\n",
       "\n",
       "    .dataframe tbody tr th {\n",
       "        vertical-align: top;\n",
       "    }\n",
       "\n",
       "    .dataframe thead th {\n",
       "        text-align: right;\n",
       "    }\n",
       "</style>\n",
       "<table border=\"1\" class=\"dataframe\">\n",
       "  <thead>\n",
       "    <tr style=\"text-align: right;\">\n",
       "      <th></th>\n",
       "      <th>holiday</th>\n",
       "      <th>temp</th>\n",
       "      <th>rain_1h</th>\n",
       "      <th>snow_1h</th>\n",
       "      <th>clouds_all</th>\n",
       "      <th>weather_main</th>\n",
       "      <th>day</th>\n",
       "      <th>weather_description</th>\n",
       "      <th>date_time</th>\n",
       "      <th>traffic_volume</th>\n",
       "    </tr>\n",
       "  </thead>\n",
       "  <tbody>\n",
       "    <tr>\n",
       "      <th>0</th>\n",
       "      <td>None</td>\n",
       "      <td>288.28</td>\n",
       "      <td>0.0</td>\n",
       "      <td>0.0</td>\n",
       "      <td>40</td>\n",
       "      <td>0</td>\n",
       "      <td>Tuesday</td>\n",
       "      <td>0</td>\n",
       "      <td>02-10-2012 09:00</td>\n",
       "      <td>5545</td>\n",
       "    </tr>\n",
       "    <tr>\n",
       "      <th>1</th>\n",
       "      <td>None</td>\n",
       "      <td>289.36</td>\n",
       "      <td>0.0</td>\n",
       "      <td>0.0</td>\n",
       "      <td>75</td>\n",
       "      <td>0</td>\n",
       "      <td>Wednesday</td>\n",
       "      <td>1</td>\n",
       "      <td>02-10-2012 10:00</td>\n",
       "      <td>4516</td>\n",
       "    </tr>\n",
       "    <tr>\n",
       "      <th>2</th>\n",
       "      <td>None</td>\n",
       "      <td>289.58</td>\n",
       "      <td>0.0</td>\n",
       "      <td>0.0</td>\n",
       "      <td>90</td>\n",
       "      <td>0</td>\n",
       "      <td>Thursday</td>\n",
       "      <td>2</td>\n",
       "      <td>02-10-2012 11:00</td>\n",
       "      <td>4767</td>\n",
       "    </tr>\n",
       "    <tr>\n",
       "      <th>3</th>\n",
       "      <td>None</td>\n",
       "      <td>290.13</td>\n",
       "      <td>0.0</td>\n",
       "      <td>0.0</td>\n",
       "      <td>90</td>\n",
       "      <td>0</td>\n",
       "      <td>Friday</td>\n",
       "      <td>2</td>\n",
       "      <td>02-10-2012 12:00</td>\n",
       "      <td>5026</td>\n",
       "    </tr>\n",
       "    <tr>\n",
       "      <th>4</th>\n",
       "      <td>None</td>\n",
       "      <td>291.14</td>\n",
       "      <td>0.0</td>\n",
       "      <td>0.0</td>\n",
       "      <td>75</td>\n",
       "      <td>0</td>\n",
       "      <td>Saturday</td>\n",
       "      <td>1</td>\n",
       "      <td>02-10-2012 13:00</td>\n",
       "      <td>4918</td>\n",
       "    </tr>\n",
       "    <tr>\n",
       "      <th>5</th>\n",
       "      <td>None</td>\n",
       "      <td>291.72</td>\n",
       "      <td>0.0</td>\n",
       "      <td>0.0</td>\n",
       "      <td>1</td>\n",
       "      <td>1</td>\n",
       "      <td>Sunday</td>\n",
       "      <td>3</td>\n",
       "      <td>02-10-2012 14:00</td>\n",
       "      <td>5181</td>\n",
       "    </tr>\n",
       "    <tr>\n",
       "      <th>6</th>\n",
       "      <td>None</td>\n",
       "      <td>293.17</td>\n",
       "      <td>0.0</td>\n",
       "      <td>0.0</td>\n",
       "      <td>1</td>\n",
       "      <td>1</td>\n",
       "      <td>Monday</td>\n",
       "      <td>3</td>\n",
       "      <td>02-10-2012 15:00</td>\n",
       "      <td>5584</td>\n",
       "    </tr>\n",
       "    <tr>\n",
       "      <th>7</th>\n",
       "      <td>None</td>\n",
       "      <td>293.86</td>\n",
       "      <td>0.0</td>\n",
       "      <td>0.0</td>\n",
       "      <td>1</td>\n",
       "      <td>1</td>\n",
       "      <td>Tuesday</td>\n",
       "      <td>3</td>\n",
       "      <td>02-10-2012 16:00</td>\n",
       "      <td>6015</td>\n",
       "    </tr>\n",
       "    <tr>\n",
       "      <th>8</th>\n",
       "      <td>None</td>\n",
       "      <td>294.14</td>\n",
       "      <td>0.0</td>\n",
       "      <td>0.0</td>\n",
       "      <td>20</td>\n",
       "      <td>0</td>\n",
       "      <td>Wednesday</td>\n",
       "      <td>4</td>\n",
       "      <td>02-10-2012 17:00</td>\n",
       "      <td>5791</td>\n",
       "    </tr>\n",
       "    <tr>\n",
       "      <th>9</th>\n",
       "      <td>None</td>\n",
       "      <td>293.10</td>\n",
       "      <td>0.0</td>\n",
       "      <td>0.0</td>\n",
       "      <td>20</td>\n",
       "      <td>0</td>\n",
       "      <td>Thursday</td>\n",
       "      <td>4</td>\n",
       "      <td>02-10-2012 18:00</td>\n",
       "      <td>4770</td>\n",
       "    </tr>\n",
       "    <tr>\n",
       "      <th>10</th>\n",
       "      <td>None</td>\n",
       "      <td>290.97</td>\n",
       "      <td>0.0</td>\n",
       "      <td>0.0</td>\n",
       "      <td>20</td>\n",
       "      <td>0</td>\n",
       "      <td>Friday</td>\n",
       "      <td>4</td>\n",
       "      <td>02-10-2012 19:00</td>\n",
       "      <td>3539</td>\n",
       "    </tr>\n",
       "    <tr>\n",
       "      <th>11</th>\n",
       "      <td>None</td>\n",
       "      <td>289.38</td>\n",
       "      <td>0.0</td>\n",
       "      <td>0.0</td>\n",
       "      <td>1</td>\n",
       "      <td>1</td>\n",
       "      <td>Saturday</td>\n",
       "      <td>3</td>\n",
       "      <td>02-10-2012 20:00</td>\n",
       "      <td>2784</td>\n",
       "    </tr>\n",
       "    <tr>\n",
       "      <th>12</th>\n",
       "      <td>None</td>\n",
       "      <td>288.61</td>\n",
       "      <td>0.0</td>\n",
       "      <td>0.0</td>\n",
       "      <td>1</td>\n",
       "      <td>1</td>\n",
       "      <td>Sunday</td>\n",
       "      <td>3</td>\n",
       "      <td>02-10-2012 21:00</td>\n",
       "      <td>2361</td>\n",
       "    </tr>\n",
       "    <tr>\n",
       "      <th>13</th>\n",
       "      <td>None</td>\n",
       "      <td>287.16</td>\n",
       "      <td>0.0</td>\n",
       "      <td>0.0</td>\n",
       "      <td>1</td>\n",
       "      <td>1</td>\n",
       "      <td>Monday</td>\n",
       "      <td>3</td>\n",
       "      <td>02-10-2012 22:00</td>\n",
       "      <td>1529</td>\n",
       "    </tr>\n",
       "    <tr>\n",
       "      <th>14</th>\n",
       "      <td>None</td>\n",
       "      <td>285.45</td>\n",
       "      <td>0.0</td>\n",
       "      <td>0.0</td>\n",
       "      <td>1</td>\n",
       "      <td>1</td>\n",
       "      <td>Tuesday</td>\n",
       "      <td>3</td>\n",
       "      <td>02-10-2012 23:00</td>\n",
       "      <td>963</td>\n",
       "    </tr>\n",
       "    <tr>\n",
       "      <th>15</th>\n",
       "      <td>None</td>\n",
       "      <td>284.63</td>\n",
       "      <td>0.0</td>\n",
       "      <td>0.0</td>\n",
       "      <td>1</td>\n",
       "      <td>1</td>\n",
       "      <td>Wednesday</td>\n",
       "      <td>3</td>\n",
       "      <td>03-10-2012 00:00</td>\n",
       "      <td>506</td>\n",
       "    </tr>\n",
       "    <tr>\n",
       "      <th>16</th>\n",
       "      <td>None</td>\n",
       "      <td>283.47</td>\n",
       "      <td>0.0</td>\n",
       "      <td>0.0</td>\n",
       "      <td>1</td>\n",
       "      <td>1</td>\n",
       "      <td>Thursday</td>\n",
       "      <td>3</td>\n",
       "      <td>03-10-2012 01:00</td>\n",
       "      <td>321</td>\n",
       "    </tr>\n",
       "    <tr>\n",
       "      <th>17</th>\n",
       "      <td>None</td>\n",
       "      <td>281.18</td>\n",
       "      <td>0.0</td>\n",
       "      <td>0.0</td>\n",
       "      <td>1</td>\n",
       "      <td>1</td>\n",
       "      <td>Friday</td>\n",
       "      <td>3</td>\n",
       "      <td>03-10-2012 02:00</td>\n",
       "      <td>273</td>\n",
       "    </tr>\n",
       "    <tr>\n",
       "      <th>18</th>\n",
       "      <td>None</td>\n",
       "      <td>281.09</td>\n",
       "      <td>0.0</td>\n",
       "      <td>0.0</td>\n",
       "      <td>1</td>\n",
       "      <td>1</td>\n",
       "      <td>Saturday</td>\n",
       "      <td>3</td>\n",
       "      <td>03-10-2012 03:00</td>\n",
       "      <td>367</td>\n",
       "    </tr>\n",
       "    <tr>\n",
       "      <th>19</th>\n",
       "      <td>None</td>\n",
       "      <td>279.53</td>\n",
       "      <td>0.0</td>\n",
       "      <td>0.0</td>\n",
       "      <td>1</td>\n",
       "      <td>1</td>\n",
       "      <td>Sunday</td>\n",
       "      <td>3</td>\n",
       "      <td>03-10-2012 04:00</td>\n",
       "      <td>814</td>\n",
       "    </tr>\n",
       "  </tbody>\n",
       "</table>\n",
       "</div>"
      ],
      "text/plain": [
       "   holiday    temp  rain_1h  snow_1h  clouds_all  weather_main        day  \\\n",
       "0     None  288.28      0.0      0.0          40             0    Tuesday   \n",
       "1     None  289.36      0.0      0.0          75             0  Wednesday   \n",
       "2     None  289.58      0.0      0.0          90             0   Thursday   \n",
       "3     None  290.13      0.0      0.0          90             0     Friday   \n",
       "4     None  291.14      0.0      0.0          75             0   Saturday   \n",
       "5     None  291.72      0.0      0.0           1             1     Sunday   \n",
       "6     None  293.17      0.0      0.0           1             1     Monday   \n",
       "7     None  293.86      0.0      0.0           1             1    Tuesday   \n",
       "8     None  294.14      0.0      0.0          20             0  Wednesday   \n",
       "9     None  293.10      0.0      0.0          20             0   Thursday   \n",
       "10    None  290.97      0.0      0.0          20             0     Friday   \n",
       "11    None  289.38      0.0      0.0           1             1   Saturday   \n",
       "12    None  288.61      0.0      0.0           1             1     Sunday   \n",
       "13    None  287.16      0.0      0.0           1             1     Monday   \n",
       "14    None  285.45      0.0      0.0           1             1    Tuesday   \n",
       "15    None  284.63      0.0      0.0           1             1  Wednesday   \n",
       "16    None  283.47      0.0      0.0           1             1   Thursday   \n",
       "17    None  281.18      0.0      0.0           1             1     Friday   \n",
       "18    None  281.09      0.0      0.0           1             1   Saturday   \n",
       "19    None  279.53      0.0      0.0           1             1     Sunday   \n",
       "\n",
       "    weather_description         date_time  traffic_volume  \n",
       "0                     0  02-10-2012 09:00            5545  \n",
       "1                     1  02-10-2012 10:00            4516  \n",
       "2                     2  02-10-2012 11:00            4767  \n",
       "3                     2  02-10-2012 12:00            5026  \n",
       "4                     1  02-10-2012 13:00            4918  \n",
       "5                     3  02-10-2012 14:00            5181  \n",
       "6                     3  02-10-2012 15:00            5584  \n",
       "7                     3  02-10-2012 16:00            6015  \n",
       "8                     4  02-10-2012 17:00            5791  \n",
       "9                     4  02-10-2012 18:00            4770  \n",
       "10                    4  02-10-2012 19:00            3539  \n",
       "11                    3  02-10-2012 20:00            2784  \n",
       "12                    3  02-10-2012 21:00            2361  \n",
       "13                    3  02-10-2012 22:00            1529  \n",
       "14                    3  02-10-2012 23:00             963  \n",
       "15                    3  03-10-2012 00:00             506  \n",
       "16                    3  03-10-2012 01:00             321  \n",
       "17                    3  03-10-2012 02:00             273  \n",
       "18                    3  03-10-2012 03:00             367  \n",
       "19                    3  03-10-2012 04:00             814  "
      ]
     },
     "execution_count": 13,
     "metadata": {},
     "output_type": "execute_result"
    }
   ],
   "source": [
    "df.head(20)"
   ]
  },
  {
   "cell_type": "code",
   "execution_count": 14,
   "id": "fae5be8e",
   "metadata": {},
   "outputs": [
    {
     "name": "stderr",
     "output_type": "stream",
     "text": [
      "c:\\users\\dell\\appdata\\local\\programs\\python\\python39\\lib\\site-packages\\category_encoders\\utils.py:21: FutureWarning: is_categorical is deprecated and will be removed in a future version.  Use is_categorical_dtype instead\n",
      "  elif pd.api.types.is_categorical(cols):\n"
     ]
    }
   ],
   "source": [
    "encoder= ce.OrdinalEncoder(cols=['day'],return_df=True,\n",
    "                           mapping=[{'col':'day',\n",
    "'mapping':{'Monday':0,'Tuesday':1,'Wednesday':2,'Thursday':3,'Friday':4,'Saturday':5,'Sunday':6}}])\n",
    "df = encoder.fit_transform(df)"
   ]
  },
  {
   "cell_type": "code",
   "execution_count": 15,
   "id": "1b5c0a99",
   "metadata": {},
   "outputs": [
    {
     "data": {
      "text/html": [
       "<div>\n",
       "<style scoped>\n",
       "    .dataframe tbody tr th:only-of-type {\n",
       "        vertical-align: middle;\n",
       "    }\n",
       "\n",
       "    .dataframe tbody tr th {\n",
       "        vertical-align: top;\n",
       "    }\n",
       "\n",
       "    .dataframe thead th {\n",
       "        text-align: right;\n",
       "    }\n",
       "</style>\n",
       "<table border=\"1\" class=\"dataframe\">\n",
       "  <thead>\n",
       "    <tr style=\"text-align: right;\">\n",
       "      <th></th>\n",
       "      <th>holiday</th>\n",
       "      <th>temp</th>\n",
       "      <th>rain_1h</th>\n",
       "      <th>snow_1h</th>\n",
       "      <th>clouds_all</th>\n",
       "      <th>weather_main</th>\n",
       "      <th>day</th>\n",
       "      <th>weather_description</th>\n",
       "      <th>date_time</th>\n",
       "      <th>traffic_volume</th>\n",
       "    </tr>\n",
       "  </thead>\n",
       "  <tbody>\n",
       "    <tr>\n",
       "      <th>0</th>\n",
       "      <td>None</td>\n",
       "      <td>288.28</td>\n",
       "      <td>0.0</td>\n",
       "      <td>0.0</td>\n",
       "      <td>40</td>\n",
       "      <td>0</td>\n",
       "      <td>1</td>\n",
       "      <td>0</td>\n",
       "      <td>02-10-2012 09:00</td>\n",
       "      <td>5545</td>\n",
       "    </tr>\n",
       "    <tr>\n",
       "      <th>1</th>\n",
       "      <td>None</td>\n",
       "      <td>289.36</td>\n",
       "      <td>0.0</td>\n",
       "      <td>0.0</td>\n",
       "      <td>75</td>\n",
       "      <td>0</td>\n",
       "      <td>2</td>\n",
       "      <td>1</td>\n",
       "      <td>02-10-2012 10:00</td>\n",
       "      <td>4516</td>\n",
       "    </tr>\n",
       "    <tr>\n",
       "      <th>2</th>\n",
       "      <td>None</td>\n",
       "      <td>289.58</td>\n",
       "      <td>0.0</td>\n",
       "      <td>0.0</td>\n",
       "      <td>90</td>\n",
       "      <td>0</td>\n",
       "      <td>3</td>\n",
       "      <td>2</td>\n",
       "      <td>02-10-2012 11:00</td>\n",
       "      <td>4767</td>\n",
       "    </tr>\n",
       "    <tr>\n",
       "      <th>3</th>\n",
       "      <td>None</td>\n",
       "      <td>290.13</td>\n",
       "      <td>0.0</td>\n",
       "      <td>0.0</td>\n",
       "      <td>90</td>\n",
       "      <td>0</td>\n",
       "      <td>4</td>\n",
       "      <td>2</td>\n",
       "      <td>02-10-2012 12:00</td>\n",
       "      <td>5026</td>\n",
       "    </tr>\n",
       "    <tr>\n",
       "      <th>4</th>\n",
       "      <td>None</td>\n",
       "      <td>291.14</td>\n",
       "      <td>0.0</td>\n",
       "      <td>0.0</td>\n",
       "      <td>75</td>\n",
       "      <td>0</td>\n",
       "      <td>5</td>\n",
       "      <td>1</td>\n",
       "      <td>02-10-2012 13:00</td>\n",
       "      <td>4918</td>\n",
       "    </tr>\n",
       "    <tr>\n",
       "      <th>...</th>\n",
       "      <td>...</td>\n",
       "      <td>...</td>\n",
       "      <td>...</td>\n",
       "      <td>...</td>\n",
       "      <td>...</td>\n",
       "      <td>...</td>\n",
       "      <td>...</td>\n",
       "      <td>...</td>\n",
       "      <td>...</td>\n",
       "      <td>...</td>\n",
       "    </tr>\n",
       "    <tr>\n",
       "      <th>48199</th>\n",
       "      <td>None</td>\n",
       "      <td>283.45</td>\n",
       "      <td>0.0</td>\n",
       "      <td>0.0</td>\n",
       "      <td>75</td>\n",
       "      <td>0</td>\n",
       "      <td>5</td>\n",
       "      <td>1</td>\n",
       "      <td>30-09-2018 19:00</td>\n",
       "      <td>3543</td>\n",
       "    </tr>\n",
       "    <tr>\n",
       "      <th>48200</th>\n",
       "      <td>None</td>\n",
       "      <td>282.76</td>\n",
       "      <td>0.0</td>\n",
       "      <td>0.0</td>\n",
       "      <td>90</td>\n",
       "      <td>0</td>\n",
       "      <td>6</td>\n",
       "      <td>2</td>\n",
       "      <td>30-09-2018 20:00</td>\n",
       "      <td>2781</td>\n",
       "    </tr>\n",
       "    <tr>\n",
       "      <th>48201</th>\n",
       "      <td>None</td>\n",
       "      <td>282.73</td>\n",
       "      <td>0.0</td>\n",
       "      <td>0.0</td>\n",
       "      <td>90</td>\n",
       "      <td>6</td>\n",
       "      <td>0</td>\n",
       "      <td>14</td>\n",
       "      <td>30-09-2018 21:00</td>\n",
       "      <td>2159</td>\n",
       "    </tr>\n",
       "    <tr>\n",
       "      <th>48202</th>\n",
       "      <td>None</td>\n",
       "      <td>282.09</td>\n",
       "      <td>0.0</td>\n",
       "      <td>0.0</td>\n",
       "      <td>90</td>\n",
       "      <td>0</td>\n",
       "      <td>1</td>\n",
       "      <td>2</td>\n",
       "      <td>30-09-2018 22:00</td>\n",
       "      <td>1450</td>\n",
       "    </tr>\n",
       "    <tr>\n",
       "      <th>48203</th>\n",
       "      <td>None</td>\n",
       "      <td>282.12</td>\n",
       "      <td>0.0</td>\n",
       "      <td>0.0</td>\n",
       "      <td>90</td>\n",
       "      <td>0</td>\n",
       "      <td>2</td>\n",
       "      <td>2</td>\n",
       "      <td>30-09-2018 23:00</td>\n",
       "      <td>954</td>\n",
       "    </tr>\n",
       "  </tbody>\n",
       "</table>\n",
       "<p>48204 rows × 10 columns</p>\n",
       "</div>"
      ],
      "text/plain": [
       "      holiday    temp  rain_1h  snow_1h  clouds_all  weather_main  day  \\\n",
       "0        None  288.28      0.0      0.0          40             0    1   \n",
       "1        None  289.36      0.0      0.0          75             0    2   \n",
       "2        None  289.58      0.0      0.0          90             0    3   \n",
       "3        None  290.13      0.0      0.0          90             0    4   \n",
       "4        None  291.14      0.0      0.0          75             0    5   \n",
       "...       ...     ...      ...      ...         ...           ...  ...   \n",
       "48199    None  283.45      0.0      0.0          75             0    5   \n",
       "48200    None  282.76      0.0      0.0          90             0    6   \n",
       "48201    None  282.73      0.0      0.0          90             6    0   \n",
       "48202    None  282.09      0.0      0.0          90             0    1   \n",
       "48203    None  282.12      0.0      0.0          90             0    2   \n",
       "\n",
       "       weather_description         date_time  traffic_volume  \n",
       "0                        0  02-10-2012 09:00            5545  \n",
       "1                        1  02-10-2012 10:00            4516  \n",
       "2                        2  02-10-2012 11:00            4767  \n",
       "3                        2  02-10-2012 12:00            5026  \n",
       "4                        1  02-10-2012 13:00            4918  \n",
       "...                    ...               ...             ...  \n",
       "48199                    1  30-09-2018 19:00            3543  \n",
       "48200                    2  30-09-2018 20:00            2781  \n",
       "48201                   14  30-09-2018 21:00            2159  \n",
       "48202                    2  30-09-2018 22:00            1450  \n",
       "48203                    2  30-09-2018 23:00             954  \n",
       "\n",
       "[48204 rows x 10 columns]"
      ]
     },
     "execution_count": 15,
     "metadata": {},
     "output_type": "execute_result"
    }
   ],
   "source": [
    "df"
   ]
  },
  {
   "cell_type": "code",
   "execution_count": 16,
   "id": "0ab66525",
   "metadata": {},
   "outputs": [],
   "source": [
    "# drop holiday , rain_1h , snow_1h as they are always 0\n",
    "\n",
    "df = df.drop(['holiday','rain_1h','snow_1h'], axis = 1)\n"
   ]
  },
  {
   "cell_type": "code",
   "execution_count": 17,
   "id": "bf4512c6",
   "metadata": {},
   "outputs": [],
   "source": [
    "dat= pd.to_datetime(df.date_time, format='%d-%m-%Y %H:%M')"
   ]
  },
  {
   "cell_type": "code",
   "execution_count": 18,
   "id": "5b676772",
   "metadata": {},
   "outputs": [
    {
     "data": {
      "text/html": [
       "<div>\n",
       "<style scoped>\n",
       "    .dataframe tbody tr th:only-of-type {\n",
       "        vertical-align: middle;\n",
       "    }\n",
       "\n",
       "    .dataframe tbody tr th {\n",
       "        vertical-align: top;\n",
       "    }\n",
       "\n",
       "    .dataframe thead th {\n",
       "        text-align: right;\n",
       "    }\n",
       "</style>\n",
       "<table border=\"1\" class=\"dataframe\">\n",
       "  <thead>\n",
       "    <tr style=\"text-align: right;\">\n",
       "      <th></th>\n",
       "      <th>date_time</th>\n",
       "    </tr>\n",
       "  </thead>\n",
       "  <tbody>\n",
       "    <tr>\n",
       "      <th>0</th>\n",
       "      <td>2012-10-02 09:00:00</td>\n",
       "    </tr>\n",
       "    <tr>\n",
       "      <th>1</th>\n",
       "      <td>2012-10-02 10:00:00</td>\n",
       "    </tr>\n",
       "    <tr>\n",
       "      <th>2</th>\n",
       "      <td>2012-10-02 11:00:00</td>\n",
       "    </tr>\n",
       "    <tr>\n",
       "      <th>3</th>\n",
       "      <td>2012-10-02 12:00:00</td>\n",
       "    </tr>\n",
       "    <tr>\n",
       "      <th>4</th>\n",
       "      <td>2012-10-02 13:00:00</td>\n",
       "    </tr>\n",
       "    <tr>\n",
       "      <th>...</th>\n",
       "      <td>...</td>\n",
       "    </tr>\n",
       "    <tr>\n",
       "      <th>48199</th>\n",
       "      <td>2018-09-30 19:00:00</td>\n",
       "    </tr>\n",
       "    <tr>\n",
       "      <th>48200</th>\n",
       "      <td>2018-09-30 20:00:00</td>\n",
       "    </tr>\n",
       "    <tr>\n",
       "      <th>48201</th>\n",
       "      <td>2018-09-30 21:00:00</td>\n",
       "    </tr>\n",
       "    <tr>\n",
       "      <th>48202</th>\n",
       "      <td>2018-09-30 22:00:00</td>\n",
       "    </tr>\n",
       "    <tr>\n",
       "      <th>48203</th>\n",
       "      <td>2018-09-30 23:00:00</td>\n",
       "    </tr>\n",
       "  </tbody>\n",
       "</table>\n",
       "<p>48204 rows × 1 columns</p>\n",
       "</div>"
      ],
      "text/plain": [
       "                date_time\n",
       "0     2012-10-02 09:00:00\n",
       "1     2012-10-02 10:00:00\n",
       "2     2012-10-02 11:00:00\n",
       "3     2012-10-02 12:00:00\n",
       "4     2012-10-02 13:00:00\n",
       "...                   ...\n",
       "48199 2018-09-30 19:00:00\n",
       "48200 2018-09-30 20:00:00\n",
       "48201 2018-09-30 21:00:00\n",
       "48202 2018-09-30 22:00:00\n",
       "48203 2018-09-30 23:00:00\n",
       "\n",
       "[48204 rows x 1 columns]"
      ]
     },
     "execution_count": 18,
     "metadata": {},
     "output_type": "execute_result"
    }
   ],
   "source": [
    "type(dat)\n",
    "dat = dat.to_frame()\n",
    "dat"
   ]
  },
  {
   "cell_type": "code",
   "execution_count": 19,
   "id": "25512c2a",
   "metadata": {},
   "outputs": [],
   "source": [
    "dat['year'] = dat['date_time'].dt.year\n",
    "dat['month'] = dat['date_time'].dt.month\n",
    "dat['day'] = dat['date_time'].dt.day\n",
    "dat['hour'] = dat['date_time'].dt.hour"
   ]
  },
  {
   "cell_type": "code",
   "execution_count": 20,
   "id": "f267d5d5",
   "metadata": {},
   "outputs": [
    {
     "data": {
      "text/html": [
       "<div>\n",
       "<style scoped>\n",
       "    .dataframe tbody tr th:only-of-type {\n",
       "        vertical-align: middle;\n",
       "    }\n",
       "\n",
       "    .dataframe tbody tr th {\n",
       "        vertical-align: top;\n",
       "    }\n",
       "\n",
       "    .dataframe thead th {\n",
       "        text-align: right;\n",
       "    }\n",
       "</style>\n",
       "<table border=\"1\" class=\"dataframe\">\n",
       "  <thead>\n",
       "    <tr style=\"text-align: right;\">\n",
       "      <th></th>\n",
       "      <th>date_time</th>\n",
       "      <th>year</th>\n",
       "      <th>month</th>\n",
       "      <th>day</th>\n",
       "      <th>hour</th>\n",
       "    </tr>\n",
       "  </thead>\n",
       "  <tbody>\n",
       "    <tr>\n",
       "      <th>0</th>\n",
       "      <td>2012-10-02 09:00:00</td>\n",
       "      <td>2012</td>\n",
       "      <td>10</td>\n",
       "      <td>2</td>\n",
       "      <td>9</td>\n",
       "    </tr>\n",
       "    <tr>\n",
       "      <th>1</th>\n",
       "      <td>2012-10-02 10:00:00</td>\n",
       "      <td>2012</td>\n",
       "      <td>10</td>\n",
       "      <td>2</td>\n",
       "      <td>10</td>\n",
       "    </tr>\n",
       "    <tr>\n",
       "      <th>2</th>\n",
       "      <td>2012-10-02 11:00:00</td>\n",
       "      <td>2012</td>\n",
       "      <td>10</td>\n",
       "      <td>2</td>\n",
       "      <td>11</td>\n",
       "    </tr>\n",
       "    <tr>\n",
       "      <th>3</th>\n",
       "      <td>2012-10-02 12:00:00</td>\n",
       "      <td>2012</td>\n",
       "      <td>10</td>\n",
       "      <td>2</td>\n",
       "      <td>12</td>\n",
       "    </tr>\n",
       "    <tr>\n",
       "      <th>4</th>\n",
       "      <td>2012-10-02 13:00:00</td>\n",
       "      <td>2012</td>\n",
       "      <td>10</td>\n",
       "      <td>2</td>\n",
       "      <td>13</td>\n",
       "    </tr>\n",
       "    <tr>\n",
       "      <th>...</th>\n",
       "      <td>...</td>\n",
       "      <td>...</td>\n",
       "      <td>...</td>\n",
       "      <td>...</td>\n",
       "      <td>...</td>\n",
       "    </tr>\n",
       "    <tr>\n",
       "      <th>48199</th>\n",
       "      <td>2018-09-30 19:00:00</td>\n",
       "      <td>2018</td>\n",
       "      <td>9</td>\n",
       "      <td>30</td>\n",
       "      <td>19</td>\n",
       "    </tr>\n",
       "    <tr>\n",
       "      <th>48200</th>\n",
       "      <td>2018-09-30 20:00:00</td>\n",
       "      <td>2018</td>\n",
       "      <td>9</td>\n",
       "      <td>30</td>\n",
       "      <td>20</td>\n",
       "    </tr>\n",
       "    <tr>\n",
       "      <th>48201</th>\n",
       "      <td>2018-09-30 21:00:00</td>\n",
       "      <td>2018</td>\n",
       "      <td>9</td>\n",
       "      <td>30</td>\n",
       "      <td>21</td>\n",
       "    </tr>\n",
       "    <tr>\n",
       "      <th>48202</th>\n",
       "      <td>2018-09-30 22:00:00</td>\n",
       "      <td>2018</td>\n",
       "      <td>9</td>\n",
       "      <td>30</td>\n",
       "      <td>22</td>\n",
       "    </tr>\n",
       "    <tr>\n",
       "      <th>48203</th>\n",
       "      <td>2018-09-30 23:00:00</td>\n",
       "      <td>2018</td>\n",
       "      <td>9</td>\n",
       "      <td>30</td>\n",
       "      <td>23</td>\n",
       "    </tr>\n",
       "  </tbody>\n",
       "</table>\n",
       "<p>48204 rows × 5 columns</p>\n",
       "</div>"
      ],
      "text/plain": [
       "                date_time  year  month  day  hour\n",
       "0     2012-10-02 09:00:00  2012     10    2     9\n",
       "1     2012-10-02 10:00:00  2012     10    2    10\n",
       "2     2012-10-02 11:00:00  2012     10    2    11\n",
       "3     2012-10-02 12:00:00  2012     10    2    12\n",
       "4     2012-10-02 13:00:00  2012     10    2    13\n",
       "...                   ...   ...    ...  ...   ...\n",
       "48199 2018-09-30 19:00:00  2018      9   30    19\n",
       "48200 2018-09-30 20:00:00  2018      9   30    20\n",
       "48201 2018-09-30 21:00:00  2018      9   30    21\n",
       "48202 2018-09-30 22:00:00  2018      9   30    22\n",
       "48203 2018-09-30 23:00:00  2018      9   30    23\n",
       "\n",
       "[48204 rows x 5 columns]"
      ]
     },
     "execution_count": 20,
     "metadata": {},
     "output_type": "execute_result"
    }
   ],
   "source": [
    "dat"
   ]
  },
  {
   "cell_type": "code",
   "execution_count": 21,
   "id": "6e07cc87",
   "metadata": {},
   "outputs": [
    {
     "data": {
      "text/html": [
       "<div>\n",
       "<style scoped>\n",
       "    .dataframe tbody tr th:only-of-type {\n",
       "        vertical-align: middle;\n",
       "    }\n",
       "\n",
       "    .dataframe tbody tr th {\n",
       "        vertical-align: top;\n",
       "    }\n",
       "\n",
       "    .dataframe thead th {\n",
       "        text-align: right;\n",
       "    }\n",
       "</style>\n",
       "<table border=\"1\" class=\"dataframe\">\n",
       "  <thead>\n",
       "    <tr style=\"text-align: right;\">\n",
       "      <th></th>\n",
       "      <th>temp</th>\n",
       "      <th>clouds_all</th>\n",
       "      <th>weather_main</th>\n",
       "      <th>day</th>\n",
       "      <th>weather_description</th>\n",
       "      <th>date_time</th>\n",
       "      <th>traffic_volume</th>\n",
       "    </tr>\n",
       "  </thead>\n",
       "  <tbody>\n",
       "    <tr>\n",
       "      <th>0</th>\n",
       "      <td>288.28</td>\n",
       "      <td>40</td>\n",
       "      <td>0</td>\n",
       "      <td>1</td>\n",
       "      <td>0</td>\n",
       "      <td>02-10-2012 09:00</td>\n",
       "      <td>5545</td>\n",
       "    </tr>\n",
       "    <tr>\n",
       "      <th>1</th>\n",
       "      <td>289.36</td>\n",
       "      <td>75</td>\n",
       "      <td>0</td>\n",
       "      <td>2</td>\n",
       "      <td>1</td>\n",
       "      <td>02-10-2012 10:00</td>\n",
       "      <td>4516</td>\n",
       "    </tr>\n",
       "    <tr>\n",
       "      <th>2</th>\n",
       "      <td>289.58</td>\n",
       "      <td>90</td>\n",
       "      <td>0</td>\n",
       "      <td>3</td>\n",
       "      <td>2</td>\n",
       "      <td>02-10-2012 11:00</td>\n",
       "      <td>4767</td>\n",
       "    </tr>\n",
       "    <tr>\n",
       "      <th>3</th>\n",
       "      <td>290.13</td>\n",
       "      <td>90</td>\n",
       "      <td>0</td>\n",
       "      <td>4</td>\n",
       "      <td>2</td>\n",
       "      <td>02-10-2012 12:00</td>\n",
       "      <td>5026</td>\n",
       "    </tr>\n",
       "    <tr>\n",
       "      <th>4</th>\n",
       "      <td>291.14</td>\n",
       "      <td>75</td>\n",
       "      <td>0</td>\n",
       "      <td>5</td>\n",
       "      <td>1</td>\n",
       "      <td>02-10-2012 13:00</td>\n",
       "      <td>4918</td>\n",
       "    </tr>\n",
       "    <tr>\n",
       "      <th>...</th>\n",
       "      <td>...</td>\n",
       "      <td>...</td>\n",
       "      <td>...</td>\n",
       "      <td>...</td>\n",
       "      <td>...</td>\n",
       "      <td>...</td>\n",
       "      <td>...</td>\n",
       "    </tr>\n",
       "    <tr>\n",
       "      <th>48199</th>\n",
       "      <td>283.45</td>\n",
       "      <td>75</td>\n",
       "      <td>0</td>\n",
       "      <td>5</td>\n",
       "      <td>1</td>\n",
       "      <td>30-09-2018 19:00</td>\n",
       "      <td>3543</td>\n",
       "    </tr>\n",
       "    <tr>\n",
       "      <th>48200</th>\n",
       "      <td>282.76</td>\n",
       "      <td>90</td>\n",
       "      <td>0</td>\n",
       "      <td>6</td>\n",
       "      <td>2</td>\n",
       "      <td>30-09-2018 20:00</td>\n",
       "      <td>2781</td>\n",
       "    </tr>\n",
       "    <tr>\n",
       "      <th>48201</th>\n",
       "      <td>282.73</td>\n",
       "      <td>90</td>\n",
       "      <td>6</td>\n",
       "      <td>0</td>\n",
       "      <td>14</td>\n",
       "      <td>30-09-2018 21:00</td>\n",
       "      <td>2159</td>\n",
       "    </tr>\n",
       "    <tr>\n",
       "      <th>48202</th>\n",
       "      <td>282.09</td>\n",
       "      <td>90</td>\n",
       "      <td>0</td>\n",
       "      <td>1</td>\n",
       "      <td>2</td>\n",
       "      <td>30-09-2018 22:00</td>\n",
       "      <td>1450</td>\n",
       "    </tr>\n",
       "    <tr>\n",
       "      <th>48203</th>\n",
       "      <td>282.12</td>\n",
       "      <td>90</td>\n",
       "      <td>0</td>\n",
       "      <td>2</td>\n",
       "      <td>2</td>\n",
       "      <td>30-09-2018 23:00</td>\n",
       "      <td>954</td>\n",
       "    </tr>\n",
       "  </tbody>\n",
       "</table>\n",
       "<p>48204 rows × 7 columns</p>\n",
       "</div>"
      ],
      "text/plain": [
       "         temp  clouds_all  weather_main  day  weather_description  \\\n",
       "0      288.28          40             0    1                    0   \n",
       "1      289.36          75             0    2                    1   \n",
       "2      289.58          90             0    3                    2   \n",
       "3      290.13          90             0    4                    2   \n",
       "4      291.14          75             0    5                    1   \n",
       "...       ...         ...           ...  ...                  ...   \n",
       "48199  283.45          75             0    5                    1   \n",
       "48200  282.76          90             0    6                    2   \n",
       "48201  282.73          90             6    0                   14   \n",
       "48202  282.09          90             0    1                    2   \n",
       "48203  282.12          90             0    2                    2   \n",
       "\n",
       "              date_time  traffic_volume  \n",
       "0      02-10-2012 09:00            5545  \n",
       "1      02-10-2012 10:00            4516  \n",
       "2      02-10-2012 11:00            4767  \n",
       "3      02-10-2012 12:00            5026  \n",
       "4      02-10-2012 13:00            4918  \n",
       "...                 ...             ...  \n",
       "48199  30-09-2018 19:00            3543  \n",
       "48200  30-09-2018 20:00            2781  \n",
       "48201  30-09-2018 21:00            2159  \n",
       "48202  30-09-2018 22:00            1450  \n",
       "48203  30-09-2018 23:00             954  \n",
       "\n",
       "[48204 rows x 7 columns]"
      ]
     },
     "execution_count": 21,
     "metadata": {},
     "output_type": "execute_result"
    }
   ],
   "source": [
    "df"
   ]
  },
  {
   "cell_type": "code",
   "execution_count": 46,
   "id": "2f1f0d99",
   "metadata": {},
   "outputs": [],
   "source": [
    "#df = df[(df[\"day\"] == 6)]"
   ]
  },
  {
   "cell_type": "code",
   "execution_count": null,
   "id": "9941649b",
   "metadata": {},
   "outputs": [],
   "source": []
  },
  {
   "cell_type": "code",
   "execution_count": 22,
   "id": "5838118a",
   "metadata": {},
   "outputs": [],
   "source": [
    "df = df.values\n",
    "dat=dat.values"
   ]
  },
  {
   "cell_type": "code",
   "execution_count": 23,
   "id": "913b8a60",
   "metadata": {},
   "outputs": [],
   "source": [
    "a = df[:,0:5]\n",
    "b = dat[:,1:]\n",
    "x = np.hstack((b,a))\n",
    "y = df[:,-1]"
   ]
  },
  {
   "cell_type": "code",
   "execution_count": 24,
   "id": "0a5e3e1f",
   "metadata": {},
   "outputs": [
    {
     "data": {
      "text/plain": [
       "(48204, 5)"
      ]
     },
     "execution_count": 24,
     "metadata": {},
     "output_type": "execute_result"
    }
   ],
   "source": [
    "dat.shape"
   ]
  },
  {
   "cell_type": "code",
   "execution_count": 25,
   "id": "d990b4cd",
   "metadata": {},
   "outputs": [
    {
     "name": "stdout",
     "output_type": "stream",
     "text": [
      "[[2012 10 2 ... 0 1 0]\n",
      " [2012 10 2 ... 0 2 1]\n",
      " [2012 10 2 ... 0 3 2]\n",
      " ...\n",
      " [2018 9 30 ... 6 0 14]\n",
      " [2018 9 30 ... 0 1 2]\n",
      " [2018 9 30 ... 0 2 2]]\n",
      "[5545 4516 4767 ... 2159 1450 954]\n",
      "(48204, 9)\n"
     ]
    }
   ],
   "source": [
    "print(x)\n",
    "print(y)\n",
    "print(x.shape)"
   ]
  },
  {
   "cell_type": "code",
   "execution_count": 26,
   "id": "ff75341b",
   "metadata": {},
   "outputs": [
    {
     "name": "stdout",
     "output_type": "stream",
     "text": [
      "[[2012 10 2 9 288.28 40 0 1 0]\n",
      " [2012 10 2 10 289.36 75 0 2 1]\n",
      " [2012 10 2 11 289.58 90 0 3 2]\n",
      " [2012 10 2 12 290.13 90 0 4 2]\n",
      " [2012 10 2 13 291.14 75 0 5 1]]\n"
     ]
    }
   ],
   "source": [
    "print(x[0:5,:])"
   ]
  },
  {
   "cell_type": "code",
   "execution_count": 27,
   "id": "525216e4",
   "metadata": {},
   "outputs": [
    {
     "name": "stdout",
     "output_type": "stream",
     "text": [
      "[[2012 10 2 ... 0 1 0]\n",
      " [2012 10 2 ... 0 2 1]\n",
      " [2012 10 2 ... 0 3 2]\n",
      " ...\n",
      " [2017 9 30 ... 0 3 1]\n",
      " [2017 9 30 ... 0 4 0]\n",
      " [2017 9 30 ... 0 5 1]]\n"
     ]
    }
   ],
   "source": [
    "X = x[0:37602]\n",
    "print(X)"
   ]
  },
  {
   "cell_type": "code",
   "execution_count": 28,
   "id": "dfe38cfa",
   "metadata": {},
   "outputs": [
    {
     "name": "stdout",
     "output_type": "stream",
     "text": [
      "(37602,) (37602, 9)\n"
     ]
    }
   ],
   "source": [
    "Y = y[0:37602]\n",
    "print(Y.shape,X.shape)"
   ]
  },
  {
   "cell_type": "code",
   "execution_count": 29,
   "id": "250d8cfb",
   "metadata": {},
   "outputs": [
    {
     "data": {
      "image/png": "[encoded data removed]",
      "text/plain": [
       "<Figure size 432x288 with 1 Axes>"
      ]
     },
     "metadata": {
      "needs_background": "light"
     },
     "output_type": "display_data"
    }
   ],
   "source": [
    "plt.plot(Y[0:10000],c = 'green',label = 'actual')\n",
    "plt.xlabel('time')\n",
    "plt.ylabel('traffic')\n",
    "\n",
    "plt.show()"
   ]
  },
  {
   "cell_type": "code",
   "execution_count": 30,
   "id": "bc46b24e",
   "metadata": {},
   "outputs": [],
   "source": [
    "X_to = X[:,:]"
   ]
  },
  {
   "cell_type": "code",
   "execution_count": 31,
   "id": "5f5f4648",
   "metadata": {},
   "outputs": [
    {
     "name": "stdout",
     "output_type": "stream",
     "text": [
      "97.82283167703902\n"
     ]
    }
   ],
   "source": [
    "from sklearn.ensemble import RandomForestRegressor\n",
    "rt = RandomForestRegressor(n_estimators = 500, random_state = 0)\n",
    "rt.fit(X,Y)\n",
    "print(rt.score(X, Y)*100)"
   ]
  },
  {
   "cell_type": "code",
   "execution_count": 32,
   "id": "72afb844",
   "metadata": {},
   "outputs": [
    {
     "name": "stdout",
     "output_type": "stream",
     "text": [
      "(10601, 9) (10601,)\n"
     ]
    }
   ],
   "source": [
    "x_test = x[37603:,:]\n",
    "y_test = y[37603:48204]\n",
    "print(x_test.shape,y_test.shape)\n",
    "y.shape\n",
    "x_test2=x_test[:,4:]"
   ]
  },
  {
   "cell_type": "code",
   "execution_count": 33,
   "id": "d21b7363",
   "metadata": {},
   "outputs": [
    {
     "data": {
      "text/plain": [
       "77.4098764528352"
      ]
     },
     "execution_count": 33,
     "metadata": {},
     "output_type": "execute_result"
    }
   ],
   "source": [
    "rt.score(x_test,y_test)*100"
   ]
  },
  {
   "cell_type": "code",
   "execution_count": 34,
   "id": "346ac2d9",
   "metadata": {},
   "outputs": [],
   "source": [
    "pred = rt.predict(x_test)"
   ]
  },
  {
   "cell_type": "code",
   "execution_count": 35,
   "id": "56085763",
   "metadata": {},
   "outputs": [
    {
     "name": "stdout",
     "output_type": "stream",
     "text": [
      "937.7176687913687\n",
      "879314.426363519\n"
     ]
    }
   ],
   "source": [
    "import math\n",
    "MSE = np.square(np.subtract(y_test,pred)).mean() \n",
    "RMSE = math.sqrt(MSE)\n",
    "print(RMSE)\n",
    "print(MSE)"
   ]
  },
  {
   "cell_type": "code",
   "execution_count": 36,
   "id": "188ba570",
   "metadata": {},
   "outputs": [
    {
     "name": "stdout",
     "output_type": "stream",
     "text": [
      "0.18578695067958195\n"
     ]
    }
   ],
   "source": [
    "adr = (np.sum(np.subtract(pred,y_test)/y_test))/10601\n",
    "print(adr)"
   ]
  },
  {
   "cell_type": "markdown",
   "id": "5ee2c868",
   "metadata": {},
   "source": [
    "# improved accuracy"
   ]
  },
  {
   "cell_type": "code",
   "execution_count": 63,
   "id": "6a7afd14",
   "metadata": {},
   "outputs": [],
   "source": [
    "x_test1 = x[38950:39000,:]\n",
    "y_test1 = y[38950:39000]"
   ]
  },
  {
   "cell_type": "code",
   "execution_count": 64,
   "id": "c397ff41",
   "metadata": {},
   "outputs": [
    {
     "data": {
      "text/plain": [
       "0.9171040720563162"
      ]
     },
     "execution_count": 64,
     "metadata": {},
     "output_type": "execute_result"
    }
   ],
   "source": [
    "rt.score(x_test1,y_test1)"
   ]
  },
  {
   "cell_type": "code",
   "execution_count": 65,
   "id": "3cd76018",
   "metadata": {},
   "outputs": [
    {
     "data": {
      "text/plain": [
       "Text(0, 0.5, 'traffic')"
      ]
     },
     "execution_count": 65,
     "metadata": {},
     "output_type": "execute_result"
    },
    {
     "data": {
      "image/png": "[encoded data removed]",
      "text/plain": [
       "<Figure size 432x288 with 1 Axes>"
      ]
     },
     "metadata": {
      "needs_background": "light"
     },
     "output_type": "display_data"
    }
   ],
   "source": [
    "p = rt.predict(x_test1)\n",
    "plt.plot(p,label='predictions')\n",
    "plt.plot(y_test1,label='truth')\n",
    "plt.legend()\n",
    "plt.xlabel('time in hours')\n",
    "plt.ylabel('traffic')\n"
   ]
  },
  {
   "cell_type": "code",
   "execution_count": 66,
   "id": "6cdd458e",
   "metadata": {},
   "outputs": [
    {
     "name": "stdout",
     "output_type": "stream",
     "text": [
      "[[2017 11 5 ... 0 5 2]\n",
      " [2017 11 5 ... 0 6 2]\n",
      " [2017 11 5 ... 0 0 2]\n",
      " ...\n",
      " [2017 11 16 ... 0 1 2]\n",
      " [2017 11 16 ... 0 2 2]\n",
      " [2017 11 16 ... 0 3 2]]\n"
     ]
    }
   ],
   "source": [
    "x_test2 = x[38700:39000,:]\n",
    "y_test2 = y[38700:39000]\n",
    "print(x_test2)"
   ]
  },
  {
   "cell_type": "code",
   "execution_count": 67,
   "id": "1e09447e",
   "metadata": {},
   "outputs": [
    {
     "data": {
      "text/plain": [
       "0.8653893609655943"
      ]
     },
     "execution_count": 67,
     "metadata": {},
     "output_type": "execute_result"
    }
   ],
   "source": [
    "rt.score(x_test2,y_test2)"
   ]
  },
  {
   "cell_type": "code",
   "execution_count": 68,
   "id": "e2aad983",
   "metadata": {},
   "outputs": [
    {
     "data": {
      "text/plain": [
       "Text(0, 0.5, 'traffic')"
      ]
     },
     "execution_count": 68,
     "metadata": {},
     "output_type": "execute_result"
    },
    {
     "data": {
      "image/png": "[encoded data removed]",
      "text/plain": [
       "<Figure size 432x288 with 1 Axes>"
      ]
     },
     "metadata": {
      "needs_background": "light"
     },
     "output_type": "display_data"
    }
   ],
   "source": [
    "p = rt.predict(x_test2)\n",
    "plt.plot(p,label='predictions')\n",
    "plt.plot(y_test2,label='truth')\n",
    "plt.legend()\n",
    "plt.xlabel('time in hours')\n",
    "plt.ylabel('traffic')"
   ]
  },
  {
   "cell_type": "code",
   "execution_count": 69,
   "id": "228539cb",
   "metadata": {},
   "outputs": [],
   "source": [
    "predic= rt.predict(x_test2)"
   ]
  },
  {
   "cell_type": "code",
   "execution_count": 72,
   "id": "960c6055",
   "metadata": {},
   "outputs": [
    {
     "name": "stdout",
     "output_type": "stream",
     "text": [
      "771.3751941260316\n",
      "595019.690112973\n"
     ]
    }
   ],
   "source": [
    "import math\n",
    "MSE = np.square(np.subtract(y_test2,predic)).mean() \n",
    "RMSE = math.sqrt(MSE)\n",
    "print(RMSE)\n",
    "print(MSE)"
   ]
  },
  {
   "cell_type": "code",
   "execution_count": 73,
   "id": "4cdccd5c",
   "metadata": {},
   "outputs": [],
   "source": [
    "x_test3 = x[38900:39000,:]\n",
    "y_test3 = y[38900:39000]\n",
    "#print(x_test3)"
   ]
  },
  {
   "cell_type": "code",
   "execution_count": 74,
   "id": "059c7e21",
   "metadata": {},
   "outputs": [
    {
     "data": {
      "text/plain": [
       "0.9035112450760308"
      ]
     },
     "execution_count": 74,
     "metadata": {},
     "output_type": "execute_result"
    }
   ],
   "source": [
    "rt.score(x_test3,y_test3)\n"
   ]
  },
  {
   "cell_type": "code",
   "execution_count": 75,
   "id": "1ff70f55",
   "metadata": {},
   "outputs": [
    {
     "data": {
      "text/plain": [
       "Text(0, 0.5, 'traffic')"
      ]
     },
     "execution_count": 75,
     "metadata": {},
     "output_type": "execute_result"
    },
    {
     "data": {
      "image/png": "[encoded data removed]",
      "text/plain": [
       "<Figure size 432x288 with 1 Axes>"
      ]
     },
     "metadata": {
      "needs_background": "light"
     },
     "output_type": "display_data"
    }
   ],
   "source": [
    "p = rt.predict(x_test3)\n",
    "plt.plot(p,label='predictions')\n",
    "plt.plot(y_test3,label='truth')\n",
    "plt.legend()\n",
    "plt.xlabel('time in hours')\n",
    "plt.ylabel('traffic')"
   ]
  },
  {
   "cell_type": "code",
   "execution_count": 77,
   "id": "61ea3ff0",
   "metadata": {},
   "outputs": [
    {
     "name": "stdout",
     "output_type": "stream",
     "text": [
      "689.5430596391499\n"
     ]
    }
   ],
   "source": [
    "MSE = np.square(np.subtract(y_test3,predi)).mean() \n",
    "RMSE = math.sqrt(MSE)\n",
    "print(RMSE)"
   ]
  },
  {
   "cell_type": "code",
   "execution_count": 76,
   "id": "01a8c564",
   "metadata": {},
   "outputs": [],
   "source": [
    "predi=rt.predict(x_test3)"
   ]
  },
  {
   "cell_type": "code",
   "execution_count": null,
   "id": "157f888a",
   "metadata": {},
   "outputs": [],
   "source": []
  },
  {
   "cell_type": "code",
   "execution_count": 111,
   "id": "2654d2dc",
   "metadata": {},
   "outputs": [
    {
     "name": "stdout",
     "output_type": "stream",
     "text": [
      "97.8261637984831\n"
     ]
    }
   ],
   "source": [
    "X = x[:39400,:]\n",
    "Y= y[:39400]\n",
    "from sklearn.ensemble import RandomForestRegressor\n",
    "rt = RandomForestRegressor(n_estimators = 500, random_state = 0)\n",
    "rt.fit(X,Y)\n",
    "print(rt.score(X, Y)*100)"
   ]
  },
  {
   "cell_type": "code",
   "execution_count": 38,
   "id": "3e1d846d",
   "metadata": {},
   "outputs": [
    {
     "name": "stdout",
     "output_type": "stream",
     "text": [
      "0.9171040720563162\n",
      "675.9297872773474\n"
     ]
    }
   ],
   "source": [
    "x_test1 = x[38950:39000,:]\n",
    "y_test1 = y[38950:39000]\n",
    "print(rt.score(x_test1,y_test1))\n",
    "\n",
    "p=rt.predict(x_test1)\n",
    "MSE = np.square(np.subtract(y_test1,p)).mean() \n",
    "RMSE = math.sqrt(MSE)\n",
    "print(RMSE)"
   ]
  },
  {
   "cell_type": "code",
   "execution_count": 39,
   "id": "e03252b5",
   "metadata": {},
   "outputs": [
    {
     "data": {
      "text/plain": [
       "Text(0, 0.5, 'traffic')"
      ]
     },
     "execution_count": 39,
     "metadata": {},
     "output_type": "execute_result"
    },
    {
     "data": {
      "image/png": "[encoded data removed]",
      "text/plain": [
       "<Figure size 432x288 with 1 Axes>"
      ]
     },
     "metadata": {
      "needs_background": "light"
     },
     "output_type": "display_data"
    }
   ],
   "source": [
    "p = rt.predict(x_test1)\n",
    "plt.plot(p,label='predictions')\n",
    "plt.plot(y_test1,label='truth')\n",
    "plt.legend()\n",
    "plt.xlabel('time in hours')\n",
    "plt.ylabel('traffic')"
   ]
  },
  {
   "cell_type": "code",
   "execution_count": 45,
   "id": "11bd8f1e",
   "metadata": {},
   "outputs": [
    {
     "name": "stdout",
     "output_type": "stream",
     "text": [
      "[6015 6580 6104 5379 4687 4924 5043 4945 5221 5919 6923 6325]\n"
     ]
    }
   ],
   "source": [
    "print(y_test1[18:30])"
   ]
  },
  {
   "cell_type": "code",
   "execution_count": 62,
   "id": "e30e6e52",
   "metadata": {},
   "outputs": [
    {
     "name": "stdout",
     "output_type": "stream",
     "text": [
      "[2766 5639 5639 5697 5697 4800 5325 5325 4183 4349 4451 4730]\n"
     ]
    }
   ],
   "source": [
    "y_test2 = y[28077:28127]\n",
    "print(y_test2[18:30])\n",
    "x_test2 = x[28077:28127,:]\n",
    "# print(x_test2)"
   ]
  },
  {
   "cell_type": "code",
   "execution_count": 54,
   "id": "c8eb8810",
   "metadata": {},
   "outputs": [
    {
     "data": {
      "text/plain": [
       "array([[2017, 11, 14, 23, 279.61, 90, 4, 3, 7],\n",
       "       [2017, 11, 14, 23, 279.61, 90, 2, 4, 5],\n",
       "       [2017, 11, 14, 23, 279.61, 90, 5, 5, 9],\n",
       "       [2017, 11, 15, 0, 279.62, 90, 3, 6, 11],\n",
       "       [2017, 11, 15, 0, 279.62, 90, 4, 0, 7],\n",
       "       [2017, 11, 15, 0, 279.62, 90, 2, 1, 5],\n",
       "       [2017, 11, 15, 0, 279.62, 90, 5, 2, 9],\n",
       "       [2017, 11, 15, 1, 279.75, 90, 3, 3, 11],\n",
       "       [2017, 11, 15, 1, 279.75, 90, 4, 4, 7],\n",
       "       [2017, 11, 15, 1, 279.75, 90, 2, 5, 5],\n",
       "       [2017, 11, 15, 1, 279.75, 90, 5, 6, 9],\n",
       "       [2017, 11, 15, 3, 280.15, 90, 4, 0, 7],\n",
       "       [2017, 11, 15, 3, 280.15, 90, 2, 1, 5],\n",
       "       [2017, 11, 15, 3, 280.15, 90, 3, 2, 11],\n",
       "       [2017, 11, 15, 4, 279.61, 90, 4, 3, 7],\n",
       "       [2017, 11, 15, 4, 279.61, 90, 5, 4, 9],\n",
       "       [2017, 11, 15, 4, 279.61, 90, 3, 5, 11],\n",
       "       [2017, 11, 15, 5, 279.35, 90, 4, 6, 7],\n",
       "       [2017, 11, 15, 6, 278.61, 75, 4, 0, 7],\n",
       "       [2017, 11, 15, 7, 277.75, 75, 0, 1, 1],\n",
       "       [2017, 11, 15, 8, 276.68, 75, 4, 2, 7],\n",
       "       [2017, 11, 15, 9, 276.02, 90, 0, 3, 2],\n",
       "       [2017, 11, 15, 10, 274.79, 90, 4, 4, 7],\n",
       "       [2017, 11, 15, 11, 274.15, 90, 0, 5, 2],\n",
       "       [2017, 11, 15, 12, 273.46, 90, 0, 6, 2],\n",
       "       [2017, 11, 15, 13, 273.3, 90, 0, 0, 2],\n",
       "       [2017, 11, 15, 14, 273.84, 90, 0, 1, 2],\n",
       "       [2017, 11, 15, 15, 273.69, 90, 0, 2, 2],\n",
       "       [2017, 11, 15, 16, 273.42, 90, 0, 3, 2],\n",
       "       [2017, 11, 15, 17, 272.55, 90, 0, 4, 2],\n",
       "       [2017, 11, 15, 18, 271.95, 90, 0, 5, 2],\n",
       "       [2017, 11, 15, 19, 271.79, 90, 0, 6, 2],\n",
       "       [2017, 11, 15, 20, 271.55, 90, 0, 0, 2],\n",
       "       [2017, 11, 15, 21, 271.15, 90, 0, 1, 2],\n",
       "       [2017, 11, 15, 22, 271.15, 90, 0, 2, 2],\n",
       "       [2017, 11, 15, 23, 270.95, 90, 0, 3, 2],\n",
       "       [2017, 11, 16, 0, 270.93, 90, 0, 4, 2],\n",
       "       [2017, 11, 16, 1, 270.93, 90, 0, 5, 2],\n",
       "       [2017, 11, 16, 2, 270.86, 90, 0, 6, 2],\n",
       "       [2017, 11, 16, 3, 271.22, 90, 0, 0, 2],\n",
       "       [2017, 11, 16, 4, 271.36, 90, 0, 1, 2],\n",
       "       [2017, 11, 16, 5, 271.21, 90, 0, 2, 2],\n",
       "       [2017, 11, 16, 6, 271.28, 90, 0, 3, 2],\n",
       "       [2017, 11, 16, 7, 271.21, 90, 0, 4, 2],\n",
       "       [2017, 11, 16, 8, 271.02, 90, 0, 5, 2],\n",
       "       [2017, 11, 16, 9, 271.15, 90, 0, 6, 2],\n",
       "       [2017, 11, 16, 10, 271.41, 90, 0, 0, 2],\n",
       "       [2017, 11, 16, 11, 271.58, 90, 0, 1, 2],\n",
       "       [2017, 11, 16, 12, 272.08, 90, 0, 2, 2],\n",
       "       [2017, 11, 16, 13, 272.41, 90, 0, 3, 2]], dtype=object)"
      ]
     },
     "execution_count": 54,
     "metadata": {},
     "output_type": "execute_result"
    }
   ],
   "source": [
    "x_test1"
   ]
  },
  {
   "cell_type": "code",
   "execution_count": null,
   "id": "1509fa01",
   "metadata": {},
   "outputs": [],
   "source": []
  },
  {
   "cell_type": "code",
   "execution_count": null,
   "id": "ff21d4c9",
   "metadata": {},
   "outputs": [],
   "source": []
  },
  {
   "cell_type": "code",
   "execution_count": null,
   "id": "441ce1fd",
   "metadata": {},
   "outputs": [],
   "source": []
  },
  {
   "cell_type": "code",
   "execution_count": null,
   "id": "691bb61c",
   "metadata": {},
   "outputs": [],
   "source": []
  },
  {
   "cell_type": "markdown",
   "id": "f528d356",
   "metadata": {},
   "source": [
    "# try out for 2017"
   ]
  },
  {
   "cell_type": "code",
   "execution_count": 119,
   "id": "9096e4cd",
   "metadata": {},
   "outputs": [],
   "source": [
    "X = x[0:28812,:]\n",
    "Y = y[0:28812]"
   ]
  },
  {
   "cell_type": "code",
   "execution_count": 120,
   "id": "672416ca",
   "metadata": {},
   "outputs": [
    {
     "name": "stdout",
     "output_type": "stream",
     "text": [
      "97.85693658458807\n"
     ]
    }
   ],
   "source": [
    "from sklearn.ensemble import RandomForestRegressor\n",
    "rt = RandomForestRegressor(n_estimators = 500, random_state = 0)\n",
    "rt.fit(X,Y)\n",
    "print(rt.score(X, Y)*100)"
   ]
  },
  {
   "cell_type": "code",
   "execution_count": 121,
   "id": "815b9877",
   "metadata": {},
   "outputs": [
    {
     "data": {
      "text/plain": [
       "0.8108068271835702"
      ]
     },
     "execution_count": 121,
     "metadata": {},
     "output_type": "execute_result"
    }
   ],
   "source": [
    "x_test = x[29900:30200,:]\n",
    "y_test = y[29900:30200]\n",
    "rt.score(x_test,y_test)"
   ]
  },
  {
   "cell_type": "code",
   "execution_count": 123,
   "id": "8e34870d",
   "metadata": {},
   "outputs": [
    {
     "name": "stdout",
     "output_type": "stream",
     "text": [
      "780.8563506663864\n"
     ]
    }
   ],
   "source": [
    "import math\n",
    "p = rt.predict(x_test)\n",
    "MSE = np.square(np.subtract(y_test,p)).mean() \n",
    "RMSE = math.sqrt(MSE)\n",
    "print(RMSE)"
   ]
  },
  {
   "cell_type": "code",
   "execution_count": 95,
   "id": "85f0d15f",
   "metadata": {},
   "outputs": [
    {
     "data": {
      "text/plain": [
       "Text(0, 0.5, 'traffic')"
      ]
     },
     "execution_count": 95,
     "metadata": {},
     "output_type": "execute_result"
    },
    {
     "data": {
      "image/png": "[encoded data removed]",
      "text/plain": [
       "<Figure size 432x288 with 1 Axes>"
      ]
     },
     "metadata": {
      "needs_background": "light"
     },
     "output_type": "display_data"
    }
   ],
   "source": [
    "p = rt.predict(x_test)\n",
    "plt.plot(p,label='predictions')\n",
    "plt.plot(y_test,label='truth')\n",
    "plt.legend()\n",
    "plt.xlabel('time in hours')\n",
    "plt.ylabel('traffic')"
   ]
  },
  {
   "cell_type": "code",
   "execution_count": 96,
   "id": "13fb74e7",
   "metadata": {},
   "outputs": [
    {
     "data": {
      "text/plain": [
       "array([[2017, 1, 9, ..., 7, 4, 31],\n",
       "       [2017, 1, 9, ..., 4, 5, 7],\n",
       "       [2017, 1, 9, ..., 5, 6, 8],\n",
       "       ...,\n",
       "       [2017, 1, 18, ..., 5, 0, 9],\n",
       "       [2017, 1, 18, ..., 5, 1, 9],\n",
       "       [2017, 1, 18, ..., 4, 2, 7]], dtype=object)"
      ]
     },
     "execution_count": 96,
     "metadata": {},
     "output_type": "execute_result"
    }
   ],
   "source": [
    "x_test"
   ]
  },
  {
   "cell_type": "code",
   "execution_count": 104,
   "id": "1f51f1f5",
   "metadata": {},
   "outputs": [
    {
     "name": "stdout",
     "output_type": "stream",
     "text": [
      "0.7425056381277697\n"
     ]
    },
    {
     "data": {
      "text/plain": [
       "Text(0, 0.5, 'traffic')"
      ]
     },
     "execution_count": 104,
     "metadata": {},
     "output_type": "execute_result"
    },
    {
     "data": {
      "image/png": "[encoded data removed]",
      "text/plain": [
       "<Figure size 432x288 with 1 Axes>"
      ]
     },
     "metadata": {
      "needs_background": "light"
     },
     "output_type": "display_data"
    }
   ],
   "source": [
    "x_test = x[28800:29000,:]\n",
    "y_test = y[28800:29000]\n",
    "print(rt.score(x_test,y_test))\n",
    "\n",
    "p = rt.predict(x_test)\n",
    "plt.plot(p,label='predictions')\n",
    "plt.plot(y_test,label='truth')\n",
    "plt.legend()\n",
    "plt.xlabel('time in hours')\n",
    "plt.ylabel('traffic')"
   ]
  },
  {
   "cell_type": "code",
   "execution_count": null,
   "id": "e94fb6d0",
   "metadata": {},
   "outputs": [],
   "source": []
  },
  {
   "cell_type": "code",
   "execution_count": 124,
   "id": "b6590311",
   "metadata": {},
   "outputs": [
    {
     "name": "stdout",
     "output_type": "stream",
     "text": [
      "98.04756907724965\n",
      "0.640358594342333\n"
     ]
    },
    {
     "data": {
      "text/plain": [
       "Text(0, 0.5, 'traffic')"
      ]
     },
     "execution_count": 124,
     "metadata": {},
     "output_type": "execute_result"
    },
    {
     "data": {
      "image/png": "[encoded data removed]",
      "text/plain": [
       "<Figure size 432x288 with 1 Axes>"
      ]
     },
     "metadata": {
      "needs_background": "light"
     },
     "output_type": "display_data"
    }
   ],
   "source": [
    "X = x[0:20052,:]\n",
    "Y = y[0:20052]\n",
    "\n",
    "from sklearn.ensemble import RandomForestRegressor\n",
    "rt = RandomForestRegressor(n_estimators = 500, random_state = 0)\n",
    "rt.fit(X,Y)\n",
    "print(rt.score(X, Y)*100)\n",
    "\n",
    "x_test = x[20100:20200,:]\n",
    "y_test = y[20100:20200]\n",
    "print(rt.score(x_test,y_test))\n",
    "\n",
    "p = rt.predict(x_test)\n",
    "plt.plot(p,label='predictions')\n",
    "plt.plot(y_test,label='truth')\n",
    "plt.legend()\n",
    "plt.xlabel('time in hours')\n",
    "plt.ylabel('traffic')"
   ]
  },
  {
   "cell_type": "code",
   "execution_count": 126,
   "id": "04e24a02",
   "metadata": {},
   "outputs": [
    {
     "name": "stdout",
     "output_type": "stream",
     "text": [
      "0.7915543048558469\n"
     ]
    },
    {
     "data": {
      "text/plain": [
       "Text(0, 0.5, 'traffic')"
      ]
     },
     "execution_count": 126,
     "metadata": {},
     "output_type": "execute_result"
    },
    {
     "data": {
      "image/png": "[encoded data removed]",
      "text/plain": [
       "<Figure size 432x288 with 1 Axes>"
      ]
     },
     "metadata": {
      "needs_background": "light"
     },
     "output_type": "display_data"
    }
   ],
   "source": [
    "x_test = x[20400:20600,:]\n",
    "y_test = y[20400:20600]\n",
    "print(rt.score(x_test,y_test))\n",
    "\n",
    "p = rt.predict(x_test)\n",
    "plt.plot(p,label='predictions')\n",
    "plt.plot(y_test,label='truth')\n",
    "plt.legend()\n",
    "plt.xlabel('time in hours')\n",
    "plt.ylabel('traffic')"
   ]
  },
  {
   "cell_type": "code",
   "execution_count": 127,
   "id": "8aab69c9",
   "metadata": {},
   "outputs": [
    {
     "data": {
      "text/plain": [
       "array([[2016, 1, 4, ..., 5, 3, 9],\n",
       "       [2016, 1, 4, ..., 5, 4, 9],\n",
       "       [2016, 1, 4, ..., 4, 5, 7],\n",
       "       ...,\n",
       "       [2016, 1, 13, ..., 0, 4, 1],\n",
       "       [2016, 1, 13, ..., 5, 5, 8],\n",
       "       [2016, 1, 13, ..., 5, 6, 8]], dtype=object)"
      ]
     },
     "execution_count": 127,
     "metadata": {},
     "output_type": "execute_result"
    }
   ],
   "source": [
    "x_test"
   ]
  },
  {
   "cell_type": "code",
   "execution_count": 128,
   "id": "da60a66d",
   "metadata": {},
   "outputs": [
    {
     "name": "stdout",
     "output_type": "stream",
     "text": [
      "938.5605153274238\n"
     ]
    }
   ],
   "source": [
    "import math\n",
    "p = rt.predict(x_test)\n",
    "MSE = np.square(np.subtract(y_test,p)).mean() \n",
    "RMSE = math.sqrt(MSE)\n",
    "print(RMSE)"
   ]
  },
  {
   "cell_type": "code",
   "execution_count": null,
   "id": "00ab9fea",
   "metadata": {},
   "outputs": [],
   "source": []
  },
  {
   "cell_type": "code",
   "execution_count": null,
   "id": "621ef2fd",
   "metadata": {},
   "outputs": [],
   "source": []
  },
  {
   "cell_type": "code",
   "execution_count": null,
   "id": "59439641",
   "metadata": {},
   "outputs": [],
   "source": []
  },
  {
   "cell_type": "code",
   "execution_count": null,
   "id": "efc0946b",
   "metadata": {},
   "outputs": [],
   "source": []
  },
  {
   "cell_type": "markdown",
   "id": "f8e3be03",
   "metadata": {},
   "source": [
    "# ok"
   ]
  },
  {
   "cell_type": "code",
   "execution_count": 22,
   "id": "f2c45df9",
   "metadata": {},
   "outputs": [],
   "source": [
    "data = pd.DataFrame(data = x)"
   ]
  },
  {
   "cell_type": "code",
   "execution_count": 23,
   "id": "940e59c2",
   "metadata": {},
   "outputs": [
    {
     "data": {
      "text/html": [
       "<div>\n",
       "<style scoped>\n",
       "    .dataframe tbody tr th:only-of-type {\n",
       "        vertical-align: middle;\n",
       "    }\n",
       "\n",
       "    .dataframe tbody tr th {\n",
       "        vertical-align: top;\n",
       "    }\n",
       "\n",
       "    .dataframe thead th {\n",
       "        text-align: right;\n",
       "    }\n",
       "</style>\n",
       "<table border=\"1\" class=\"dataframe\">\n",
       "  <thead>\n",
       "    <tr style=\"text-align: right;\">\n",
       "      <th></th>\n",
       "      <th>0</th>\n",
       "      <th>1</th>\n",
       "      <th>2</th>\n",
       "      <th>3</th>\n",
       "      <th>4</th>\n",
       "      <th>5</th>\n",
       "      <th>6</th>\n",
       "      <th>7</th>\n",
       "    </tr>\n",
       "  </thead>\n",
       "  <tbody>\n",
       "    <tr>\n",
       "      <th>0</th>\n",
       "      <td>2012</td>\n",
       "      <td>10</td>\n",
       "      <td>2</td>\n",
       "      <td>9</td>\n",
       "      <td>288.28</td>\n",
       "      <td>40</td>\n",
       "      <td>0</td>\n",
       "      <td>0</td>\n",
       "    </tr>\n",
       "    <tr>\n",
       "      <th>1</th>\n",
       "      <td>2012</td>\n",
       "      <td>10</td>\n",
       "      <td>2</td>\n",
       "      <td>10</td>\n",
       "      <td>289.36</td>\n",
       "      <td>75</td>\n",
       "      <td>0</td>\n",
       "      <td>1</td>\n",
       "    </tr>\n",
       "    <tr>\n",
       "      <th>2</th>\n",
       "      <td>2012</td>\n",
       "      <td>10</td>\n",
       "      <td>2</td>\n",
       "      <td>11</td>\n",
       "      <td>289.58</td>\n",
       "      <td>90</td>\n",
       "      <td>0</td>\n",
       "      <td>2</td>\n",
       "    </tr>\n",
       "    <tr>\n",
       "      <th>3</th>\n",
       "      <td>2012</td>\n",
       "      <td>10</td>\n",
       "      <td>2</td>\n",
       "      <td>12</td>\n",
       "      <td>290.13</td>\n",
       "      <td>90</td>\n",
       "      <td>0</td>\n",
       "      <td>2</td>\n",
       "    </tr>\n",
       "    <tr>\n",
       "      <th>4</th>\n",
       "      <td>2012</td>\n",
       "      <td>10</td>\n",
       "      <td>2</td>\n",
       "      <td>13</td>\n",
       "      <td>291.14</td>\n",
       "      <td>75</td>\n",
       "      <td>0</td>\n",
       "      <td>1</td>\n",
       "    </tr>\n",
       "    <tr>\n",
       "      <th>...</th>\n",
       "      <td>...</td>\n",
       "      <td>...</td>\n",
       "      <td>...</td>\n",
       "      <td>...</td>\n",
       "      <td>...</td>\n",
       "      <td>...</td>\n",
       "      <td>...</td>\n",
       "      <td>...</td>\n",
       "    </tr>\n",
       "    <tr>\n",
       "      <th>48199</th>\n",
       "      <td>2018</td>\n",
       "      <td>9</td>\n",
       "      <td>30</td>\n",
       "      <td>19</td>\n",
       "      <td>283.45</td>\n",
       "      <td>75</td>\n",
       "      <td>0</td>\n",
       "      <td>1</td>\n",
       "    </tr>\n",
       "    <tr>\n",
       "      <th>48200</th>\n",
       "      <td>2018</td>\n",
       "      <td>9</td>\n",
       "      <td>30</td>\n",
       "      <td>20</td>\n",
       "      <td>282.76</td>\n",
       "      <td>90</td>\n",
       "      <td>0</td>\n",
       "      <td>2</td>\n",
       "    </tr>\n",
       "    <tr>\n",
       "      <th>48201</th>\n",
       "      <td>2018</td>\n",
       "      <td>9</td>\n",
       "      <td>30</td>\n",
       "      <td>21</td>\n",
       "      <td>282.73</td>\n",
       "      <td>90</td>\n",
       "      <td>6</td>\n",
       "      <td>14</td>\n",
       "    </tr>\n",
       "    <tr>\n",
       "      <th>48202</th>\n",
       "      <td>2018</td>\n",
       "      <td>9</td>\n",
       "      <td>30</td>\n",
       "      <td>22</td>\n",
       "      <td>282.09</td>\n",
       "      <td>90</td>\n",
       "      <td>0</td>\n",
       "      <td>2</td>\n",
       "    </tr>\n",
       "    <tr>\n",
       "      <th>48203</th>\n",
       "      <td>2018</td>\n",
       "      <td>9</td>\n",
       "      <td>30</td>\n",
       "      <td>23</td>\n",
       "      <td>282.12</td>\n",
       "      <td>90</td>\n",
       "      <td>0</td>\n",
       "      <td>2</td>\n",
       "    </tr>\n",
       "  </tbody>\n",
       "</table>\n",
       "<p>48204 rows × 8 columns</p>\n",
       "</div>"
      ],
      "text/plain": [
       "          0   1   2   3       4   5  6   7\n",
       "0      2012  10   2   9  288.28  40  0   0\n",
       "1      2012  10   2  10  289.36  75  0   1\n",
       "2      2012  10   2  11  289.58  90  0   2\n",
       "3      2012  10   2  12  290.13  90  0   2\n",
       "4      2012  10   2  13  291.14  75  0   1\n",
       "...     ...  ..  ..  ..     ...  .. ..  ..\n",
       "48199  2018   9  30  19  283.45  75  0   1\n",
       "48200  2018   9  30  20  282.76  90  0   2\n",
       "48201  2018   9  30  21  282.73  90  6  14\n",
       "48202  2018   9  30  22  282.09  90  0   2\n",
       "48203  2018   9  30  23  282.12  90  0   2\n",
       "\n",
       "[48204 rows x 8 columns]"
      ]
     },
     "execution_count": 23,
     "metadata": {},
     "output_type": "execute_result"
    }
   ],
   "source": [
    "data"
   ]
  },
  {
   "cell_type": "code",
   "execution_count": 24,
   "id": "1557e6c6",
   "metadata": {},
   "outputs": [],
   "source": [
    "data_dum = pd.get_dummies(data, sparse=True)"
   ]
  },
  {
   "cell_type": "code",
   "execution_count": 25,
   "id": "c408ab22",
   "metadata": {
    "scrolled": true
   },
   "outputs": [
    {
     "data": {
      "text/html": [
       "<div>\n",
       "<style scoped>\n",
       "    .dataframe tbody tr th:only-of-type {\n",
       "        vertical-align: middle;\n",
       "    }\n",
       "\n",
       "    .dataframe tbody tr th {\n",
       "        vertical-align: top;\n",
       "    }\n",
       "\n",
       "    .dataframe thead th {\n",
       "        text-align: right;\n",
       "    }\n",
       "</style>\n",
       "<table border=\"1\" class=\"dataframe\">\n",
       "  <thead>\n",
       "    <tr style=\"text-align: right;\">\n",
       "      <th></th>\n",
       "      <th>0_2012</th>\n",
       "      <th>0_2013</th>\n",
       "      <th>0_2014</th>\n",
       "      <th>0_2015</th>\n",
       "      <th>0_2016</th>\n",
       "      <th>0_2017</th>\n",
       "      <th>0_2018</th>\n",
       "      <th>1_1</th>\n",
       "      <th>1_2</th>\n",
       "      <th>1_3</th>\n",
       "      <th>...</th>\n",
       "      <th>7_27</th>\n",
       "      <th>7_28</th>\n",
       "      <th>7_29</th>\n",
       "      <th>7_30</th>\n",
       "      <th>7_31</th>\n",
       "      <th>7_32</th>\n",
       "      <th>7_33</th>\n",
       "      <th>7_34</th>\n",
       "      <th>7_35</th>\n",
       "      <th>7_36</th>\n",
       "    </tr>\n",
       "  </thead>\n",
       "  <tbody>\n",
       "    <tr>\n",
       "      <th>0</th>\n",
       "      <td>1</td>\n",
       "      <td>0</td>\n",
       "      <td>0</td>\n",
       "      <td>0</td>\n",
       "      <td>0</td>\n",
       "      <td>0</td>\n",
       "      <td>0</td>\n",
       "      <td>0</td>\n",
       "      <td>0</td>\n",
       "      <td>0</td>\n",
       "      <td>...</td>\n",
       "      <td>0</td>\n",
       "      <td>0</td>\n",
       "      <td>0</td>\n",
       "      <td>0</td>\n",
       "      <td>0</td>\n",
       "      <td>0</td>\n",
       "      <td>0</td>\n",
       "      <td>0</td>\n",
       "      <td>0</td>\n",
       "      <td>0</td>\n",
       "    </tr>\n",
       "    <tr>\n",
       "      <th>1</th>\n",
       "      <td>1</td>\n",
       "      <td>0</td>\n",
       "      <td>0</td>\n",
       "      <td>0</td>\n",
       "      <td>0</td>\n",
       "      <td>0</td>\n",
       "      <td>0</td>\n",
       "      <td>0</td>\n",
       "      <td>0</td>\n",
       "      <td>0</td>\n",
       "      <td>...</td>\n",
       "      <td>0</td>\n",
       "      <td>0</td>\n",
       "      <td>0</td>\n",
       "      <td>0</td>\n",
       "      <td>0</td>\n",
       "      <td>0</td>\n",
       "      <td>0</td>\n",
       "      <td>0</td>\n",
       "      <td>0</td>\n",
       "      <td>0</td>\n",
       "    </tr>\n",
       "    <tr>\n",
       "      <th>2</th>\n",
       "      <td>1</td>\n",
       "      <td>0</td>\n",
       "      <td>0</td>\n",
       "      <td>0</td>\n",
       "      <td>0</td>\n",
       "      <td>0</td>\n",
       "      <td>0</td>\n",
       "      <td>0</td>\n",
       "      <td>0</td>\n",
       "      <td>0</td>\n",
       "      <td>...</td>\n",
       "      <td>0</td>\n",
       "      <td>0</td>\n",
       "      <td>0</td>\n",
       "      <td>0</td>\n",
       "      <td>0</td>\n",
       "      <td>0</td>\n",
       "      <td>0</td>\n",
       "      <td>0</td>\n",
       "      <td>0</td>\n",
       "      <td>0</td>\n",
       "    </tr>\n",
       "    <tr>\n",
       "      <th>3</th>\n",
       "      <td>1</td>\n",
       "      <td>0</td>\n",
       "      <td>0</td>\n",
       "      <td>0</td>\n",
       "      <td>0</td>\n",
       "      <td>0</td>\n",
       "      <td>0</td>\n",
       "      <td>0</td>\n",
       "      <td>0</td>\n",
       "      <td>0</td>\n",
       "      <td>...</td>\n",
       "      <td>0</td>\n",
       "      <td>0</td>\n",
       "      <td>0</td>\n",
       "      <td>0</td>\n",
       "      <td>0</td>\n",
       "      <td>0</td>\n",
       "      <td>0</td>\n",
       "      <td>0</td>\n",
       "      <td>0</td>\n",
       "      <td>0</td>\n",
       "    </tr>\n",
       "    <tr>\n",
       "      <th>4</th>\n",
       "      <td>1</td>\n",
       "      <td>0</td>\n",
       "      <td>0</td>\n",
       "      <td>0</td>\n",
       "      <td>0</td>\n",
       "      <td>0</td>\n",
       "      <td>0</td>\n",
       "      <td>0</td>\n",
       "      <td>0</td>\n",
       "      <td>0</td>\n",
       "      <td>...</td>\n",
       "      <td>0</td>\n",
       "      <td>0</td>\n",
       "      <td>0</td>\n",
       "      <td>0</td>\n",
       "      <td>0</td>\n",
       "      <td>0</td>\n",
       "      <td>0</td>\n",
       "      <td>0</td>\n",
       "      <td>0</td>\n",
       "      <td>0</td>\n",
       "    </tr>\n",
       "    <tr>\n",
       "      <th>...</th>\n",
       "      <td>...</td>\n",
       "      <td>...</td>\n",
       "      <td>...</td>\n",
       "      <td>...</td>\n",
       "      <td>...</td>\n",
       "      <td>...</td>\n",
       "      <td>...</td>\n",
       "      <td>...</td>\n",
       "      <td>...</td>\n",
       "      <td>...</td>\n",
       "      <td>...</td>\n",
       "      <td>...</td>\n",
       "      <td>...</td>\n",
       "      <td>...</td>\n",
       "      <td>...</td>\n",
       "      <td>...</td>\n",
       "      <td>...</td>\n",
       "      <td>...</td>\n",
       "      <td>...</td>\n",
       "      <td>...</td>\n",
       "      <td>...</td>\n",
       "    </tr>\n",
       "    <tr>\n",
       "      <th>48199</th>\n",
       "      <td>0</td>\n",
       "      <td>0</td>\n",
       "      <td>0</td>\n",
       "      <td>0</td>\n",
       "      <td>0</td>\n",
       "      <td>0</td>\n",
       "      <td>1</td>\n",
       "      <td>0</td>\n",
       "      <td>0</td>\n",
       "      <td>0</td>\n",
       "      <td>...</td>\n",
       "      <td>0</td>\n",
       "      <td>0</td>\n",
       "      <td>0</td>\n",
       "      <td>0</td>\n",
       "      <td>0</td>\n",
       "      <td>0</td>\n",
       "      <td>0</td>\n",
       "      <td>0</td>\n",
       "      <td>0</td>\n",
       "      <td>0</td>\n",
       "    </tr>\n",
       "    <tr>\n",
       "      <th>48200</th>\n",
       "      <td>0</td>\n",
       "      <td>0</td>\n",
       "      <td>0</td>\n",
       "      <td>0</td>\n",
       "      <td>0</td>\n",
       "      <td>0</td>\n",
       "      <td>1</td>\n",
       "      <td>0</td>\n",
       "      <td>0</td>\n",
       "      <td>0</td>\n",
       "      <td>...</td>\n",
       "      <td>0</td>\n",
       "      <td>0</td>\n",
       "      <td>0</td>\n",
       "      <td>0</td>\n",
       "      <td>0</td>\n",
       "      <td>0</td>\n",
       "      <td>0</td>\n",
       "      <td>0</td>\n",
       "      <td>0</td>\n",
       "      <td>0</td>\n",
       "    </tr>\n",
       "    <tr>\n",
       "      <th>48201</th>\n",
       "      <td>0</td>\n",
       "      <td>0</td>\n",
       "      <td>0</td>\n",
       "      <td>0</td>\n",
       "      <td>0</td>\n",
       "      <td>0</td>\n",
       "      <td>1</td>\n",
       "      <td>0</td>\n",
       "      <td>0</td>\n",
       "      <td>0</td>\n",
       "      <td>...</td>\n",
       "      <td>0</td>\n",
       "      <td>0</td>\n",
       "      <td>0</td>\n",
       "      <td>0</td>\n",
       "      <td>0</td>\n",
       "      <td>0</td>\n",
       "      <td>0</td>\n",
       "      <td>0</td>\n",
       "      <td>0</td>\n",
       "      <td>0</td>\n",
       "    </tr>\n",
       "    <tr>\n",
       "      <th>48202</th>\n",
       "      <td>0</td>\n",
       "      <td>0</td>\n",
       "      <td>0</td>\n",
       "      <td>0</td>\n",
       "      <td>0</td>\n",
       "      <td>0</td>\n",
       "      <td>1</td>\n",
       "      <td>0</td>\n",
       "      <td>0</td>\n",
       "      <td>0</td>\n",
       "      <td>...</td>\n",
       "      <td>0</td>\n",
       "      <td>0</td>\n",
       "      <td>0</td>\n",
       "      <td>0</td>\n",
       "      <td>0</td>\n",
       "      <td>0</td>\n",
       "      <td>0</td>\n",
       "      <td>0</td>\n",
       "      <td>0</td>\n",
       "      <td>0</td>\n",
       "    </tr>\n",
       "    <tr>\n",
       "      <th>48203</th>\n",
       "      <td>0</td>\n",
       "      <td>0</td>\n",
       "      <td>0</td>\n",
       "      <td>0</td>\n",
       "      <td>0</td>\n",
       "      <td>0</td>\n",
       "      <td>1</td>\n",
       "      <td>0</td>\n",
       "      <td>0</td>\n",
       "      <td>0</td>\n",
       "      <td>...</td>\n",
       "      <td>0</td>\n",
       "      <td>0</td>\n",
       "      <td>0</td>\n",
       "      <td>0</td>\n",
       "      <td>0</td>\n",
       "      <td>0</td>\n",
       "      <td>0</td>\n",
       "      <td>0</td>\n",
       "      <td>0</td>\n",
       "      <td>0</td>\n",
       "    </tr>\n",
       "  </tbody>\n",
       "</table>\n",
       "<p>48204 rows × 6024 columns</p>\n",
       "</div>"
      ],
      "text/plain": [
       "       0_2012  0_2013  0_2014  0_2015  0_2016  0_2017  0_2018  1_1  1_2  1_3  \\\n",
       "0           1       0       0       0       0       0       0    0    0    0   \n",
       "1           1       0       0       0       0       0       0    0    0    0   \n",
       "2           1       0       0       0       0       0       0    0    0    0   \n",
       "3           1       0       0       0       0       0       0    0    0    0   \n",
       "4           1       0       0       0       0       0       0    0    0    0   \n",
       "...       ...     ...     ...     ...     ...     ...     ...  ...  ...  ...   \n",
       "48199       0       0       0       0       0       0       1    0    0    0   \n",
       "48200       0       0       0       0       0       0       1    0    0    0   \n",
       "48201       0       0       0       0       0       0       1    0    0    0   \n",
       "48202       0       0       0       0       0       0       1    0    0    0   \n",
       "48203       0       0       0       0       0       0       1    0    0    0   \n",
       "\n",
       "       ...  7_27  7_28  7_29  7_30  7_31  7_32  7_33  7_34  7_35  7_36  \n",
       "0      ...     0     0     0     0     0     0     0     0     0     0  \n",
       "1      ...     0     0     0     0     0     0     0     0     0     0  \n",
       "2      ...     0     0     0     0     0     0     0     0     0     0  \n",
       "3      ...     0     0     0     0     0     0     0     0     0     0  \n",
       "4      ...     0     0     0     0     0     0     0     0     0     0  \n",
       "...    ...   ...   ...   ...   ...   ...   ...   ...   ...   ...   ...  \n",
       "48199  ...     0     0     0     0     0     0     0     0     0     0  \n",
       "48200  ...     0     0     0     0     0     0     0     0     0     0  \n",
       "48201  ...     0     0     0     0     0     0     0     0     0     0  \n",
       "48202  ...     0     0     0     0     0     0     0     0     0     0  \n",
       "48203  ...     0     0     0     0     0     0     0     0     0     0  \n",
       "\n",
       "[48204 rows x 6024 columns]"
      ]
     },
     "execution_count": 25,
     "metadata": {},
     "output_type": "execute_result"
    }
   ],
   "source": [
    "data_dum"
   ]
  },
  {
   "cell_type": "code",
   "execution_count": 26,
   "id": "63cdf675",
   "metadata": {},
   "outputs": [],
   "source": [
    "data_dum = data_dum.values\n",
    "x = data_dum"
   ]
  },
  {
   "cell_type": "code",
   "execution_count": null,
   "id": "b63e2706",
   "metadata": {},
   "outputs": [],
   "source": []
  },
  {
   "cell_type": "markdown",
   "id": "ad9a6cba",
   "metadata": {},
   "source": [
    "# Random forest regressor score = 77"
   ]
  },
  {
   "cell_type": "code",
   "execution_count": 32,
   "id": "e0c7b562",
   "metadata": {},
   "outputs": [],
   "source": [
    "p = rt.predict(x_test)"
   ]
  },
  {
   "cell_type": "code",
   "execution_count": 34,
   "id": "cb845369",
   "metadata": {},
   "outputs": [
    {
     "data": {
      "image/png": "[encoded data removed]",
      "text/plain": [
       "<Figure size 432x288 with 1 Axes>"
      ]
     },
     "metadata": {
      "needs_background": "light"
     },
     "output_type": "display_data"
    }
   ],
   "source": [
    "plt.plot(p[0:169],c='b',label='predicted')\n",
    "\n",
    "plt.plot(y_test[0:169],c='r',label='actual')\n",
    "plt.xlabel(\"time(hours)\")\n",
    "plt.ylabel(\"traffic\")\n",
    "plt.legend()\n",
    "plt.show()"
   ]
  },
  {
   "cell_type": "code",
   "execution_count": 30,
   "id": "97468178",
   "metadata": {},
   "outputs": [
    {
     "name": "stdout",
     "output_type": "stream",
     "text": [
      "13.831785192457701\n"
     ]
    }
   ],
   "source": [
    "from sklearn.linear_model import LinearRegression\n",
    "lr = LinearRegression()\n",
    "lr.fit(X,Y)\n",
    "print(lr.score(X, Y)*100)"
   ]
  },
  {
   "cell_type": "code",
   "execution_count": 41,
   "id": "4fa21a7a",
   "metadata": {},
   "outputs": [],
   "source": [
    "pred = lr.predict(x_test)"
   ]
  },
  {
   "cell_type": "code",
   "execution_count": 42,
   "id": "98d16cdd",
   "metadata": {},
   "outputs": [
    {
     "name": "stdout",
     "output_type": "stream",
     "text": [
      "1826.5378802931107\n",
      "3336240.6281456496\n"
     ]
    }
   ],
   "source": [
    "import math\n",
    "MSE = np.square(np.subtract(y_test,pred)).mean() \n",
    "RMSE = math.sqrt(MSE)\n",
    "print(RMSE)\n",
    "print(MSE)"
   ]
  },
  {
   "cell_type": "markdown",
   "id": "13961b9f",
   "metadata": {},
   "source": [
    "# linear regression score = 13.83"
   ]
  },
  {
   "cell_type": "code",
   "execution_count": 45,
   "id": "ff02252a",
   "metadata": {},
   "outputs": [
    {
     "name": "stdout",
     "output_type": "stream",
     "text": [
      "100.0\n"
     ]
    }
   ],
   "source": [
    "from sklearn.tree import DecisionTreeRegressor\n",
    "dec_tree = DecisionTreeRegressor(random_state = 0)\n",
    "dec_tree.fit(X,Y)\n",
    "print(dec_tree.score(X, Y)*100)"
   ]
  },
  {
   "cell_type": "code",
   "execution_count": 46,
   "id": "37b94942",
   "metadata": {},
   "outputs": [
    {
     "data": {
      "text/plain": [
       "59.512431766685204"
      ]
     },
     "execution_count": 46,
     "metadata": {},
     "output_type": "execute_result"
    }
   ],
   "source": [
    "dec_tree.score(x_test,y_test)*100"
   ]
  },
  {
   "cell_type": "code",
   "execution_count": 47,
   "id": "1a030d4b",
   "metadata": {},
   "outputs": [],
   "source": [
    "pred = dec_tree.predict(x_test)"
   ]
  },
  {
   "cell_type": "code",
   "execution_count": 48,
   "id": "7c0c5d4f",
   "metadata": {},
   "outputs": [
    {
     "name": "stdout",
     "output_type": "stream",
     "text": [
      "1255.3754824827022\n",
      "1575967.6020186774\n"
     ]
    }
   ],
   "source": [
    "import math\n",
    "MSE = np.square(np.subtract(y_test,pred)).mean() \n",
    "RMSE = math.sqrt(MSE)\n",
    "print(RMSE)\n",
    "print(MSE)"
   ]
  },
  {
   "cell_type": "code",
   "execution_count": 49,
   "id": "f97934c2",
   "metadata": {},
   "outputs": [
    {
     "name": "stdout",
     "output_type": "stream",
     "text": [
      "0.1927674175185364\n"
     ]
    }
   ],
   "source": [
    "adr = (np.sum(np.subtract(pred,y_test)/y_test))/10601\n",
    "print(adr)"
   ]
  },
  {
   "cell_type": "markdown",
   "id": "0ab896fc",
   "metadata": {},
   "source": [
    "# decision tree score = 59.15"
   ]
  },
  {
   "cell_type": "code",
   "execution_count": 45,
   "id": "bc875f62",
   "metadata": {},
   "outputs": [],
   "source": [
    "Y = np.reshape(Y,(-1,1))"
   ]
  },
  {
   "cell_type": "code",
   "execution_count": null,
   "id": "0a35fe29",
   "metadata": {},
   "outputs": [
    {
     "name": "stderr",
     "output_type": "stream",
     "text": [
      "c:\\users\\dell\\appdata\\local\\programs\\python\\python39\\lib\\site-packages\\sklearn\\utils\\validation.py:63: DataConversionWarning: A column-vector y was passed when a 1d array was expected. Please change the shape of y to (n_samples, ), for example using ravel().\n",
      "  return f(*args, **kwargs)\n"
     ]
    }
   ],
   "source": [
    "from sklearn.svm import SVR\n",
    "from sklearn.preprocessing import StandardScaler\n",
    "sc_x = StandardScaler()\n",
    "sc_y = StandardScaler()\n",
    "x_train_svr = sc_x.fit_transform(X)\n",
    "y_train_svr = sc_y.fit_transform(Y)\n",
    "\n",
    "svr_reg = SVR(kernel = 'poly',gamma='scale',degree=10)\n",
    "svr_reg.fit(x_train_svr,y_train_svr)\n",
    "\n",
    "svr_y_predict = sc_y.inverse_transform(svr_reg.predict(sc_x.transform(x_test)))"
   ]
  },
  {
   "cell_type": "code",
   "execution_count": null,
   "id": "1fc96b06",
   "metadata": {},
   "outputs": [],
   "source": [
    "#print(svr_reg.score(X, Y)*100)"
   ]
  },
  {
   "cell_type": "code",
   "execution_count": null,
   "id": "b1189f72",
   "metadata": {},
   "outputs": [],
   "source": []
  },
  {
   "cell_type": "code",
   "execution_count": 50,
   "id": "ac23a1ef",
   "metadata": {},
   "outputs": [
    {
     "name": "stdout",
     "output_type": "stream",
     "text": [
      "1178.5619713908989\n",
      "1389008.3204088018\n"
     ]
    }
   ],
   "source": [
    "import math\n",
    "MSE = np.square(np.subtract(y_test,svr_y_predict)).mean() \n",
    "RMSE = math.sqrt(MSE)\n",
    "print(RMSE)\n",
    "print(MSE)"
   ]
  },
  {
   "cell_type": "code",
   "execution_count": null,
   "id": "8c438eb5",
   "metadata": {},
   "outputs": [],
   "source": []
  },
  {
   "cell_type": "code",
   "execution_count": null,
   "id": "5cfb3dca",
   "metadata": {},
   "outputs": [],
   "source": []
  },
  {
   "cell_type": "code",
   "execution_count": null,
   "id": "04d47f21",
   "metadata": {},
   "outputs": [],
   "source": []
  },
  {
   "cell_type": "markdown",
   "id": "d463a894",
   "metadata": {},
   "source": [
    "# support vector regression score = -267.54"
   ]
  },
  {
   "cell_type": "code",
   "execution_count": 84,
   "id": "0a38a72f",
   "metadata": {},
   "outputs": [
    {
     "name": "stdout",
     "output_type": "stream",
     "text": [
      "65.20184451885189\n"
     ]
    }
   ],
   "source": [
    "from sklearn.preprocessing import PolynomialFeatures\n",
    "poly_reg = PolynomialFeatures(degree = 2)\n",
    "preg = LinearRegression()\n",
    "pf = poly_reg.fit_transform(X)\n",
    "preg.fit(pf,Y)\n",
    "print(preg.score(pf, Y)*100)"
   ]
  },
  {
   "cell_type": "code",
   "execution_count": 87,
   "id": "e1f06f98",
   "metadata": {},
   "outputs": [
    {
     "data": {
      "text/plain": [
       "array([[2017, 10, 1, ..., 75, 0, 1],\n",
       "       [2017, 10, 1, ..., 90, 2, 5],\n",
       "       [2017, 10, 1, ..., 40, 2, 5],\n",
       "       ...,\n",
       "       [2018, 9, 30, ..., 90, 6, 14],\n",
       "       [2018, 9, 30, ..., 90, 0, 2],\n",
       "       [2018, 9, 30, ..., 90, 0, 2]], dtype=object)"
      ]
     },
     "execution_count": 87,
     "metadata": {},
     "output_type": "execute_result"
    }
   ],
   "source": [
    "x_test\n",
    "#pred = preg.predict(x_test)"
   ]
  },
  {
   "cell_type": "code",
   "execution_count": 88,
   "id": "abac940e",
   "metadata": {},
   "outputs": [
    {
     "name": "stdout",
     "output_type": "stream",
     "text": [
      "3823.399229313931\n",
      "14618381.666718362\n"
     ]
    }
   ],
   "source": [
    "import math\n",
    "MSE = np.square(np.subtract(y_test,pred)).mean() \n",
    "RMSE = math.sqrt(MSE)\n",
    "print(RMSE)\n",
    "print(MSE)"
   ]
  },
  {
   "cell_type": "markdown",
   "id": "05dca6ab",
   "metadata": {},
   "source": [
    "# polynomial regression = 65.2"
   ]
  },
  {
   "cell_type": "code",
   "execution_count": 32,
   "id": "d6b235ac",
   "metadata": {},
   "outputs": [
    {
     "name": "stdout",
     "output_type": "stream",
     "text": [
      "[606.102, 413.598, 360.126, 359.874, 677.248, 1804.376, 3760.79, 5129.19, 5166.738, 4638.058, 4727.388, 4444.688, 4571.136, 5498.914, 5491.274, 5504.346, 5274.816, 5374.13, 5953.316, 5535.922, 4219.88, 3527.662, 2969.194, 3140.884, 2482.28, 1573.954, 1009.2, 764.504, 715.74, 368.964, 363.762, 436.69, 442.146, 722.412, 739.88, 1976.16, 3619.402, 4983.912, 4805.88, 4475.234, 4301.278, 4574.274, 5207.754, 5135.192, 5215.284, 5198.248, 5376.86, 5719.562, 5719.878, 5696.992, 5086.926, 5528.138, 5471.518, 4165.056, 4241.392, 4300.582, 4308.088, 3474.106, 3491.088, 3499.002, 3088.96, 3090.786, 3020.246, 2874.028, 2903.936, 2881.672, 2294.04, 2304.27, 2334.85, 1725.868, 1784.488, 1759.376, 999.346, 996.822, 974.46, 587.344, 539.544, 539.112, 413.212, 404.034, 424.558, 379.834, 379.68, 576.696, 602.216, 553.65, 1833.87, 1920.986, 3864.106, 4694.012, 4610.876, 4159.084, 4230.246, 4460.896, 4445.698, 4008.868, 4015.1, 4454.09, 4899.266, 4666.768, 5188.402, 5525.746, 6318.788, 5557.844, 4496.912, 3548.298, 2992.792, 2567.658, 1970.872, 1224.356, 909.442, 538.79, 335.952, 394.824, 743.742, 2204.614, 4324.168, 4766.782, 4343.818, 4628.49, 4303.606, 4706.918, 4969.872, 4913.666, 5162.862, 5336.502, 5570.194, 5215.782, 4482.776, 3589.364, 3018.116, 2554.076, 2202.912, 1521.302, 1038.17, 561.798, 371.97, 375.662, 709.048, 2265.918, 4860.228, 5415.018, 5161.842, 4779.116, 4348.522, 4571.656, 4931.342, 4879.876, 5163.57, 5468.608, 5335.328, 5839.44, 5665.89, 5592.238, 5007.948, 4519.746, 3613.242, 3039.816, 2430.848, 1926.75, 1658.168, 691.564, 492.722, 375.336, 333.684, 334.556, 784.702, 813.53, 2579.42, 2514.168, 4639.262, 4320.794, 5138.092, 5121.528, 4929.9, 4944.92, 4557.754, 4676.756, 4270.722, 4333.078, 4547.96, 4254.806, 4830.91, 4862.74, 4859.286, 4738.098, 5112.262, 5419.036, 5483.416, 5511.154, 6083.17, 6119.57, 5543.356, 5586.136, 5625.238, 4215.558, 4238.084, 3321.582, 3283.13, 2880.132, 2859.062, 2870.056, 2428.272, 2445.638, 2435.054, 1988.524, 1853.648, 1889.39, 1296.252, 1260.592, 1273.56, 932.988, 825.45, 837.92, 454.838, 297.954, 435.12, 432.342, 764.172, 793.446, 790.2, 2462.492, 2478.334, 2490.344, 5186.744, 5206.928, 5314.414, 5260.88, 5689.754, 5594.258, 5409.808, 5295.668, 4738.428, 4633.612, 4680.77, 4627.828, 4367.006, 4362.014, 4593.356, 4599.546, 4921.432, 4904.546, 4806.426, 4896.278, 4882.954, 5105.224, 5501.574, 5536.228, 5655.376, 4679.14, 3677.212, 3010.194, 2680.59, 2109.736, 1418.48, 882.016, 559.258, 377.396, 367.334, 813.586, 2494.226, 4526.804, 5005.67, 5107.606, 5000.43, 4063.302, 4471.962, 4880.266, 4590.884, 4850.424, 5092.662, 5802.086, 5758.326, 4754.37, 3735.27, 3059.434, 2610.26, 2057.068, 1356.384, 1080.192, 591.192, 362.006, 385.992, 794.592, 2271.716, 4399.772, 4509.356, 4599.674, 4491.432, 4330.44, 4534.164, 4758.592, 4709.776, 5137.55, 5462.52, 5921.754, 5565.008, 4265.126, 3294.646, 2841.276, 2712.224, 2293.69, 1439.91, 969.294, 522.802, 385.316, 381.422, 681.514, 1982.35, 3793.35, 4729.452, 4715.31, 4901.18, 4500.146, 4298.306, 4650.31, 4779.086, 4686.036, 5223.378, 5466.918, 5747.182, 5591.956, 4540.21, 3624.808, 3024.87, 2675.128, 2063.112, 1431.272, 964.558, 548.392, 401.894, 381.628, 691.514, 2013.664, 3517.14, 4518.1, 4516.43, 4505.784, 4293.268, 4620.414, 4775.53, 4739.3, 5066.552, 5508.514, 6330.35, 5788.254, 4550.98, 3595.234, 3022.696, 2600.452, 2026.542, 1472.124, 1050.358, 467.516, 286.458, 361.436, 753.426, 2326.234, 4621.98, 4621.042, 5251.234, 5039.448, 5029.034, 4837.5, 4233.552, 4440.382, 4767.884, 4733.212, 5057.58, 5538.018, 6184.444, 5522.076, 4529.852, 3714.88, 3060.38, 2574.0, 2127.75, 1603.236, 896.23, 592.988, 323.328, 392.49, 671.776, 2009.344, 4061.208, 4857.212, 5162.41, 4560.996, 4121.698, 4310.518, 4739.908, 4637.178, 4797.962, 5444.488, 6155.692, 5761.8, 4545.652, 3591.094, 2933.974, 2619.716, 2216.212, 1364.202, 1005.064, 565.87, 378.876, 391.094, 689.44, 2416.166, 4693.586, 5642.212, 5289.546, 4725.452, 4198.552, 4488.946, 4708.864, 4535.344, 4873.278, 5187.786, 5341.636, 6147.884, 6169.508, 6269.96, 5682.742, 5716.508, 5419.38, 4306.224, 4273.718, 4311.594, 3350.984, 3357.668, 2873.35, 2878.51, 2876.318, 2582.158, 2559.48, 2290.864, 1234.19, 1308.162, 1127.254, 1186.974, 1151.06, 411.17, 442.512, 452.138, 326.614, 310.126, 364.78, 353.17, 803.94, 803.076, 803.362, 2523.646, 2515.1, 4417.624, 5430.044, 4827.904, 4884.166, 4231.038, 4370.12, 4688.184, 4638.44, 5018.876, 5512.156, 6171.298, 5675.622, 4289.012, 3351.626, 3040.214, 2628.382, 2264.006, 1551.58, 905.71, 544.182, 400.0, 398.394, 698.8, 2340.272, 4552.97, 4066.956, 5018.282, 4681.592, 4331.228, 4653.16, 4695.198, 4599.936, 4719.316, 5396.82, 5465.9, 5021.614, 4302.504, 3826.908, 2919.352, 2513.84, 2026.212, 1246.164, 828.848, 529.776, 323.41, 394.08, 786.068, 2514.59, 4764.652, 4623.576, 4941.132, 4651.476, 4209.994, 4570.166, 4675.126, 4815.738, 4997.786, 5407.584, 5484.276, 4405.634, 4350.948, 3521.406, 3015.36, 2630.018, 2231.116, 1395.264, 803.42, 561.106, 399.228, 418.718, 723.458, 2009.696, 3524.406, 3858.254, 5144.91, 4485.29, 4180.316, 4427.462, 4842.486, 4787.168, 5070.444, 5489.938, 5549.212, 5304.086, 4441.034, 3616.994, 2967.256, 2525.706, 2130.942, 1263.772, 743.27, 464.432, 402.256, 398.032, 816.566, 2413.592, 5187.162, 5580.956, 4627.66, 4481.446, 4271.466, 4584.626, 4704.206, 4830.858, 5229.292, 5283.918, 6092.798, 5713.854, 4388.536, 3595.348, 3189.736, 2837.474, 2267.144, 1350.364, 759.76, 531.408, 404.938, 442.512, 728.17, 2292.4, 3946.888, 4997.506, 5422.22, 4806.776, 4121.4, 4516.41, 4993.096, 4692.254, 5007.252, 5555.336, 5907.178, 5506.278, 4225.672, 3698.882, 3128.228, 2758.646, 2455.86, 1709.778, 990.378, 624.196, 632.806, 325.416, 355.094, 815.266, 2743.566, 3981.326, 5556.664, 5033.852, 4859.012, 5048.88, 5037.52, 4660.53, 4860.472, 4337.414, 4082.25, 4230.036, 3972.362, 4350.958, 4363.222, 4158.964, 4774.784, 4840.954, 5040.148, 5296.92, 5763.976, 5493.122, 4511.56, 3358.516, 2759.14, 2782.488, 2426.46, 2372.59, 1947.44, 1649.11, 785.466, 535.666, 361.138, 399.76, 762.372, 2365.04, 4314.84, 4419.74, 4773.116, 4718.246, 4169.728, 4607.656, 4741.844, 4584.616, 4776.022, 5450.106, 5627.468, 5567.646, 4535.194, 3690.974, 3049.634, 2818.982, 2308.14, 1209.388, 699.904, 516.816, 383.008, 405.666, 758.582, 1947.152, 4276.574, 4834.44, 4591.746, 4926.102, 4232.062, 4583.47, 4788.378, 4719.776, 5071.32, 5507.856, 6090.97, 5767.226, 4536.738, 3560.128, 3044.246, 2640.906, 1892.824, 1406.308, 846.544, 502.228, 332.04, 350.826, 750.314, 2399.282, 4875.972, 5503.736, 5073.674, 4749.058, 4335.824, 4612.146, 4770.374, 4742.954, 5161.516, 5462.41, 5793.56, 5730.286, 4518.454, 3595.596, 3072.068, 2663.604, 2185.828, 1366.244, 939.994, 542.912, 389.614, 360.814, 745.186, 2290.546, 4029.624, 4727.26, 4350.036, 4745.514, 4304.57, 4576.166, 4795.562, 4769.152, 5143.872, 5555.23, 6214.72, 5739.284, 4596.492, 3629.13, 2864.118, 2747.942, 2243.844, 1616.428, 932.064, 518.752, 376.084, 372.042, 755.352, 2024.608, 5156.986, 5377.198, 5087.32, 4794.712, 4209.668, 4462.836, 4780.874, 4743.538, 5113.826, 5402.18, 6045.828, 5504.514, 4177.498, 3256.718, 3236.686, 2788.108, 2797.622, 2773.038, 2420.5, 2407.828, 2502.736, 2446.03, 1721.136, 1721.11, 1743.214, 1824.71, 1159.826, 1082.114, 1187.5, 1118.252, 723.776, 828.402, 439.034, 439.156, 301.522, 304.446, 340.494, 343.452, 348.924, 758.214, 787.826, 767.862, 2119.806, 2036.418, 2162.26, 2078.524, 4345.78, 4184.214, 4201.288, 4464.184, 4069.45, 3968.262, 4078.97, 4004.53, 3968.682, 4317.432, 4530.124, 4587.338, 3924.436, 3891.486, 3874.028, 4193.624, 4215.958, 4622.806, 4825.306, 4632.214, 4822.562, 4828.004, 4493.956, 4706.916, 4680.504, 5070.302, 5196.112, 5082.994, 5009.672, 5263.926, 5171.27, 5332.144, 5387.974, 3956.59, 3839.518, 3023.25, 3013.062, 2690.896, 2687.208, 2506.052, 2486.734, 1731.32, 1705.876, 1132.046, 769.242, 511.824, 454.69, 399.786, 698.484, 1861.048, 3773.31, 5367.918, 4896.022, 4734.778, 4006.874, 4467.13, 4889.126, 4666.244, 5034.748, 5437.202, 5937.062, 5843.672, 4384.556, 3386.32, 2807.218, 2676.824, 2405.37, 1568.464, 1107.224, 568.87, 453.11, 400.258, 692.312, 1645.138, 3501.63, 5118.622, 4837.464, 4765.702, 4105.73, 4479.428, 5397.024, 5372.04, 5095.652, 5284.438, 5315.282, 5295.224, 5218.756, 5342.02, 4225.128, 3724.658, 2686.392, 2548.546, 2546.566, 2004.416, 1834.376, 1117.692, 1201.396, 1125.856, 786.004, 576.064, 368.322, 361.48, 738.336, 2157.702, 5150.492, 5195.352, 4548.16, 4481.344, 4349.22, 4449.178, 4414.998, 4932.326, 5278.312, 5324.066, 5333.792, 5301.146, 5298.644, 5252.78, 4507.148, 5348.87, 5773.516, 5630.822, 3887.492, 3049.574, 2565.986, 2570.84, 1786.966, 1168.476, 864.048, 607.306, 597.352, 570.66, 675.86, 1834.756, 3851.732, 4685.132, 4581.334, 4388.852, 4066.766, 4635.28, 5057.028, 5289.914, 5289.314, 5468.172, 5764.752, 5559.936, 4512.95, 3552.446, 3057.502, 2834.188, 2512.06, 1644.888, 1012.452, 707.196, 428.832, 392.834, 705.916, 1673.586, 3414.982, 4711.67, 4597.324, 4091.972, 4170.916, 4559.554, 5102.324, 5120.064, 4951.786, 5110.592, 5246.11, 5299.384, 5733.87, 5611.402, 5679.852, 5318.332, 5270.444, 5371.66, 5333.128, 4167.874, 4182.07, 4190.78, 4105.7, 3074.25, 2950.806, 3099.162, 2654.132, 2664.87, 2651.83, 2676.552, 2643.874, 2072.692, 2098.974, 1275.476, 657.91, 433.404, 284.896, 293.666, 368.382, 365.084, 711.754, 710.15, 2459.524, 2345.758, 4675.502, 4668.388, 5128.222, 5054.96, 4786.942, 4702.596, 4208.592, 4238.776, 4464.728, 5010.148, 5035.958, 5174.044, 5393.234, 5824.784, 5387.772, 4415.554, 3385.27, 2668.072, 2586.544, 1943.688, 1513.498, 919.23, 563.368]\n"
     ]
    }
   ],
   "source": [
    "pl = p.tolist()\n",
    "print(pl[0:1000])"
   ]
  },
  {
   "cell_type": "code",
   "execution_count": 33,
   "id": "20922f70",
   "metadata": {},
   "outputs": [
    {
     "name": "stdout",
     "output_type": "stream",
     "text": [
      "[894, 617, 426, 426, 356, 765, 1654, 1838, 1838, 2403, 4429, 5265, 4748, 4906, 5108, 5108, 4921, 4377, 4385, 4110, 3680, 3060, 2693, 2003, 1686, 1349, 581, 326, 326, 241, 241, 334, 334, 803, 803, 2894, 5683, 6577, 6054, 5018, 4342, 4519, 4683, 4670, 4994, 5737, 5737, 6667, 6667, 6667, 5599, 5599, 5599, 3897, 3897, 3897, 3897, 2631, 2631, 2631, 2208, 2208, 2208, 1958, 1958, 1958, 1356, 1356, 1356, 867, 867, 867, 501, 501, 501, 332, 332, 332, 212, 212, 212, 324, 324, 895, 895, 895, 3013, 3013, 5614, 5455, 5455, 5764, 5764, 5443, 5443, 4472, 4472, 4696, 5026, 4939, 5270, 5828, 6706, 5953, 4652, 3457, 2836, 2419, 1768, 1084, 533, 328, 281, 360, 860, 3010, 5971, 6233, 5836, 5516, 4606, 4826, 5062, 4899, 5207, 5751, 6415, 6231, 4990, 3687, 2987, 2511, 1713, 1042, 529, 344, 250, 345, 885, 3040, 5850, 6490, 4907, 5389, 4613, 4786, 5100, 4991, 5369, 5968, 5968, 6783, 6122, 6122, 6122, 4731, 3724, 3228, 2700, 1924, 1326, 666, 374, 286, 353, 353, 833, 833, 2857, 2857, 5757, 5757, 6727, 6727, 5817, 5817, 5022, 5022, 4719, 4719, 5043, 5043, 5545, 5387, 5395, 5395, 5395, 5777, 5777, 5777, 6017, 6017, 5655, 5655, 5655, 4749, 4749, 4165, 4165, 3137, 3137, 3137, 2904, 2904, 2904, 2625, 2625, 2625, 2776, 2776, 2776, 1802, 1802, 1802, 805, 562, 374, 374, 405, 405, 405, 762, 762, 762, 1356, 1356, 1356, 1989, 1989, 1989, 3039, 3039, 3039, 3654, 3654, 3654, 4062, 4062, 4585, 4585, 4823, 4823, 4882, 4882, 4882, 4809, 4727, 4508, 4864, 4926, 3993, 3210, 3141, 3002, 3527, 1687, 1035, 662, 435, 313, 491, 880, 1164, 1960, 2778, 3612, 3973, 4289, 4258, 4569, 4675, 4550, 4401, 4294, 3811, 2992, 2286, 1695, 955, 549, 304, 247, 337, 854, 2818, 5628, 6517, 5769, 5004, 4298, 4377, 4735, 4766, 5112, 5740, 6630, 5869, 4282, 3108, 2400, 2149, 1433, 993, 484, 334, 235, 345, 839, 2974, 5936, 6174, 6174, 5677, 5877, 4909, 4756, 5178, 5014, 5293, 5770, 6745, 6476, 4700, 3459, 2836, 2658, 2101, 1187, 574, 369, 253, 334, 872, 3016, 5891, 6508, 5859, 5495, 4636, 4861, 4874, 4970, 5183, 5869, 6785, 6416, 4807, 3567, 2901, 2580, 2341, 1118, 628, 333, 276, 367, 879, 2982, 5821, 5821, 5765, 5900, 5900, 5278, 4714, 4976, 5084, 5026, 5446, 5927, 6742, 6372, 4980, 3804, 3239, 3064, 2355, 1323, 640, 411, 305, 342, 832, 2772, 5829, 6656, 5840, 5108, 4782, 5113, 5447, 5402, 5976, 6361, 6621, 6183, 5002, 4200, 3594, 3709, 3930, 2203, 1371, 822, 547, 382, 421, 762, 1355, 2012, 3047, 3761, 4266, 5069, 5332, 5253, 5441, 5301, 5301, 5203, 5203, 5203, 5086, 5086, 5086, 4564, 4564, 4564, 3564, 3564, 2977, 2977, 2977, 3065, 3065, 4533, 3083, 3083, 1531, 1531, 1531, 904, 904, 904, 737, 737, 457, 457, 407, 407, 407, 668, 668, 1201, 1456, 2323, 4028, 5022, 4451, 4308, 4285, 4496, 4577, 4753, 4910, 4236, 3412, 2836, 2211, 1513, 998, 506, 337, 241, 314, 854, 2874, 5835, 6625, 5887, 5151, 4282, 4651, 4673, 4880, 5071, 5746, 6510, 6057, 4474, 3496, 2690, 2274, 1674, 2442, 1044, 354, 309, 368, 894, 2983, 6046, 6405, 5975, 5391, 4615, 4889, 4815, 4948, 5120, 5873, 6700, 6078, 4836, 3550, 2965, 2546, 1696, 1031, 557, 344, 265, 365, 877, 3054, 5927, 6451, 5111, 5546, 4632, 4779, 5032, 5081, 5191, 5875, 6782, 6384, 5119, 3971, 3063, 2745, 3020, 1797, 785, 410, 285, 391, 882, 2829, 5535, 6621, 5508, 5181, 4766, 4787, 5139, 5145, 5526, 5893, 6656, 5975, 5107, 3723, 3228, 2891, 2188, 1354, 748, 427, 318, 360, 852, 2583, 5327, 5827, 5358, 4811, 4730, 5071, 5601, 5332, 5635, 5757, 6244, 5877, 5202, 4084, 3287, 2903, 3247, 2761, 1546, 804, 804, 575, 453, 436, 788, 1248, 1759, 1759, 2651, 2651, 2651, 3381, 3381, 3381, 3843, 3843, 3843, 4534, 4534, 4534, 4890, 4680, 4453, 4414, 4438, 4584, 4247, 3340, 3000, 3000, 3030, 3030, 2796, 2029, 1425, 811, 588, 365, 332, 527, 982, 1315, 1984, 3159, 4333, 4116, 4014, 4343, 4445, 4933, 4786, 4959, 4555, 3840, 3141, 2463, 2431, 1586, 638, 369, 265, 360, 862, 2899, 5842, 6485, 6076, 4965, 4379, 4652, 4802, 4804, 5118, 5794, 6726, 6250, 4335, 3097, 2581, 2283, 1501, 953, 545, 328, 237, 347, 851, 3004, 6039, 6442, 5929, 5526, 4518, 4765, 4981, 4880, 5429, 5848, 6879, 6231, 4792, 3496, 3028, 3540, 3068, 1129, 597, 343, 226, 343, 921, 3006, 5883, 6093, 5837, 5542, 4550, 4887, 4921, 4984, 5274, 5895, 6630, 6424, 4920, 3450, 3115, 2686, 1912, 1416, 684, 378, 268, 378, 900, 2940, 5982, 6543, 5825, 5535, 4671, 4872, 5217, 5220, 5443, 6134, 6874, 6395, 4853, 3763, 3763, 3222, 3222, 3222, 3761, 3761, 3761, 3761, 3218, 3218, 3218, 3218, 1617, 1617, 1617, 1617, 685, 685, 435, 435, 278, 278, 377, 377, 377, 847, 847, 847, 2805, 2805, 2805, 2805, 5356, 5356, 5356, 5582, 5582, 5582, 5159, 5159, 5159, 4444, 4444, 4444, 4303, 4303, 4303, 4705, 4705, 5214, 5214, 5092, 5092, 5092, 5120, 5120, 5120, 5644, 5644, 5644, 6061, 6061, 6061, 5292, 5292, 4634, 4634, 3498, 3498, 2971, 2971, 2905, 2905, 2621, 2621, 1892, 1340, 796, 556, 376, 395, 774, 1364, 2090, 2950, 3657, 4267, 5033, 5002, 4685, 5031, 5010, 5234, 4906, 4634, 3847, 3337, 4284, 4461, 2687, 1622, 696, 446, 434, 354, 478, 802, 1060, 1840, 2468, 3120, 3533, 4073, 4264, 4373, 4514, 4499, 4499, 4492, 4492, 3973, 3409, 2653, 2077, 2077, 1661, 1661, 2100, 2100, 2100, 563, 375, 293, 326, 813, 2822, 5869, 6221, 5825, 5138, 4482, 4569, 4569, 4911, 4911, 4911, 4911, 4899, 4899, 4899, 5055, 5698, 6601, 6258, 4381, 2970, 2491, 2174, 1514, 998, 544, 337, 219, 349, 872, 2924, 5968, 6541, 5890, 5605, 4572, 4739, 4989, 4910, 5201, 5888, 6985, 6035, 3941, 2937, 2925, 3747, 2933, 1221, 683, 472, 343, 390, 917, 2959, 5665, 6067, 6147, 5339, 4634, 4781, 4908, 5008, 4856, 4856, 5328, 5328, 6321, 6321, 6321, 5858, 5858, 5858, 5858, 4297, 4297, 4297, 4297, 3045, 3045, 3045, 2704, 2704, 2704, 2204, 2204, 1713, 1713, 1068, 611, 362, 254, 254, 383, 383, 820, 820, 2914, 2914, 5674, 5674, 6258, 6258, 5995, 5995, 5488, 4606, 4910, 5066, 5255, 5428, 5987, 6775, 6488, 5048, 3335, 2846, 3094, 2412, 1336, 768, 432]\n"
     ]
    }
   ],
   "source": [
    "yl = y_test.tolist()\n",
    "print(yl[0:1000])"
   ]
  },
  {
   "cell_type": "code",
   "execution_count": 32,
   "id": "46dbd936",
   "metadata": {},
   "outputs": [],
   "source": [
    "from sklearn import metrics\n",
    "mae = metrics.mean_absolute_error(p, y_test)\n",
    "mse = metrics.mean_squared_error(p, y_test)\n",
    "rmse = np.sqrt(mse)"
   ]
  },
  {
   "cell_type": "code",
   "execution_count": 33,
   "id": "85a44ef0",
   "metadata": {},
   "outputs": [
    {
     "name": "stdout",
     "output_type": "stream",
     "text": [
      "619.6785239128384\n"
     ]
    }
   ],
   "source": [
    "print(mae)"
   ]
  },
  {
   "cell_type": "code",
   "execution_count": null,
   "id": "b49502d8",
   "metadata": {},
   "outputs": [],
   "source": []
  },
  {
   "cell_type": "markdown",
   "id": "8f6ca1aa",
   "metadata": {},
   "source": [
    "# deep learning"
   ]
  },
  {
   "cell_type": "code",
   "execution_count": 40,
   "id": "5f0c6c9e",
   "metadata": {},
   "outputs": [],
   "source": [
    "import numpy as np\n",
    "import matplotlib.pyplot as plt\n",
    "import pandas as pd\n",
    "from keras.models import Sequential\n",
    "from keras.layers import Dense\n",
    "from keras import layers\n",
    "import tensorflow as tf"
   ]
  },
  {
   "cell_type": "code",
   "execution_count": 30,
   "id": "4c57a1a6",
   "metadata": {},
   "outputs": [],
   "source": [
    "no_features_columns = 8\n",
    "no_target_columns = 1"
   ]
  },
  {
   "cell_type": "code",
   "execution_count": 39,
   "id": "cda65ce5",
   "metadata": {},
   "outputs": [],
   "source": [
    "model = Sequential()\n",
    "model.add(Dense(32,activation ='relu' , input_shape = [no_features_columns]))\n",
    "model.add(Dense(16,activation = 'relu'))\n",
    "model.add(Dense(16,activation = 'relu'))\n",
    "model.add(Dense(16,activation = 'relu'))\n",
    "model.add(Dense(no_target_columns))"
   ]
  },
  {
   "cell_type": "code",
   "execution_count": 42,
   "id": "af09e728",
   "metadata": {},
   "outputs": [],
   "source": [
    "X = np.asarray(X).astype('float32')\n",
    "Y = np.asarray(Y).astype('float32')"
   ]
  },
  {
   "cell_type": "code",
   "execution_count": 48,
   "id": "93eb4484",
   "metadata": {},
   "outputs": [
    {
     "name": "stdout",
     "output_type": "stream",
     "text": [
      "Epoch 1/400\n",
      "753/753 [==============================] - 2s 1ms/step - loss: 590.0983 - accuracy: 1.7965e-04\n",
      "Epoch 2/400\n",
      "753/753 [==============================] - 1s 1ms/step - loss: 599.8044 - accuracy: 9.4158e-05\n",
      "Epoch 3/400\n",
      "753/753 [==============================] - 1s 1ms/step - loss: 584.7493 - accuracy: 9.3616e-05\n",
      "Epoch 4/400\n",
      "753/753 [==============================] - 1s 1ms/step - loss: 588.2243 - accuracy: 2.8044e-04\n",
      "Epoch 5/400\n",
      "753/753 [==============================] - 1s 1ms/step - loss: 588.6630 - accuracy: 9.1482e-05\n",
      "Epoch 6/400\n",
      "753/753 [==============================] - 1s 1ms/step - loss: 592.4150 - accuracy: 1.4013e-04\n",
      "Epoch 7/400\n",
      "753/753 [==============================] - 1s 1ms/step - loss: 586.4214 - accuracy: 1.5037e-04\n",
      "Epoch 8/400\n",
      "753/753 [==============================] - 1s 1ms/step - loss: 589.1867 - accuracy: 4.8850e-04\n",
      "Epoch 9/400\n",
      "753/753 [==============================] - 1s 1ms/step - loss: 589.8393 - accuracy: 1.4993e-04\n",
      "Epoch 10/400\n",
      "753/753 [==============================] - 1s 1ms/step - loss: 578.8757 - accuracy: 2.0755e-04\n",
      "Epoch 11/400\n",
      "753/753 [==============================] - 1s 1ms/step - loss: 596.3912 - accuracy: 1.9279e-04\n",
      "Epoch 12/400\n",
      "753/753 [==============================] - 1s 1ms/step - loss: 591.1181 - accuracy: 7.9748e-05\n",
      "Epoch 13/400\n",
      "753/753 [==============================] - 1s 1ms/step - loss: 593.8077 - accuracy: 1.8787e-04\n",
      "Epoch 14/400\n",
      "753/753 [==============================] - 1s 1ms/step - loss: 588.8702 - accuracy: 1.6049e-04\n",
      "Epoch 15/400\n",
      "753/753 [==============================] - 1s 1ms/step - loss: 591.4735 - accuracy: 2.3366e-04\n",
      "Epoch 16/400\n",
      "753/753 [==============================] - 1s 1ms/step - loss: 587.6141 - accuracy: 1.8778e-04\n",
      "Epoch 17/400\n",
      "753/753 [==============================] - 1s 1ms/step - loss: 589.3275 - accuracy: 2.1091e-04\n",
      "Epoch 18/400\n",
      "753/753 [==============================] - 1s 1ms/step - loss: 586.8139 - accuracy: 2.8235e-04\n",
      "Epoch 19/400\n",
      "753/753 [==============================] - 1s 1ms/step - loss: 591.4566 - accuracy: 6.6208e-05\n",
      "Epoch 20/400\n",
      "753/753 [==============================] - 1s 1ms/step - loss: 586.4903 - accuracy: 2.2482e-04\n",
      "Epoch 21/400\n",
      "753/753 [==============================] - 1s 1ms/step - loss: 595.0022 - accuracy: 1.9395e-04\n",
      "Epoch 22/400\n",
      "753/753 [==============================] - 1s 1ms/step - loss: 583.9541 - accuracy: 1.5334e-04\n",
      "Epoch 23/400\n",
      "753/753 [==============================] - 1s 1ms/step - loss: 592.6949 - accuracy: 1.7810e-04\n",
      "Epoch 24/400\n",
      "753/753 [==============================] - 1s 1ms/step - loss: 586.5175 - accuracy: 1.9625e-04\n",
      "Epoch 25/400\n",
      "753/753 [==============================] - 1s 1ms/step - loss: 592.9831 - accuracy: 1.3174e-04\n",
      "Epoch 26/400\n",
      "753/753 [==============================] - 1s 2ms/step - loss: 609.9152 - accuracy: 1.6107e-04\n",
      "Epoch 27/400\n",
      "753/753 [==============================] - 1s 1ms/step - loss: 583.7664 - accuracy: 2.1832e-04\n",
      "Epoch 28/400\n",
      "753/753 [==============================] - 1s 1ms/step - loss: 614.8408 - accuracy: 1.0243e-04\n",
      "Epoch 29/400\n",
      "753/753 [==============================] - 1s 1ms/step - loss: 590.6485 - accuracy: 2.2008e-04\n",
      "Epoch 30/400\n",
      "753/753 [==============================] - 1s 1ms/step - loss: 592.7197 - accuracy: 9.0786e-05\n",
      "Epoch 31/400\n",
      "753/753 [==============================] - 1s 1ms/step - loss: 593.6874 - accuracy: 2.0661e-04\n",
      "Epoch 32/400\n",
      "753/753 [==============================] - 1s 1ms/step - loss: 590.8820 - accuracy: 2.5050e-04\n",
      "Epoch 33/400\n",
      "753/753 [==============================] - 1s 1ms/step - loss: 580.8801 - accuracy: 6.5653e-05\n",
      "Epoch 34/400\n",
      "753/753 [==============================] - 1s 2ms/step - loss: 593.9468 - accuracy: 1.2160e-04\n",
      "Epoch 35/400\n",
      "753/753 [==============================] - 1s 2ms/step - loss: 589.4783 - accuracy: 1.5036e-04\n",
      "Epoch 36/400\n",
      "753/753 [==============================] - 1s 2ms/step - loss: 580.2902 - accuracy: 2.0786e-04\n",
      "Epoch 37/400\n",
      "753/753 [==============================] - 1s 2ms/step - loss: 587.8340 - accuracy: 1.8628e-04\n",
      "Epoch 38/400\n",
      "753/753 [==============================] - 1s 1ms/step - loss: 593.7088 - accuracy: 8.5155e-05\n",
      "Epoch 39/400\n",
      "753/753 [==============================] - 1s 1ms/step - loss: 585.7743 - accuracy: 2.0202e-04\n",
      "Epoch 40/400\n",
      "753/753 [==============================] - 1s 1ms/step - loss: 593.8783 - accuracy: 1.1774e-04\n",
      "Epoch 41/400\n",
      "753/753 [==============================] - 1s 1ms/step - loss: 591.9447 - accuracy: 1.7853e-04\n",
      "Epoch 42/400\n",
      "753/753 [==============================] - 1s 1ms/step - loss: 592.4011 - accuracy: 1.1804e-04\n",
      "Epoch 43/400\n",
      "753/753 [==============================] - 1s 1ms/step - loss: 595.1728 - accuracy: 1.5102e-04\n",
      "Epoch 44/400\n",
      "753/753 [==============================] - 1s 1ms/step - loss: 594.3764 - accuracy: 1.3467e-04\n",
      "Epoch 45/400\n",
      "753/753 [==============================] - 1s 1ms/step - loss: 591.7254 - accuracy: 2.8026e-04\n",
      "Epoch 46/400\n",
      "753/753 [==============================] - 1s 1ms/step - loss: 599.4462 - accuracy: 2.7020e-04\n",
      "Epoch 47/400\n",
      "753/753 [==============================] - 1s 1ms/step - loss: 588.4967 - accuracy: 1.7427e-04\n",
      "Epoch 48/400\n",
      "753/753 [==============================] - 1s 1ms/step - loss: 586.6304 - accuracy: 1.6343e-04\n",
      "Epoch 49/400\n",
      "753/753 [==============================] - 1s 1ms/step - loss: 588.5640 - accuracy: 1.4756e-04\n",
      "Epoch 50/400\n",
      "753/753 [==============================] - 1s 1ms/step - loss: 589.5043 - accuracy: 1.9248e-04\n",
      "Epoch 51/400\n",
      "753/753 [==============================] - 1s 1ms/step - loss: 592.4587 - accuracy: 1.4425e-04\n",
      "Epoch 52/400\n",
      "753/753 [==============================] - 1s 1ms/step - loss: 573.5785 - accuracy: 2.6613e-04\n",
      "Epoch 53/400\n",
      "753/753 [==============================] - 1s 1ms/step - loss: 593.4750 - accuracy: 2.9521e-04\n",
      "Epoch 54/400\n",
      "753/753 [==============================] - 1s 1ms/step - loss: 587.3717 - accuracy: 1.1369e-04\n",
      "Epoch 55/400\n",
      "753/753 [==============================] - 1s 1ms/step - loss: 596.3796 - accuracy: 2.0160e-04\n",
      "Epoch 56/400\n",
      "753/753 [==============================] - 1s 1ms/step - loss: 586.5261 - accuracy: 3.7793e-04\n",
      "Epoch 57/400\n",
      "753/753 [==============================] - 1s 1ms/step - loss: 586.4935 - accuracy: 2.0227e-04\n",
      "Epoch 58/400\n",
      "753/753 [==============================] - 1s 1ms/step - loss: 593.8577 - accuracy: 3.1092e-04\n",
      "Epoch 59/400\n",
      "753/753 [==============================] - 1s 1ms/step - loss: 587.9137 - accuracy: 1.9292e-04\n",
      "Epoch 60/400\n",
      "753/753 [==============================] - 1s 1ms/step - loss: 588.3412 - accuracy: 1.3363e-04\n",
      "Epoch 61/400\n",
      "753/753 [==============================] - 1s 1ms/step - loss: 596.2652 - accuracy: 1.3862e-04\n",
      "Epoch 62/400\n",
      "753/753 [==============================] - 1s 1ms/step - loss: 589.8155 - accuracy: 2.1711e-04\n",
      "Epoch 63/400\n",
      "753/753 [==============================] - 1s 1ms/step - loss: 589.7361 - accuracy: 1.6999e-04\n",
      "Epoch 64/400\n",
      "753/753 [==============================] - 1s 1ms/step - loss: 592.8303 - accuracy: 1.6116e-04\n",
      "Epoch 65/400\n",
      "753/753 [==============================] - 1s 1ms/step - loss: 591.4368 - accuracy: 9.4958e-05\n",
      "Epoch 66/400\n",
      "753/753 [==============================] - 1s 1ms/step - loss: 580.4036 - accuracy: 1.6013e-04\n",
      "Epoch 67/400\n",
      "753/753 [==============================] - 1s 1ms/step - loss: 577.2769 - accuracy: 1.3725e-04\n",
      "Epoch 68/400\n",
      "753/753 [==============================] - 1s 1ms/step - loss: 586.6494 - accuracy: 9.5707e-05\n",
      "Epoch 69/400\n",
      "753/753 [==============================] - 1s 1ms/step - loss: 578.8479 - accuracy: 7.4578e-05\n",
      "Epoch 70/400\n",
      "753/753 [==============================] - 1s 1ms/step - loss: 579.7869 - accuracy: 1.3866e-04: 0s - loss: 578.6278 - accura\n",
      "Epoch 71/400\n",
      "753/753 [==============================] - 1s 2ms/step - loss: 589.9674 - accuracy: 1.4051e-04\n",
      "Epoch 72/400\n",
      "753/753 [==============================] - 1s 2ms/step - loss: 583.9006 - accuracy: 1.9685e-04\n",
      "Epoch 73/400\n",
      "753/753 [==============================] - 1s 1ms/step - loss: 585.8162 - accuracy: 1.9902e-04\n",
      "Epoch 74/400\n",
      "753/753 [==============================] - 1s 1ms/step - loss: 585.6131 - accuracy: 1.4098e-04\n",
      "Epoch 75/400\n",
      "753/753 [==============================] - 1s 1ms/step - loss: 588.3135 - accuracy: 1.6435e-04\n",
      "Epoch 76/400\n",
      "753/753 [==============================] - 1s 1ms/step - loss: 582.2710 - accuracy: 1.8350e-04\n",
      "Epoch 77/400\n",
      "753/753 [==============================] - 1s 1ms/step - loss: 595.1970 - accuracy: 1.8191e-04\n",
      "Epoch 78/400\n",
      "753/753 [==============================] - 1s 1ms/step - loss: 585.1221 - accuracy: 2.5157e-04\n",
      "Epoch 79/400\n",
      "753/753 [==============================] - 1s 1ms/step - loss: 585.1194 - accuracy: 3.0719e-04\n",
      "Epoch 80/400\n",
      "753/753 [==============================] - 1s 1ms/step - loss: 601.4716 - accuracy: 3.9048e-04\n",
      "Epoch 81/400\n",
      "753/753 [==============================] - 1s 1ms/step - loss: 579.4106 - accuracy: 1.7729e-04\n",
      "Epoch 82/400\n",
      "753/753 [==============================] - 1s 1ms/step - loss: 586.7247 - accuracy: 1.5725e-04\n",
      "Epoch 83/400\n",
      "753/753 [==============================] - 1s 1ms/step - loss: 595.8177 - accuracy: 1.6350e-04\n",
      "Epoch 84/400\n",
      "753/753 [==============================] - 1s 1ms/step - loss: 592.9456 - accuracy: 1.7160e-04\n",
      "Epoch 85/400\n",
      "753/753 [==============================] - 1s 1ms/step - loss: 580.4112 - accuracy: 1.3466e-04\n",
      "Epoch 86/400\n",
      "753/753 [==============================] - 1s 1ms/step - loss: 585.5630 - accuracy: 1.5865e-04\n",
      "Epoch 87/400\n",
      "753/753 [==============================] - 1s 1ms/step - loss: 583.5235 - accuracy: 1.7000e-04\n",
      "Epoch 88/400\n",
      "753/753 [==============================] - 1s 1ms/step - loss: 592.2032 - accuracy: 2.2359e-04\n",
      "Epoch 89/400\n",
      "753/753 [==============================] - 1s 1ms/step - loss: 594.1385 - accuracy: 2.3166e-04\n",
      "Epoch 90/400\n",
      "753/753 [==============================] - 1s 1ms/step - loss: 591.8266 - accuracy: 8.8810e-05\n",
      "Epoch 91/400\n",
      "753/753 [==============================] - 1s 1ms/step - loss: 586.9664 - accuracy: 1.5090e-04\n",
      "Epoch 92/400\n",
      "753/753 [==============================] - 1s 1ms/step - loss: 593.1936 - accuracy: 1.0166e-04\n",
      "Epoch 93/400\n",
      "753/753 [==============================] - 1s 1ms/step - loss: 589.6734 - accuracy: 2.1521e-04\n",
      "Epoch 94/400\n",
      "753/753 [==============================] - 1s 1ms/step - loss: 588.5567 - accuracy: 1.7342e-04\n",
      "Epoch 95/400\n",
      "753/753 [==============================] - 1s 1ms/step - loss: 589.0738 - accuracy: 8.8454e-05\n",
      "Epoch 96/400\n",
      "753/753 [==============================] - 1s 1ms/step - loss: 587.3365 - accuracy: 1.4179e-04\n",
      "Epoch 97/400\n",
      "753/753 [==============================] - 1s 1ms/step - loss: 581.7124 - accuracy: 1.9737e-04: 0s - loss:\n",
      "Epoch 98/400\n",
      "753/753 [==============================] - 1s 1ms/step - loss: 586.1020 - accuracy: 1.3729e-04\n",
      "Epoch 99/400\n",
      "753/753 [==============================] - 1s 1ms/step - loss: 594.8589 - accuracy: 3.1546e-04\n",
      "Epoch 100/400\n",
      "753/753 [==============================] - 1s 1ms/step - loss: 584.5593 - accuracy: 1.1924e-04\n",
      "Epoch 101/400\n",
      "753/753 [==============================] - 1s 1ms/step - loss: 587.2222 - accuracy: 1.8918e-04\n",
      "Epoch 102/400\n",
      "753/753 [==============================] - 1s 1ms/step - loss: 595.3975 - accuracy: 2.7500e-04\n",
      "Epoch 103/400\n",
      "753/753 [==============================] - 1s 1ms/step - loss: 584.5132 - accuracy: 1.4585e-04\n",
      "Epoch 104/400\n",
      "753/753 [==============================] - 1s 1ms/step - loss: 588.5219 - accuracy: 1.1513e-04\n",
      "Epoch 105/400\n",
      "753/753 [==============================] - 1s 1ms/step - loss: 583.8772 - accuracy: 2.4515e-04\n",
      "Epoch 106/400\n",
      "753/753 [==============================] - 1s 1ms/step - loss: 585.0419 - accuracy: 2.1993e-04\n",
      "Epoch 107/400\n",
      "753/753 [==============================] - 1s 1ms/step - loss: 587.6380 - accuracy: 3.0939e-04\n",
      "Epoch 108/400\n",
      "753/753 [==============================] - 1s 1ms/step - loss: 581.3356 - accuracy: 3.1182e-04\n",
      "Epoch 109/400\n",
      "753/753 [==============================] - 1s 1ms/step - loss: 579.7918 - accuracy: 2.0602e-04\n",
      "Epoch 110/400\n",
      "753/753 [==============================] - 1s 1ms/step - loss: 584.2742 - accuracy: 2.1669e-04\n",
      "Epoch 111/400\n",
      "753/753 [==============================] - 1s 1ms/step - loss: 593.3240 - accuracy: 1.4287e-04\n",
      "Epoch 112/400\n",
      "753/753 [==============================] - 1s 1ms/step - loss: 586.1076 - accuracy: 2.5608e-04\n",
      "Epoch 113/400\n",
      "753/753 [==============================] - 1s 1ms/step - loss: 578.0983 - accuracy: 9.0963e-05\n",
      "Epoch 114/400\n",
      "753/753 [==============================] - 1s 1ms/step - loss: 588.0119 - accuracy: 1.4356e-04\n",
      "Epoch 115/400\n",
      "753/753 [==============================] - 1s 1ms/step - loss: 593.6963 - accuracy: 1.4511e-04\n",
      "Epoch 116/400\n",
      "753/753 [==============================] - 1s 1ms/step - loss: 585.7717 - accuracy: 8.1075e-05\n",
      "Epoch 117/400\n",
      "753/753 [==============================] - 1s 1ms/step - loss: 591.9365 - accuracy: 6.0998e-05\n",
      "Epoch 118/400\n",
      "753/753 [==============================] - 1s 1ms/step - loss: 588.3921 - accuracy: 1.6194e-04\n",
      "Epoch 119/400\n",
      "753/753 [==============================] - 1s 1ms/step - loss: 582.8397 - accuracy: 1.3487e-04\n",
      "Epoch 120/400\n",
      "753/753 [==============================] - 1s 1ms/step - loss: 589.6934 - accuracy: 1.1184e-04\n",
      "Epoch 121/400\n",
      "753/753 [==============================] - 1s 1ms/step - loss: 584.4699 - accuracy: 1.4990e-04\n",
      "Epoch 122/400\n",
      "753/753 [==============================] - 1s 1ms/step - loss: 583.6930 - accuracy: 1.9173e-04\n",
      "Epoch 123/400\n",
      "753/753 [==============================] - 1s 1ms/step - loss: 593.6393 - accuracy: 6.3296e-05\n",
      "Epoch 124/400\n",
      "753/753 [==============================] - 1s 1ms/step - loss: 588.0344 - accuracy: 1.9428e-04\n",
      "Epoch 125/400\n",
      "753/753 [==============================] - 1s 1ms/step - loss: 597.1768 - accuracy: 1.3493e-04\n",
      "Epoch 126/400\n",
      "753/753 [==============================] - 1s 1ms/step - loss: 593.8818 - accuracy: 1.0011e-04\n",
      "Epoch 127/400\n",
      "753/753 [==============================] - 1s 1ms/step - loss: 587.8444 - accuracy: 1.9454e-04\n",
      "Epoch 128/400\n",
      "753/753 [==============================] - 1s 1ms/step - loss: 591.6222 - accuracy: 1.5491e-04\n",
      "Epoch 129/400\n",
      "753/753 [==============================] - 1s 1ms/step - loss: 588.2386 - accuracy: 1.5151e-04\n",
      "Epoch 130/400\n",
      "753/753 [==============================] - 1s 1ms/step - loss: 587.0077 - accuracy: 7.9683e-05\n",
      "Epoch 131/400\n",
      "753/753 [==============================] - 1s 1ms/step - loss: 585.9062 - accuracy: 1.3960e-04\n",
      "Epoch 132/400\n",
      "753/753 [==============================] - 1s 1ms/step - loss: 585.2663 - accuracy: 1.3506e-04\n",
      "Epoch 133/400\n",
      "753/753 [==============================] - 1s 1ms/step - loss: 586.4994 - accuracy: 1.3508e-04\n",
      "Epoch 134/400\n",
      "753/753 [==============================] - 1s 1ms/step - loss: 576.1171 - accuracy: 2.6371e-04\n",
      "Epoch 135/400\n",
      "753/753 [==============================] - 1s 1ms/step - loss: 586.2602 - accuracy: 1.4644e-04\n",
      "Epoch 136/400\n",
      "753/753 [==============================] - 1s 1ms/step - loss: 585.5790 - accuracy: 1.8877e-04\n",
      "Epoch 137/400\n",
      "753/753 [==============================] - 1s 1ms/step - loss: 586.1571 - accuracy: 1.9034e-04\n",
      "Epoch 138/400\n",
      "753/753 [==============================] - 1s 1ms/step - loss: 582.1744 - accuracy: 1.3919e-04\n",
      "Epoch 139/400\n",
      "753/753 [==============================] - 1s 1ms/step - loss: 595.8612 - accuracy: 1.6315e-04\n",
      "Epoch 140/400\n",
      "753/753 [==============================] - 1s 1ms/step - loss: 573.9180 - accuracy: 1.7865e-04\n",
      "Epoch 141/400\n",
      "753/753 [==============================] - 1s 1ms/step - loss: 582.5248 - accuracy: 1.1321e-04\n",
      "Epoch 142/400\n",
      "753/753 [==============================] - 1s 1ms/step - loss: 593.6048 - accuracy: 1.8533e-04\n",
      "Epoch 143/400\n",
      "753/753 [==============================] - 1s 1ms/step - loss: 577.5346 - accuracy: 1.2401e-04\n",
      "Epoch 144/400\n",
      "753/753 [==============================] - 1s 1ms/step - loss: 580.0084 - accuracy: 1.3332e-04\n",
      "Epoch 145/400\n",
      "753/753 [==============================] - 1s 1ms/step - loss: 577.9949 - accuracy: 1.5991e-04\n",
      "Epoch 146/400\n",
      "753/753 [==============================] - 1s 1ms/step - loss: 582.1895 - accuracy: 2.0622e-04\n",
      "Epoch 147/400\n",
      "753/753 [==============================] - 1s 1ms/step - loss: 584.2558 - accuracy: 2.7398e-04\n",
      "Epoch 148/400\n",
      "753/753 [==============================] - 1s 1ms/step - loss: 587.8497 - accuracy: 1.4636e-04\n",
      "Epoch 149/400\n",
      "753/753 [==============================] - 1s 1ms/step - loss: 590.7999 - accuracy: 2.7285e-04\n",
      "Epoch 150/400\n",
      "753/753 [==============================] - 1s 1ms/step - loss: 584.7084 - accuracy: 2.1704e-04\n",
      "Epoch 151/400\n"
     ]
    },
    {
     "name": "stdout",
     "output_type": "stream",
     "text": [
      "753/753 [==============================] - 1s 1ms/step - loss: 592.7622 - accuracy: 1.4324e-04\n",
      "Epoch 152/400\n",
      "753/753 [==============================] - 1s 1ms/step - loss: 587.0786 - accuracy: 9.9018e-05\n",
      "Epoch 153/400\n",
      "753/753 [==============================] - 1s 1ms/step - loss: 590.3896 - accuracy: 2.3895e-04\n",
      "Epoch 154/400\n",
      "753/753 [==============================] - 1s 1ms/step - loss: 583.4517 - accuracy: 1.7147e-04\n",
      "Epoch 155/400\n",
      "753/753 [==============================] - 1s 1ms/step - loss: 588.2551 - accuracy: 9.9230e-05\n",
      "Epoch 156/400\n",
      "753/753 [==============================] - 1s 1ms/step - loss: 589.9347 - accuracy: 1.5800e-04\n",
      "Epoch 157/400\n",
      "753/753 [==============================] - 1s 1ms/step - loss: 599.7696 - accuracy: 2.5345e-04\n",
      "Epoch 158/400\n",
      "753/753 [==============================] - 1s 1ms/step - loss: 595.5160 - accuracy: 5.0993e-05\n",
      "Epoch 159/400\n",
      "753/753 [==============================] - 1s 1ms/step - loss: 582.3004 - accuracy: 1.9707e-04\n",
      "Epoch 160/400\n",
      "753/753 [==============================] - 1s 1ms/step - loss: 598.0222 - accuracy: 1.5729e-04\n",
      "Epoch 161/400\n",
      "753/753 [==============================] - 1s 1ms/step - loss: 580.0410 - accuracy: 1.3653e-04\n",
      "Epoch 162/400\n",
      "753/753 [==============================] - 1s 1ms/step - loss: 592.3472 - accuracy: 1.3720e-04\n",
      "Epoch 163/400\n",
      "753/753 [==============================] - 1s 1ms/step - loss: 586.9510 - accuracy: 2.0007e-04\n",
      "Epoch 164/400\n",
      "753/753 [==============================] - 1s 1ms/step - loss: 583.5840 - accuracy: 2.0423e-04\n",
      "Epoch 165/400\n",
      "753/753 [==============================] - 1s 1ms/step - loss: 591.6205 - accuracy: 1.3737e-04\n",
      "Epoch 166/400\n",
      "753/753 [==============================] - 1s 1ms/step - loss: 584.8897 - accuracy: 1.7132e-04\n",
      "Epoch 167/400\n",
      "753/753 [==============================] - 1s 1ms/step - loss: 576.2323 - accuracy: 9.7504e-05\n",
      "Epoch 168/400\n",
      "753/753 [==============================] - 1s 1ms/step - loss: 584.2472 - accuracy: 2.0900e-04\n",
      "Epoch 169/400\n",
      "753/753 [==============================] - 1s 1ms/step - loss: 577.5276 - accuracy: 1.2566e-04\n",
      "Epoch 170/400\n",
      "753/753 [==============================] - 1s 1ms/step - loss: 587.8120 - accuracy: 2.2396e-04\n",
      "Epoch 171/400\n",
      "753/753 [==============================] - 1s 1ms/step - loss: 584.8911 - accuracy: 3.7107e-04\n",
      "Epoch 172/400\n",
      "753/753 [==============================] - 1s 1ms/step - loss: 591.6553 - accuracy: 1.1222e-04\n",
      "Epoch 173/400\n",
      "753/753 [==============================] - 1s 1ms/step - loss: 579.0514 - accuracy: 1.8516e-04\n",
      "Epoch 174/400\n",
      "753/753 [==============================] - 1s 1ms/step - loss: 588.0543 - accuracy: 2.7337e-04\n",
      "Epoch 175/400\n",
      "753/753 [==============================] - 1s 1ms/step - loss: 579.5170 - accuracy: 2.1771e-04\n",
      "Epoch 176/400\n",
      "753/753 [==============================] - 1s 1ms/step - loss: 588.9849 - accuracy: 2.7920e-04\n",
      "Epoch 177/400\n",
      "753/753 [==============================] - 1s 1ms/step - loss: 577.8787 - accuracy: 1.2835e-04\n",
      "Epoch 178/400\n",
      "753/753 [==============================] - 1s 1ms/step - loss: 584.4111 - accuracy: 1.5973e-04\n",
      "Epoch 179/400\n",
      "753/753 [==============================] - 1s 1ms/step - loss: 581.8056 - accuracy: 1.1416e-04\n",
      "Epoch 180/400\n",
      "753/753 [==============================] - 1s 1ms/step - loss: 583.3691 - accuracy: 2.2339e-04\n",
      "Epoch 181/400\n",
      "753/753 [==============================] - 1s 1ms/step - loss: 581.9471 - accuracy: 1.3092e-04\n",
      "Epoch 182/400\n",
      "753/753 [==============================] - 1s 1ms/step - loss: 583.3968 - accuracy: 2.2327e-04\n",
      "Epoch 183/400\n",
      "753/753 [==============================] - 1s 1ms/step - loss: 583.9515 - accuracy: 1.0008e-04\n",
      "Epoch 184/400\n",
      "753/753 [==============================] - 1s 1ms/step - loss: 584.2639 - accuracy: 2.5744e-04\n",
      "Epoch 185/400\n",
      "753/753 [==============================] - 1s 1ms/step - loss: 586.0326 - accuracy: 1.2000e-04\n",
      "Epoch 186/400\n",
      "753/753 [==============================] - 1s 1ms/step - loss: 585.4889 - accuracy: 2.3962e-04\n",
      "Epoch 187/400\n",
      "753/753 [==============================] - 1s 1ms/step - loss: 581.6318 - accuracy: 2.0049e-04\n",
      "Epoch 188/400\n",
      "753/753 [==============================] - 1s 1ms/step - loss: 587.6851 - accuracy: 2.5675e-04\n",
      "Epoch 189/400\n",
      "753/753 [==============================] - 1s 1ms/step - loss: 582.3914 - accuracy: 2.1014e-04\n",
      "Epoch 190/400\n",
      "753/753 [==============================] - 1s 1ms/step - loss: 590.2227 - accuracy: 1.2791e-04\n",
      "Epoch 191/400\n",
      "753/753 [==============================] - 1s 1ms/step - loss: 593.3831 - accuracy: 1.1567e-04\n",
      "Epoch 192/400\n",
      "753/753 [==============================] - 1s 1ms/step - loss: 589.4398 - accuracy: 1.2436e-04\n",
      "Epoch 193/400\n",
      "753/753 [==============================] - 1s 1ms/step - loss: 589.3589 - accuracy: 2.3417e-04\n",
      "Epoch 194/400\n",
      "753/753 [==============================] - 1s 1ms/step - loss: 589.8773 - accuracy: 2.9028e-04\n",
      "Epoch 195/400\n",
      "753/753 [==============================] - 1s 1ms/step - loss: 593.3681 - accuracy: 2.5309e-04\n",
      "Epoch 196/400\n",
      "753/753 [==============================] - 1s 1ms/step - loss: 591.8074 - accuracy: 2.2998e-04\n",
      "Epoch 197/400\n",
      "753/753 [==============================] - 1s 1ms/step - loss: 578.9735 - accuracy: 1.8941e-04\n",
      "Epoch 198/400\n",
      "753/753 [==============================] - 1s 1ms/step - loss: 586.8229 - accuracy: 1.1832e-04\n",
      "Epoch 199/400\n",
      "753/753 [==============================] - 1s 1ms/step - loss: 585.0715 - accuracy: 2.2274e-04\n",
      "Epoch 200/400\n",
      "753/753 [==============================] - 1s 1ms/step - loss: 585.4602 - accuracy: 1.1719e-04\n",
      "Epoch 201/400\n",
      "753/753 [==============================] - 1s 1ms/step - loss: 583.6549 - accuracy: 1.3163e-04\n",
      "Epoch 202/400\n",
      "753/753 [==============================] - 1s 1ms/step - loss: 586.0198 - accuracy: 1.6211e-04\n",
      "Epoch 203/400\n",
      "753/753 [==============================] - 1s 1ms/step - loss: 587.8991 - accuracy: 9.7154e-05: 0s - loss: 588\n",
      "Epoch 204/400\n",
      "753/753 [==============================] - 1s 1ms/step - loss: 595.6188 - accuracy: 1.8823e-04\n",
      "Epoch 205/400\n",
      "753/753 [==============================] - 1s 1ms/step - loss: 586.6279 - accuracy: 1.2677e-04\n",
      "Epoch 206/400\n",
      "753/753 [==============================] - 1s 1ms/step - loss: 580.4683 - accuracy: 9.6911e-05\n",
      "Epoch 207/400\n",
      "753/753 [==============================] - 1s 1ms/step - loss: 581.9629 - accuracy: 1.1969e-04\n",
      "Epoch 208/400\n",
      "753/753 [==============================] - 1s 1ms/step - loss: 592.0055 - accuracy: 2.1790e-04\n",
      "Epoch 209/400\n",
      "753/753 [==============================] - 1s 1ms/step - loss: 575.5093 - accuracy: 2.0836e-04\n",
      "Epoch 210/400\n",
      "753/753 [==============================] - 1s 1ms/step - loss: 595.0158 - accuracy: 1.3559e-04\n",
      "Epoch 211/400\n",
      "753/753 [==============================] - 1s 1ms/step - loss: 583.0587 - accuracy: 3.0399e-04\n",
      "Epoch 212/400\n",
      "753/753 [==============================] - 1s 1ms/step - loss: 583.8912 - accuracy: 1.2060e-04\n",
      "Epoch 213/400\n",
      "753/753 [==============================] - 1s 1ms/step - loss: 580.6059 - accuracy: 2.7857e-04\n",
      "Epoch 214/400\n",
      "753/753 [==============================] - 1s 1ms/step - loss: 582.6861 - accuracy: 7.9638e-05\n",
      "Epoch 215/400\n",
      "753/753 [==============================] - 1s 1ms/step - loss: 582.3870 - accuracy: 1.6433e-04\n",
      "Epoch 216/400\n",
      "753/753 [==============================] - 1s 1ms/step - loss: 592.5252 - accuracy: 7.3402e-05\n",
      "Epoch 217/400\n",
      "753/753 [==============================] - 1s 1ms/step - loss: 575.7351 - accuracy: 1.3455e-04\n",
      "Epoch 218/400\n",
      "753/753 [==============================] - 1s 1ms/step - loss: 580.3953 - accuracy: 2.1976e-04\n",
      "Epoch 219/400\n",
      "753/753 [==============================] - 1s 1ms/step - loss: 591.3150 - accuracy: 1.4448e-04\n",
      "Epoch 220/400\n",
      "753/753 [==============================] - 1s 1ms/step - loss: 589.6117 - accuracy: 2.3427e-04\n",
      "Epoch 221/400\n",
      "753/753 [==============================] - 1s 1ms/step - loss: 592.2259 - accuracy: 1.3170e-04\n",
      "Epoch 222/400\n",
      "753/753 [==============================] - 1s 1ms/step - loss: 592.6018 - accuracy: 1.6965e-04\n",
      "Epoch 223/400\n",
      "753/753 [==============================] - 1s 1ms/step - loss: 587.1832 - accuracy: 2.0696e-04\n",
      "Epoch 224/400\n",
      "753/753 [==============================] - 1s 1ms/step - loss: 584.3054 - accuracy: 1.9131e-04\n",
      "Epoch 225/400\n",
      "753/753 [==============================] - 1s 1ms/step - loss: 588.4219 - accuracy: 2.8319e-04\n",
      "Epoch 226/400\n",
      "753/753 [==============================] - 1s 1ms/step - loss: 593.4153 - accuracy: 1.5752e-04\n",
      "Epoch 227/400\n",
      "753/753 [==============================] - 1s 1ms/step - loss: 569.3096 - accuracy: 1.0958e-04\n",
      "Epoch 228/400\n",
      "753/753 [==============================] - 1s 1ms/step - loss: 578.5355 - accuracy: 2.0680e-04\n",
      "Epoch 229/400\n",
      "753/753 [==============================] - 1s 1ms/step - loss: 585.1126 - accuracy: 2.4355e-04\n",
      "Epoch 230/400\n",
      "753/753 [==============================] - 1s 1ms/step - loss: 582.9751 - accuracy: 2.1624e-04\n",
      "Epoch 231/400\n",
      "753/753 [==============================] - 1s 1ms/step - loss: 586.4687 - accuracy: 1.4389e-04\n",
      "Epoch 232/400\n",
      "753/753 [==============================] - 1s 1ms/step - loss: 587.9087 - accuracy: 2.9719e-04\n",
      "Epoch 233/400\n",
      "753/753 [==============================] - 1s 1ms/step - loss: 572.1229 - accuracy: 1.4112e-04\n",
      "Epoch 234/400\n",
      "753/753 [==============================] - 1s 1ms/step - loss: 600.6044 - accuracy: 1.3960e-04\n",
      "Epoch 235/400\n",
      "753/753 [==============================] - 1s 1ms/step - loss: 580.9750 - accuracy: 1.6922e-04\n",
      "Epoch 236/400\n",
      "753/753 [==============================] - 1s 1ms/step - loss: 584.6301 - accuracy: 1.8969e-04\n",
      "Epoch 237/400\n",
      "753/753 [==============================] - 1s 1ms/step - loss: 592.3904 - accuracy: 2.2804e-04\n",
      "Epoch 238/400\n",
      "753/753 [==============================] - 1s 1ms/step - loss: 584.2017 - accuracy: 1.8064e-04\n",
      "Epoch 239/400\n",
      "753/753 [==============================] - 1s 1ms/step - loss: 594.6738 - accuracy: 1.4523e-04\n",
      "Epoch 240/400\n",
      "753/753 [==============================] - 1s 1ms/step - loss: 578.7126 - accuracy: 4.1395e-04\n",
      "Epoch 241/400\n",
      "753/753 [==============================] - 1s 1ms/step - loss: 590.8075 - accuracy: 1.2451e-04\n",
      "Epoch 242/400\n",
      "753/753 [==============================] - 1s 1ms/step - loss: 583.7871 - accuracy: 1.9242e-04\n",
      "Epoch 243/400\n",
      "753/753 [==============================] - 1s 1ms/step - loss: 583.5145 - accuracy: 2.1613e-04\n",
      "Epoch 244/400\n",
      "753/753 [==============================] - 1s 1ms/step - loss: 586.8886 - accuracy: 1.1322e-04\n",
      "Epoch 245/400\n",
      "753/753 [==============================] - 1s 1ms/step - loss: 583.1871 - accuracy: 1.2945e-04\n",
      "Epoch 246/400\n",
      "753/753 [==============================] - 1s 1ms/step - loss: 581.5315 - accuracy: 1.8509e-04\n",
      "Epoch 247/400\n",
      "753/753 [==============================] - 1s 1ms/step - loss: 590.1697 - accuracy: 2.3674e-04\n",
      "Epoch 248/400\n",
      "753/753 [==============================] - 1s 1ms/step - loss: 597.4856 - accuracy: 2.6684e-04\n",
      "Epoch 249/400\n",
      "753/753 [==============================] - 1s 1ms/step - loss: 583.5602 - accuracy: 1.3895e-04\n",
      "Epoch 250/400\n",
      "753/753 [==============================] - 1s 1ms/step - loss: 584.3294 - accuracy: 1.4559e-04\n",
      "Epoch 251/400\n",
      "753/753 [==============================] - 1s 1ms/step - loss: 585.1129 - accuracy: 3.1889e-04\n",
      "Epoch 252/400\n",
      "753/753 [==============================] - 1s 1ms/step - loss: 579.4332 - accuracy: 2.3521e-04\n",
      "Epoch 253/400\n",
      "753/753 [==============================] - 1s 1ms/step - loss: 594.4555 - accuracy: 1.0296e-04\n",
      "Epoch 254/400\n",
      "753/753 [==============================] - 1s 1ms/step - loss: 574.3242 - accuracy: 1.6819e-04: 0s - loss: 573.3894 - accuracy: 1.6559\n",
      "Epoch 255/400\n",
      "753/753 [==============================] - 1s 1ms/step - loss: 591.7103 - accuracy: 1.5994e-04\n",
      "Epoch 256/400\n",
      "753/753 [==============================] - 1s 1ms/step - loss: 589.1099 - accuracy: 1.5620e-04\n",
      "Epoch 257/400\n",
      "753/753 [==============================] - 1s 1ms/step - loss: 588.0053 - accuracy: 2.2745e-04\n",
      "Epoch 258/400\n",
      "753/753 [==============================] - 1s 1ms/step - loss: 585.0217 - accuracy: 1.0005e-04\n",
      "Epoch 259/400\n",
      "753/753 [==============================] - 1s 1ms/step - loss: 583.2203 - accuracy: 2.5006e-04\n",
      "Epoch 260/400\n",
      "753/753 [==============================] - 1s 1ms/step - loss: 583.5639 - accuracy: 1.8118e-04\n",
      "Epoch 261/400\n",
      "753/753 [==============================] - 1s 1ms/step - loss: 592.3102 - accuracy: 3.6329e-04\n",
      "Epoch 262/400\n",
      "753/753 [==============================] - 1s 1ms/step - loss: 586.1293 - accuracy: 3.3465e-04\n",
      "Epoch 263/400\n",
      "753/753 [==============================] - 1s 1ms/step - loss: 585.8334 - accuracy: 1.4723e-04\n",
      "Epoch 264/400\n",
      "753/753 [==============================] - 1s 1ms/step - loss: 586.7462 - accuracy: 2.6710e-04\n",
      "Epoch 265/400\n",
      "753/753 [==============================] - 1s 1ms/step - loss: 580.6384 - accuracy: 1.5353e-04\n",
      "Epoch 266/400\n",
      "753/753 [==============================] - 1s 1ms/step - loss: 584.9166 - accuracy: 1.3755e-04\n",
      "Epoch 267/400\n",
      "753/753 [==============================] - 1s 1ms/step - loss: 579.5565 - accuracy: 3.0234e-04\n",
      "Epoch 268/400\n",
      "753/753 [==============================] - 1s 1ms/step - loss: 574.9085 - accuracy: 1.6949e-04\n",
      "Epoch 269/400\n",
      "753/753 [==============================] - 1s 1ms/step - loss: 584.6802 - accuracy: 1.2190e-04\n",
      "Epoch 270/400\n",
      "753/753 [==============================] - 1s 1ms/step - loss: 579.8011 - accuracy: 1.1342e-04\n",
      "Epoch 271/400\n",
      "753/753 [==============================] - 1s 1ms/step - loss: 582.6673 - accuracy: 1.9967e-04\n",
      "Epoch 272/400\n",
      "753/753 [==============================] - 1s 1ms/step - loss: 586.2734 - accuracy: 1.7072e-04\n",
      "Epoch 273/400\n",
      "753/753 [==============================] - 1s 1ms/step - loss: 584.7177 - accuracy: 9.8794e-05\n",
      "Epoch 274/400\n",
      "753/753 [==============================] - 1s 1ms/step - loss: 580.9081 - accuracy: 3.2764e-04\n",
      "Epoch 275/400\n",
      "753/753 [==============================] - 1s 1ms/step - loss: 585.8394 - accuracy: 1.3702e-04\n",
      "Epoch 276/400\n",
      "753/753 [==============================] - 1s 1ms/step - loss: 581.7867 - accuracy: 1.8323e-04\n",
      "Epoch 277/400\n",
      "753/753 [==============================] - 1s 1ms/step - loss: 585.7746 - accuracy: 6.9109e-05\n",
      "Epoch 278/400\n",
      "753/753 [==============================] - 1s 1ms/step - loss: 580.8584 - accuracy: 1.3775e-04\n",
      "Epoch 279/400\n",
      "753/753 [==============================] - 1s 1ms/step - loss: 584.7776 - accuracy: 1.2465e-04\n",
      "Epoch 280/400\n",
      "753/753 [==============================] - 1s 1ms/step - loss: 580.6627 - accuracy: 1.5851e-04\n",
      "Epoch 281/400\n",
      "753/753 [==============================] - 1s 1ms/step - loss: 583.8173 - accuracy: 3.0957e-04\n",
      "Epoch 282/400\n",
      "753/753 [==============================] - 1s 1ms/step - loss: 592.0921 - accuracy: 2.6024e-04\n",
      "Epoch 283/400\n",
      "753/753 [==============================] - 1s 1ms/step - loss: 582.8215 - accuracy: 2.4727e-04\n",
      "Epoch 284/400\n",
      "753/753 [==============================] - 1s 1ms/step - loss: 578.3697 - accuracy: 1.4921e-04\n",
      "Epoch 285/400\n",
      "753/753 [==============================] - 1s 1ms/step - loss: 587.7006 - accuracy: 1.9950e-04\n",
      "Epoch 286/400\n",
      "753/753 [==============================] - 1s 1ms/step - loss: 585.9845 - accuracy: 1.4791e-04\n",
      "Epoch 287/400\n",
      "753/753 [==============================] - 1s 1ms/step - loss: 583.2931 - accuracy: 2.2911e-04\n",
      "Epoch 288/400\n",
      "753/753 [==============================] - 1s 1ms/step - loss: 592.2519 - accuracy: 4.7960e-04\n",
      "Epoch 289/400\n",
      "753/753 [==============================] - 1s 1ms/step - loss: 581.8922 - accuracy: 1.6745e-04\n",
      "Epoch 290/400\n",
      "753/753 [==============================] - 1s 1ms/step - loss: 583.3105 - accuracy: 8.6833e-05\n",
      "Epoch 291/400\n",
      "753/753 [==============================] - 1s 1ms/step - loss: 590.8518 - accuracy: 1.5589e-04\n",
      "Epoch 292/400\n",
      "753/753 [==============================] - 1s 1ms/step - loss: 583.8311 - accuracy: 1.4428e-04\n",
      "Epoch 293/400\n",
      "753/753 [==============================] - 1s 1ms/step - loss: 589.4649 - accuracy: 1.2769e-04\n",
      "Epoch 294/400\n",
      "753/753 [==============================] - 1s 1ms/step - loss: 579.5149 - accuracy: 1.2012e-04\n",
      "Epoch 295/400\n",
      "753/753 [==============================] - 1s 1ms/step - loss: 586.8919 - accuracy: 1.5598e-04\n",
      "Epoch 296/400\n",
      "753/753 [==============================] - 1s 1ms/step - loss: 582.5012 - accuracy: 1.9386e-04\n",
      "Epoch 297/400\n",
      "753/753 [==============================] - 1s 1ms/step - loss: 584.5813 - accuracy: 9.3477e-05\n",
      "Epoch 298/400\n",
      "753/753 [==============================] - 1s 2ms/step - loss: 581.4810 - accuracy: 2.1541e-04\n",
      "Epoch 299/400\n",
      "753/753 [==============================] - 1s 1ms/step - loss: 595.2088 - accuracy: 1.7678e-04\n",
      "Epoch 300/400\n"
     ]
    },
    {
     "name": "stdout",
     "output_type": "stream",
     "text": [
      "753/753 [==============================] - 1s 1ms/step - loss: 582.4253 - accuracy: 1.1829e-04\n",
      "Epoch 301/400\n",
      "753/753 [==============================] - 1s 1ms/step - loss: 594.9836 - accuracy: 2.0022e-04\n",
      "Epoch 302/400\n",
      "753/753 [==============================] - 1s 1ms/step - loss: 591.1533 - accuracy: 1.3748e-04\n",
      "Epoch 303/400\n",
      "753/753 [==============================] - 1s 1ms/step - loss: 586.9959 - accuracy: 2.8804e-04\n",
      "Epoch 304/400\n",
      "753/753 [==============================] - 1s 1ms/step - loss: 597.7107 - accuracy: 1.0685e-04\n",
      "Epoch 305/400\n",
      "753/753 [==============================] - 1s 1ms/step - loss: 593.2915 - accuracy: 2.6821e-04\n",
      "Epoch 306/400\n",
      "753/753 [==============================] - 1s 1ms/step - loss: 589.9704 - accuracy: 1.0407e-04\n",
      "Epoch 307/400\n",
      "753/753 [==============================] - 1s 1ms/step - loss: 597.9739 - accuracy: 1.6139e-04\n",
      "Epoch 308/400\n",
      "753/753 [==============================] - 1s 1ms/step - loss: 577.8079 - accuracy: 1.9346e-04\n",
      "Epoch 309/400\n",
      "753/753 [==============================] - 1s 1ms/step - loss: 588.4354 - accuracy: 1.6093e-04\n",
      "Epoch 310/400\n",
      "753/753 [==============================] - 1s 1ms/step - loss: 586.5540 - accuracy: 1.8358e-04\n",
      "Epoch 311/400\n",
      "753/753 [==============================] - 1s 1ms/step - loss: 586.3474 - accuracy: 1.7672e-04\n",
      "Epoch 312/400\n",
      "753/753 [==============================] - 1s 1ms/step - loss: 586.1880 - accuracy: 2.3754e-04\n",
      "Epoch 313/400\n",
      "753/753 [==============================] - 1s 1ms/step - loss: 578.2807 - accuracy: 2.0332e-04\n",
      "Epoch 314/400\n",
      "753/753 [==============================] - 1s 1ms/step - loss: 586.8207 - accuracy: 1.6364e-04\n",
      "Epoch 315/400\n",
      "753/753 [==============================] - 1s 1ms/step - loss: 586.4638 - accuracy: 2.3134e-04\n",
      "Epoch 316/400\n",
      "753/753 [==============================] - 1s 1ms/step - loss: 582.5002 - accuracy: 1.9208e-04\n",
      "Epoch 317/400\n",
      "753/753 [==============================] - 1s 1ms/step - loss: 590.9236 - accuracy: 1.2919e-04\n",
      "Epoch 318/400\n",
      "753/753 [==============================] - 1s 1ms/step - loss: 585.4126 - accuracy: 1.9864e-04\n",
      "Epoch 319/400\n",
      "753/753 [==============================] - 1s 1ms/step - loss: 578.8676 - accuracy: 1.2886e-04\n",
      "Epoch 320/400\n",
      "753/753 [==============================] - 1s 1ms/step - loss: 582.6286 - accuracy: 2.1512e-04\n",
      "Epoch 321/400\n",
      "753/753 [==============================] - 1s 1ms/step - loss: 589.8707 - accuracy: 2.8602e-04\n",
      "Epoch 322/400\n",
      "753/753 [==============================] - 1s 1ms/step - loss: 585.8527 - accuracy: 1.6931e-04\n",
      "Epoch 323/400\n",
      "753/753 [==============================] - 1s 1ms/step - loss: 576.8515 - accuracy: 3.8634e-04\n",
      "Epoch 324/400\n",
      "753/753 [==============================] - 1s 1ms/step - loss: 589.2434 - accuracy: 1.5594e-04\n",
      "Epoch 325/400\n",
      "753/753 [==============================] - 1s 1ms/step - loss: 590.5749 - accuracy: 1.3573e-04\n",
      "Epoch 326/400\n",
      "753/753 [==============================] - 1s 1ms/step - loss: 584.6948 - accuracy: 1.2981e-04\n",
      "Epoch 327/400\n",
      "753/753 [==============================] - 1s 1ms/step - loss: 588.1902 - accuracy: 2.0776e-04\n",
      "Epoch 328/400\n",
      "753/753 [==============================] - 1s 1ms/step - loss: 579.9842 - accuracy: 1.4036e-04\n",
      "Epoch 329/400\n",
      "753/753 [==============================] - 1s 1ms/step - loss: 595.8386 - accuracy: 2.0669e-04\n",
      "Epoch 330/400\n",
      "753/753 [==============================] - 1s 1ms/step - loss: 591.8351 - accuracy: 1.2249e-04\n",
      "Epoch 331/400\n",
      "753/753 [==============================] - 1s 1ms/step - loss: 573.5087 - accuracy: 9.5626e-05\n",
      "Epoch 332/400\n",
      "753/753 [==============================] - 1s 1ms/step - loss: 588.0736 - accuracy: 1.3457e-04\n",
      "Epoch 333/400\n",
      "753/753 [==============================] - 1s 1ms/step - loss: 584.3394 - accuracy: 1.9696e-04\n",
      "Epoch 334/400\n",
      "753/753 [==============================] - 1s 1ms/step - loss: 577.2315 - accuracy: 2.3882e-04\n",
      "Epoch 335/400\n",
      "753/753 [==============================] - 1s 1ms/step - loss: 589.5543 - accuracy: 1.1169e-04\n",
      "Epoch 336/400\n",
      "753/753 [==============================] - 1s 1ms/step - loss: 586.2467 - accuracy: 1.6462e-04\n",
      "Epoch 337/400\n",
      "753/753 [==============================] - 1s 1ms/step - loss: 593.4968 - accuracy: 1.4770e-04\n",
      "Epoch 338/400\n",
      "753/753 [==============================] - 1s 1ms/step - loss: 582.8513 - accuracy: 1.3626e-04\n",
      "Epoch 339/400\n",
      "753/753 [==============================] - 1s 1ms/step - loss: 581.0292 - accuracy: 1.4046e-04\n",
      "Epoch 340/400\n",
      "753/753 [==============================] - 1s 1ms/step - loss: 593.5030 - accuracy: 3.2899e-04\n",
      "Epoch 341/400\n",
      "753/753 [==============================] - 1s 1ms/step - loss: 584.1706 - accuracy: 1.6803e-04\n",
      "Epoch 342/400\n",
      "753/753 [==============================] - 1s 1ms/step - loss: 585.9197 - accuracy: 2.2852e-04\n",
      "Epoch 343/400\n",
      "753/753 [==============================] - 1s 1ms/step - loss: 578.7851 - accuracy: 1.6893e-04\n",
      "Epoch 344/400\n",
      "753/753 [==============================] - 1s 1ms/step - loss: 586.7699 - accuracy: 3.9194e-04\n",
      "Epoch 345/400\n",
      "753/753 [==============================] - 1s 1ms/step - loss: 577.9020 - accuracy: 1.7095e-04\n",
      "Epoch 346/400\n",
      "753/753 [==============================] - 1s 1ms/step - loss: 579.3266 - accuracy: 7.7198e-05\n",
      "Epoch 347/400\n",
      "753/753 [==============================] - 1s 1ms/step - loss: 593.1668 - accuracy: 3.1276e-04\n",
      "Epoch 348/400\n",
      "753/753 [==============================] - 1s 1ms/step - loss: 581.5780 - accuracy: 2.6066e-04\n",
      "Epoch 349/400\n",
      "753/753 [==============================] - 1s 1ms/step - loss: 595.0610 - accuracy: 2.1136e-04\n",
      "Epoch 350/400\n",
      "753/753 [==============================] - 1s 1ms/step - loss: 590.5113 - accuracy: 1.4710e-04\n",
      "Epoch 351/400\n",
      "753/753 [==============================] - 1s 1ms/step - loss: 580.5368 - accuracy: 1.5334e-04\n",
      "Epoch 352/400\n",
      "753/753 [==============================] - 1s 1ms/step - loss: 585.8955 - accuracy: 1.4019e-04\n",
      "Epoch 353/400\n",
      "753/753 [==============================] - 1s 1ms/step - loss: 590.1703 - accuracy: 1.8551e-04\n",
      "Epoch 354/400\n",
      "753/753 [==============================] - 1s 1ms/step - loss: 583.1515 - accuracy: 1.1995e-04\n",
      "Epoch 355/400\n",
      "753/753 [==============================] - 1s 1ms/step - loss: 577.8931 - accuracy: 8.2206e-05\n",
      "Epoch 356/400\n",
      "753/753 [==============================] - 1s 1ms/step - loss: 583.5535 - accuracy: 8.1411e-05\n",
      "Epoch 357/400\n",
      "753/753 [==============================] - 1s 1ms/step - loss: 585.7010 - accuracy: 2.3580e-04\n",
      "Epoch 358/400\n",
      "753/753 [==============================] - 1s 1ms/step - loss: 591.8571 - accuracy: 1.7948e-04\n",
      "Epoch 359/400\n",
      "753/753 [==============================] - 1s 1ms/step - loss: 580.5768 - accuracy: 1.3287e-04\n",
      "Epoch 360/400\n",
      "753/753 [==============================] - 1s 1ms/step - loss: 580.4510 - accuracy: 1.4558e-04\n",
      "Epoch 361/400\n",
      "753/753 [==============================] - 1s 1ms/step - loss: 575.4930 - accuracy: 2.2235e-04\n",
      "Epoch 362/400\n",
      "753/753 [==============================] - 1s 1ms/step - loss: 584.2396 - accuracy: 3.7247e-04\n",
      "Epoch 363/400\n",
      "753/753 [==============================] - 1s 1ms/step - loss: 587.8589 - accuracy: 3.6855e-04\n",
      "Epoch 364/400\n",
      "753/753 [==============================] - 1s 1ms/step - loss: 581.7481 - accuracy: 1.6684e-04\n",
      "Epoch 365/400\n",
      "753/753 [==============================] - 1s 1ms/step - loss: 591.5310 - accuracy: 1.1966e-04\n",
      "Epoch 366/400\n",
      "753/753 [==============================] - 1s 1ms/step - loss: 586.2952 - accuracy: 2.6917e-04\n",
      "Epoch 367/400\n",
      "753/753 [==============================] - 1s 1ms/step - loss: 588.5141 - accuracy: 2.5906e-04\n",
      "Epoch 368/400\n",
      "753/753 [==============================] - 1s 1ms/step - loss: 586.7269 - accuracy: 1.0564e-04\n",
      "Epoch 369/400\n",
      "753/753 [==============================] - 1s 1ms/step - loss: 586.8776 - accuracy: 1.5470e-04\n",
      "Epoch 370/400\n",
      "753/753 [==============================] - 1s 1ms/step - loss: 574.9065 - accuracy: 1.2053e-04\n",
      "Epoch 371/400\n",
      "753/753 [==============================] - 1s 1ms/step - loss: 578.6541 - accuracy: 2.3854e-04\n",
      "Epoch 372/400\n",
      "753/753 [==============================] - 1s 1ms/step - loss: 576.5253 - accuracy: 1.4521e-04\n",
      "Epoch 373/400\n",
      "753/753 [==============================] - 1s 1ms/step - loss: 584.2676 - accuracy: 2.1606e-04\n",
      "Epoch 374/400\n",
      "753/753 [==============================] - 1s 1ms/step - loss: 583.5946 - accuracy: 8.7718e-05\n",
      "Epoch 375/400\n",
      "753/753 [==============================] - 1s 1ms/step - loss: 585.9057 - accuracy: 1.3026e-04\n",
      "Epoch 376/400\n",
      "753/753 [==============================] - 1s 1ms/step - loss: 581.8180 - accuracy: 1.7891e-04\n",
      "Epoch 377/400\n",
      "753/753 [==============================] - 1s 1ms/step - loss: 577.8117 - accuracy: 2.6830e-04\n",
      "Epoch 378/400\n",
      "753/753 [==============================] - 1s 1ms/step - loss: 570.9999 - accuracy: 1.0652e-04\n",
      "Epoch 379/400\n",
      "753/753 [==============================] - 1s 1ms/step - loss: 592.6257 - accuracy: 1.5033e-04\n",
      "Epoch 380/400\n",
      "753/753 [==============================] - 1s 1ms/step - loss: 580.0860 - accuracy: 2.1192e-04\n",
      "Epoch 381/400\n",
      "753/753 [==============================] - 1s 1ms/step - loss: 587.9453 - accuracy: 1.0953e-04\n",
      "Epoch 382/400\n",
      "753/753 [==============================] - 1s 1ms/step - loss: 577.2179 - accuracy: 1.9357e-04\n",
      "Epoch 383/400\n",
      "753/753 [==============================] - 1s 1ms/step - loss: 577.9722 - accuracy: 8.5831e-05\n",
      "Epoch 384/400\n",
      "753/753 [==============================] - 1s 2ms/step - loss: 584.8711 - accuracy: 2.4000e-04\n",
      "Epoch 385/400\n",
      "753/753 [==============================] - 1s 1ms/step - loss: 587.8806 - accuracy: 1.4698e-04\n",
      "Epoch 386/400\n",
      "753/753 [==============================] - 1s 1ms/step - loss: 589.6066 - accuracy: 1.9069e-04\n",
      "Epoch 387/400\n",
      "753/753 [==============================] - 1s 1ms/step - loss: 580.2319 - accuracy: 1.6340e-04\n",
      "Epoch 388/400\n",
      "753/753 [==============================] - 1s 1ms/step - loss: 576.2214 - accuracy: 1.1545e-04\n",
      "Epoch 389/400\n",
      "753/753 [==============================] - 1s 1ms/step - loss: 577.8585 - accuracy: 2.2512e-04\n",
      "Epoch 390/400\n",
      "753/753 [==============================] - 1s 1ms/step - loss: 582.9713 - accuracy: 1.2216e-04\n",
      "Epoch 391/400\n",
      "753/753 [==============================] - 1s 1ms/step - loss: 585.8242 - accuracy: 1.8697e-04\n",
      "Epoch 392/400\n",
      "753/753 [==============================] - 1s 1ms/step - loss: 583.4262 - accuracy: 1.1483e-04\n",
      "Epoch 393/400\n",
      "753/753 [==============================] - 1s 1ms/step - loss: 585.6483 - accuracy: 1.4365e-04\n",
      "Epoch 394/400\n",
      "753/753 [==============================] - 1s 1ms/step - loss: 573.3472 - accuracy: 8.7700e-05\n",
      "Epoch 395/400\n",
      "753/753 [==============================] - 1s 1ms/step - loss: 590.6133 - accuracy: 1.3344e-04\n",
      "Epoch 396/400\n",
      "753/753 [==============================] - 1s 1ms/step - loss: 576.7585 - accuracy: 1.9626e-04\n",
      "Epoch 397/400\n",
      "753/753 [==============================] - 1s 1ms/step - loss: 591.2709 - accuracy: 1.6571e-04\n",
      "Epoch 398/400\n",
      "753/753 [==============================] - 1s 1ms/step - loss: 583.3995 - accuracy: 1.7780e-04\n",
      "Epoch 399/400\n",
      "753/753 [==============================] - 1s 1ms/step - loss: 589.2374 - accuracy: 3.5256e-04\n",
      "Epoch 400/400\n",
      "753/753 [==============================] - 1s 1ms/step - loss: 585.3704 - accuracy: 1.1820e-04: 0s - loss: 5\n"
     ]
    },
    {
     "data": {
      "text/plain": [
       "<keras.callbacks.History at 0x24b5f206610>"
      ]
     },
     "execution_count": 48,
     "metadata": {},
     "output_type": "execute_result"
    }
   ],
   "source": [
    "model.compile(loss='mean_absolute_error', optimizer='adam', metrics=['accuracy'])\n",
    "model.fit(X, Y, epochs=400, batch_size=50)"
   ]
  },
  {
   "cell_type": "code",
   "execution_count": 49,
   "id": "ca3bd1cf",
   "metadata": {},
   "outputs": [
    {
     "name": "stdout",
     "output_type": "stream",
     "text": [
      "1176/1176 [==============================] - 1s 867us/step - loss: 583.7117 - accuracy: 1.8616e-04\n",
      "Accuracy: 0.02\n"
     ]
    }
   ],
   "source": [
    "_, accuracy = model.evaluate(X, Y)\n",
    "print('Accuracy: %.2f' % (accuracy*100))"
   ]
  },
  {
   "cell_type": "code",
   "execution_count": 52,
   "id": "0952f7c6",
   "metadata": {},
   "outputs": [],
   "source": [
    "y_pred = model.predict(X)"
   ]
  },
  {
   "cell_type": "code",
   "execution_count": 54,
   "id": "52de3b92",
   "metadata": {},
   "outputs": [
    {
     "name": "stdout",
     "output_type": "stream",
     "text": [
      "2791.634288369449\n",
      "7793222.0\n"
     ]
    }
   ],
   "source": [
    "import math\n",
    "MSE = np.square(np.subtract(Y,y_pred)).mean() \n",
    "RMSE = math.sqrt(MSE)\n",
    "print(RMSE)\n",
    "print(MSE)"
   ]
  },
  {
   "cell_type": "code",
   "execution_count": null,
   "id": "ebc4b183",
   "metadata": {},
   "outputs": [],
   "source": []
  },
  {
   "cell_type": "code",
   "execution_count": null,
   "id": "9e5bd173",
   "metadata": {},
   "outputs": [],
   "source": []
  },
  {
   "cell_type": "code",
   "execution_count": 15,
   "id": "f6792bb9",
   "metadata": {},
   "outputs": [],
   "source": []
  },
  {
   "cell_type": "code",
   "execution_count": null,
   "id": "52ccee78",
   "metadata": {},
   "outputs": [],
   "source": []
  },
  {
   "cell_type": "code",
   "execution_count": null,
   "id": "9b418ad2",
   "metadata": {},
   "outputs": [],
   "source": []
  },
  {
   "cell_type": "code",
   "execution_count": null,
   "id": "88f0e354",
   "metadata": {},
   "outputs": [],
   "source": []
  },
  {
   "cell_type": "code",
   "execution_count": null,
   "id": "6e920d32",
   "metadata": {},
   "outputs": [],
   "source": []
  }
 ],
 "metadata": {
  "kernelspec": {
   "display_name": "Python 3",
   "language": "python",
   "name": "python3"
  },
  "language_info": {
   "codemirror_mode": {
    "name": "ipython",
    "version": 3
   },
   "file_extension": ".py",
   "mimetype": "text/x-python",
   "name": "python",
   "nbconvert_exporter": "python",
   "pygments_lexer": "ipython3",
   "version": "3.9.4"
  }
 },
 "nbformat": 4,
 "nbformat_minor": 5
}
