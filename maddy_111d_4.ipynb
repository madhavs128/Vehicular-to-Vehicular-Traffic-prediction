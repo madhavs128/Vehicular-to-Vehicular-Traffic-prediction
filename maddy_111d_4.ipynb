{
 "cells": [
  {
   "cell_type": "code",
   "execution_count": 2,
   "id": "274b85ac",
   "metadata": {},
   "outputs": [],
   "source": [
    "import numpy as np\n",
    "import pandas as pd\n",
    "import matplotlib.pyplot as plt"
   ]
  },
  {
   "cell_type": "code",
   "execution_count": 26,
   "id": "ac9264cd",
   "metadata": {},
   "outputs": [
    {
     "data": {
      "text/html": [
       "<div>\n",
       "<style scoped>\n",
       "    .dataframe tbody tr th:only-of-type {\n",
       "        vertical-align: middle;\n",
       "    }\n",
       "\n",
       "    .dataframe tbody tr th {\n",
       "        vertical-align: top;\n",
       "    }\n",
       "\n",
       "    .dataframe thead th {\n",
       "        text-align: right;\n",
       "    }\n",
       "</style>\n",
       "<table border=\"1\" class=\"dataframe\">\n",
       "  <thead>\n",
       "    <tr style=\"text-align: right;\">\n",
       "      <th></th>\n",
       "      <th>holiday</th>\n",
       "      <th>temp</th>\n",
       "      <th>rain_1h</th>\n",
       "      <th>snow_1h</th>\n",
       "      <th>clouds_all</th>\n",
       "      <th>weather_main</th>\n",
       "      <th>day</th>\n",
       "      <th>weather_description</th>\n",
       "      <th>date_time</th>\n",
       "      <th>traffic_volume</th>\n",
       "    </tr>\n",
       "  </thead>\n",
       "  <tbody>\n",
       "    <tr>\n",
       "      <th>0</th>\n",
       "      <td>None</td>\n",
       "      <td>288.28</td>\n",
       "      <td>0.0</td>\n",
       "      <td>0.0</td>\n",
       "      <td>40</td>\n",
       "      <td>Clouds</td>\n",
       "      <td>Tuesday</td>\n",
       "      <td>scattered clouds</td>\n",
       "      <td>02-10-2012 09:00</td>\n",
       "      <td>5545</td>\n",
       "    </tr>\n",
       "    <tr>\n",
       "      <th>1</th>\n",
       "      <td>None</td>\n",
       "      <td>289.36</td>\n",
       "      <td>0.0</td>\n",
       "      <td>0.0</td>\n",
       "      <td>75</td>\n",
       "      <td>Clouds</td>\n",
       "      <td>Wednesday</td>\n",
       "      <td>broken clouds</td>\n",
       "      <td>02-10-2012 10:00</td>\n",
       "      <td>4516</td>\n",
       "    </tr>\n",
       "    <tr>\n",
       "      <th>2</th>\n",
       "      <td>None</td>\n",
       "      <td>289.58</td>\n",
       "      <td>0.0</td>\n",
       "      <td>0.0</td>\n",
       "      <td>90</td>\n",
       "      <td>Clouds</td>\n",
       "      <td>Thursday</td>\n",
       "      <td>overcast clouds</td>\n",
       "      <td>02-10-2012 11:00</td>\n",
       "      <td>4767</td>\n",
       "    </tr>\n",
       "    <tr>\n",
       "      <th>3</th>\n",
       "      <td>None</td>\n",
       "      <td>290.13</td>\n",
       "      <td>0.0</td>\n",
       "      <td>0.0</td>\n",
       "      <td>90</td>\n",
       "      <td>Clouds</td>\n",
       "      <td>Friday</td>\n",
       "      <td>overcast clouds</td>\n",
       "      <td>02-10-2012 12:00</td>\n",
       "      <td>5026</td>\n",
       "    </tr>\n",
       "    <tr>\n",
       "      <th>4</th>\n",
       "      <td>None</td>\n",
       "      <td>291.14</td>\n",
       "      <td>0.0</td>\n",
       "      <td>0.0</td>\n",
       "      <td>75</td>\n",
       "      <td>Clouds</td>\n",
       "      <td>Saturday</td>\n",
       "      <td>broken clouds</td>\n",
       "      <td>02-10-2012 13:00</td>\n",
       "      <td>4918</td>\n",
       "    </tr>\n",
       "  </tbody>\n",
       "</table>\n",
       "</div>"
      ],
      "text/plain": [
       "  holiday    temp  rain_1h  snow_1h  clouds_all weather_main        day  \\\n",
       "0    None  288.28      0.0      0.0          40       Clouds    Tuesday   \n",
       "1    None  289.36      0.0      0.0          75       Clouds  Wednesday   \n",
       "2    None  289.58      0.0      0.0          90       Clouds   Thursday   \n",
       "3    None  290.13      0.0      0.0          90       Clouds     Friday   \n",
       "4    None  291.14      0.0      0.0          75       Clouds   Saturday   \n",
       "\n",
       "  weather_description         date_time  traffic_volume  \n",
       "0    scattered clouds  02-10-2012 09:00            5545  \n",
       "1       broken clouds  02-10-2012 10:00            4516  \n",
       "2     overcast clouds  02-10-2012 11:00            4767  \n",
       "3     overcast clouds  02-10-2012 12:00            5026  \n",
       "4       broken clouds  02-10-2012 13:00            4918  "
      ]
     },
     "execution_count": 26,
     "metadata": {},
     "output_type": "execute_result"
    }
   ],
   "source": [
    "data = pd.read_csv('Metro_Interstate_Traffic_Volume.csv')\n",
    "data.head()"
   ]
  },
  {
   "cell_type": "code",
   "execution_count": 27,
   "id": "ceee37e9",
   "metadata": {},
   "outputs": [],
   "source": [
    "import category_encoders as ce\n",
    "encoder= ce.OrdinalEncoder(cols=['weather_main'],return_df=True,\n",
    "                           mapping=[{'col':'weather_main',\n",
    "'mapping':{'Clouds':0,'Clear':1,'Rain':2,'Drizzle':3,'Mist':4,'Haze':5,'Fog':5,'Thunderstorm':6,'Snow':7,'Squall':8,'Smoke':9}}])"
   ]
  },
  {
   "cell_type": "code",
   "execution_count": 28,
   "id": "617f51e2",
   "metadata": {},
   "outputs": [
    {
     "name": "stderr",
     "output_type": "stream",
     "text": [
      "c:\\users\\dell\\appdata\\local\\programs\\python\\python39\\lib\\site-packages\\category_encoders\\utils.py:21: FutureWarning: is_categorical is deprecated and will be removed in a future version.  Use is_categorical_dtype instead\n",
      "  elif pd.api.types.is_categorical(cols):\n"
     ]
    }
   ],
   "source": [
    "data = encoder.fit_transform(data)"
   ]
  },
  {
   "cell_type": "code",
   "execution_count": 29,
   "id": "2ca47d44",
   "metadata": {},
   "outputs": [],
   "source": [
    "encoder= ce.OrdinalEncoder(cols=['weather_description'],return_df=True,\n",
    "                           mapping=[{'col':'weather_description',\n",
    "'mapping':{'scattered clouds':0, 'broken clouds':1, 'overcast clouds':2,\n",
    "       'sky is clear':3, 'few clouds':4, 'light rain':5,\n",
    "       'light intensity drizzle':6, 'mist':7, 'haze':8, 'fog':9,\n",
    "       'proximity shower rain':10, 'drizzle':11, 'moderate rain':12,\n",
    "       'heavy intensity rain':13, 'proximity thunderstorm':14,\n",
    "       'thunderstorm with light rain':15, 'proximity thunderstorm with rain':16,\n",
    "       'heavy snow':17, 'heavy intensity drizzle':18, 'snow':19,\n",
    "       'thunderstorm with heavy rain':20, 'freezing rain':21, 'shower snow':22,\n",
    "       'light rain and snow':23, 'light intensity shower rain':24, 'SQUALLS':25,\n",
    "       'thunderstorm with rain':26, 'proximity thunderstorm with drizzle':27,\n",
    "       'thunderstorm':28, 'Sky is Clear':3, 'very heavy rain':29,\n",
    "       'thunderstorm with light drizzle':30, 'light snow':31,\n",
    "       'thunderstorm with drizzle':32, 'smoke':33, 'shower drizzle':34,\n",
    "       'light shower snow':35, 'sleet':36}}])\n",
    "data = encoder.fit_transform(data)"
   ]
  },
  {
   "cell_type": "code",
   "execution_count": 30,
   "id": "3793a69c",
   "metadata": {},
   "outputs": [
    {
     "data": {
      "text/html": [
       "<div>\n",
       "<style scoped>\n",
       "    .dataframe tbody tr th:only-of-type {\n",
       "        vertical-align: middle;\n",
       "    }\n",
       "\n",
       "    .dataframe tbody tr th {\n",
       "        vertical-align: top;\n",
       "    }\n",
       "\n",
       "    .dataframe thead th {\n",
       "        text-align: right;\n",
       "    }\n",
       "</style>\n",
       "<table border=\"1\" class=\"dataframe\">\n",
       "  <thead>\n",
       "    <tr style=\"text-align: right;\">\n",
       "      <th></th>\n",
       "      <th>holiday</th>\n",
       "      <th>temp</th>\n",
       "      <th>rain_1h</th>\n",
       "      <th>snow_1h</th>\n",
       "      <th>clouds_all</th>\n",
       "      <th>weather_main</th>\n",
       "      <th>day</th>\n",
       "      <th>weather_description</th>\n",
       "      <th>date_time</th>\n",
       "      <th>traffic_volume</th>\n",
       "    </tr>\n",
       "  </thead>\n",
       "  <tbody>\n",
       "    <tr>\n",
       "      <th>0</th>\n",
       "      <td>None</td>\n",
       "      <td>288.28</td>\n",
       "      <td>0.0</td>\n",
       "      <td>0.0</td>\n",
       "      <td>40</td>\n",
       "      <td>0</td>\n",
       "      <td>Tuesday</td>\n",
       "      <td>0</td>\n",
       "      <td>02-10-2012 09:00</td>\n",
       "      <td>5545</td>\n",
       "    </tr>\n",
       "    <tr>\n",
       "      <th>1</th>\n",
       "      <td>None</td>\n",
       "      <td>289.36</td>\n",
       "      <td>0.0</td>\n",
       "      <td>0.0</td>\n",
       "      <td>75</td>\n",
       "      <td>0</td>\n",
       "      <td>Wednesday</td>\n",
       "      <td>1</td>\n",
       "      <td>02-10-2012 10:00</td>\n",
       "      <td>4516</td>\n",
       "    </tr>\n",
       "    <tr>\n",
       "      <th>2</th>\n",
       "      <td>None</td>\n",
       "      <td>289.58</td>\n",
       "      <td>0.0</td>\n",
       "      <td>0.0</td>\n",
       "      <td>90</td>\n",
       "      <td>0</td>\n",
       "      <td>Thursday</td>\n",
       "      <td>2</td>\n",
       "      <td>02-10-2012 11:00</td>\n",
       "      <td>4767</td>\n",
       "    </tr>\n",
       "    <tr>\n",
       "      <th>3</th>\n",
       "      <td>None</td>\n",
       "      <td>290.13</td>\n",
       "      <td>0.0</td>\n",
       "      <td>0.0</td>\n",
       "      <td>90</td>\n",
       "      <td>0</td>\n",
       "      <td>Friday</td>\n",
       "      <td>2</td>\n",
       "      <td>02-10-2012 12:00</td>\n",
       "      <td>5026</td>\n",
       "    </tr>\n",
       "    <tr>\n",
       "      <th>4</th>\n",
       "      <td>None</td>\n",
       "      <td>291.14</td>\n",
       "      <td>0.0</td>\n",
       "      <td>0.0</td>\n",
       "      <td>75</td>\n",
       "      <td>0</td>\n",
       "      <td>Saturday</td>\n",
       "      <td>1</td>\n",
       "      <td>02-10-2012 13:00</td>\n",
       "      <td>4918</td>\n",
       "    </tr>\n",
       "  </tbody>\n",
       "</table>\n",
       "</div>"
      ],
      "text/plain": [
       "  holiday    temp  rain_1h  snow_1h  clouds_all  weather_main        day  \\\n",
       "0    None  288.28      0.0      0.0          40             0    Tuesday   \n",
       "1    None  289.36      0.0      0.0          75             0  Wednesday   \n",
       "2    None  289.58      0.0      0.0          90             0   Thursday   \n",
       "3    None  290.13      0.0      0.0          90             0     Friday   \n",
       "4    None  291.14      0.0      0.0          75             0   Saturday   \n",
       "\n",
       "   weather_description         date_time  traffic_volume  \n",
       "0                    0  02-10-2012 09:00            5545  \n",
       "1                    1  02-10-2012 10:00            4516  \n",
       "2                    2  02-10-2012 11:00            4767  \n",
       "3                    2  02-10-2012 12:00            5026  \n",
       "4                    1  02-10-2012 13:00            4918  "
      ]
     },
     "execution_count": 30,
     "metadata": {},
     "output_type": "execute_result"
    }
   ],
   "source": [
    "data.head()"
   ]
  },
  {
   "cell_type": "code",
   "execution_count": 31,
   "id": "109a37b5",
   "metadata": {},
   "outputs": [
    {
     "name": "stderr",
     "output_type": "stream",
     "text": [
      "c:\\users\\dell\\appdata\\local\\programs\\python\\python39\\lib\\site-packages\\category_encoders\\utils.py:21: FutureWarning: is_categorical is deprecated and will be removed in a future version.  Use is_categorical_dtype instead\n",
      "  elif pd.api.types.is_categorical(cols):\n"
     ]
    }
   ],
   "source": [
    "encoder= ce.OrdinalEncoder(cols=['day'],return_df=True,\n",
    "                           mapping=[{'col':'day',\n",
    "'mapping':{'Monday':0,'Tuesday':1,'Wednesday':2,'Thursday':3,'Friday':4,'Saturday':5,'Sunday':6}}])\n",
    "data = encoder.fit_transform(data)"
   ]
  },
  {
   "cell_type": "code",
   "execution_count": 32,
   "id": "0c73bf46",
   "metadata": {},
   "outputs": [
    {
     "data": {
      "text/html": [
       "<div>\n",
       "<style scoped>\n",
       "    .dataframe tbody tr th:only-of-type {\n",
       "        vertical-align: middle;\n",
       "    }\n",
       "\n",
       "    .dataframe tbody tr th {\n",
       "        vertical-align: top;\n",
       "    }\n",
       "\n",
       "    .dataframe thead th {\n",
       "        text-align: right;\n",
       "    }\n",
       "</style>\n",
       "<table border=\"1\" class=\"dataframe\">\n",
       "  <thead>\n",
       "    <tr style=\"text-align: right;\">\n",
       "      <th></th>\n",
       "      <th>temp</th>\n",
       "      <th>clouds_all</th>\n",
       "      <th>weather_main</th>\n",
       "      <th>day</th>\n",
       "      <th>weather_description</th>\n",
       "      <th>date_time</th>\n",
       "      <th>traffic_volume</th>\n",
       "    </tr>\n",
       "  </thead>\n",
       "  <tbody>\n",
       "    <tr>\n",
       "      <th>0</th>\n",
       "      <td>288.28</td>\n",
       "      <td>40</td>\n",
       "      <td>0</td>\n",
       "      <td>1</td>\n",
       "      <td>0</td>\n",
       "      <td>02-10-2012 09:00</td>\n",
       "      <td>5545</td>\n",
       "    </tr>\n",
       "    <tr>\n",
       "      <th>1</th>\n",
       "      <td>289.36</td>\n",
       "      <td>75</td>\n",
       "      <td>0</td>\n",
       "      <td>2</td>\n",
       "      <td>1</td>\n",
       "      <td>02-10-2012 10:00</td>\n",
       "      <td>4516</td>\n",
       "    </tr>\n",
       "    <tr>\n",
       "      <th>2</th>\n",
       "      <td>289.58</td>\n",
       "      <td>90</td>\n",
       "      <td>0</td>\n",
       "      <td>3</td>\n",
       "      <td>2</td>\n",
       "      <td>02-10-2012 11:00</td>\n",
       "      <td>4767</td>\n",
       "    </tr>\n",
       "    <tr>\n",
       "      <th>3</th>\n",
       "      <td>290.13</td>\n",
       "      <td>90</td>\n",
       "      <td>0</td>\n",
       "      <td>4</td>\n",
       "      <td>2</td>\n",
       "      <td>02-10-2012 12:00</td>\n",
       "      <td>5026</td>\n",
       "    </tr>\n",
       "    <tr>\n",
       "      <th>4</th>\n",
       "      <td>291.14</td>\n",
       "      <td>75</td>\n",
       "      <td>0</td>\n",
       "      <td>5</td>\n",
       "      <td>1</td>\n",
       "      <td>02-10-2012 13:00</td>\n",
       "      <td>4918</td>\n",
       "    </tr>\n",
       "  </tbody>\n",
       "</table>\n",
       "</div>"
      ],
      "text/plain": [
       "     temp  clouds_all  weather_main  day  weather_description  \\\n",
       "0  288.28          40             0    1                    0   \n",
       "1  289.36          75             0    2                    1   \n",
       "2  289.58          90             0    3                    2   \n",
       "3  290.13          90             0    4                    2   \n",
       "4  291.14          75             0    5                    1   \n",
       "\n",
       "          date_time  traffic_volume  \n",
       "0  02-10-2012 09:00            5545  \n",
       "1  02-10-2012 10:00            4516  \n",
       "2  02-10-2012 11:00            4767  \n",
       "3  02-10-2012 12:00            5026  \n",
       "4  02-10-2012 13:00            4918  "
      ]
     },
     "execution_count": 32,
     "metadata": {},
     "output_type": "execute_result"
    }
   ],
   "source": [
    "\n",
    "data = data.drop(['holiday','rain_1h','snow_1h'], axis = 1)\n",
    "data.head()"
   ]
  },
  {
   "cell_type": "code",
   "execution_count": 33,
   "id": "fb11e193",
   "metadata": {},
   "outputs": [
    {
     "data": {
      "text/html": [
       "<div>\n",
       "<style scoped>\n",
       "    .dataframe tbody tr th:only-of-type {\n",
       "        vertical-align: middle;\n",
       "    }\n",
       "\n",
       "    .dataframe tbody tr th {\n",
       "        vertical-align: top;\n",
       "    }\n",
       "\n",
       "    .dataframe thead th {\n",
       "        text-align: right;\n",
       "    }\n",
       "</style>\n",
       "<table border=\"1\" class=\"dataframe\">\n",
       "  <thead>\n",
       "    <tr style=\"text-align: right;\">\n",
       "      <th></th>\n",
       "      <th>date_time</th>\n",
       "    </tr>\n",
       "  </thead>\n",
       "  <tbody>\n",
       "    <tr>\n",
       "      <th>0</th>\n",
       "      <td>2012-10-02 09:00:00</td>\n",
       "    </tr>\n",
       "    <tr>\n",
       "      <th>1</th>\n",
       "      <td>2012-10-02 10:00:00</td>\n",
       "    </tr>\n",
       "    <tr>\n",
       "      <th>2</th>\n",
       "      <td>2012-10-02 11:00:00</td>\n",
       "    </tr>\n",
       "    <tr>\n",
       "      <th>3</th>\n",
       "      <td>2012-10-02 12:00:00</td>\n",
       "    </tr>\n",
       "    <tr>\n",
       "      <th>4</th>\n",
       "      <td>2012-10-02 13:00:00</td>\n",
       "    </tr>\n",
       "    <tr>\n",
       "      <th>...</th>\n",
       "      <td>...</td>\n",
       "    </tr>\n",
       "    <tr>\n",
       "      <th>48199</th>\n",
       "      <td>2018-09-30 19:00:00</td>\n",
       "    </tr>\n",
       "    <tr>\n",
       "      <th>48200</th>\n",
       "      <td>2018-09-30 20:00:00</td>\n",
       "    </tr>\n",
       "    <tr>\n",
       "      <th>48201</th>\n",
       "      <td>2018-09-30 21:00:00</td>\n",
       "    </tr>\n",
       "    <tr>\n",
       "      <th>48202</th>\n",
       "      <td>2018-09-30 22:00:00</td>\n",
       "    </tr>\n",
       "    <tr>\n",
       "      <th>48203</th>\n",
       "      <td>2018-09-30 23:00:00</td>\n",
       "    </tr>\n",
       "  </tbody>\n",
       "</table>\n",
       "<p>48204 rows × 1 columns</p>\n",
       "</div>"
      ],
      "text/plain": [
       "                date_time\n",
       "0     2012-10-02 09:00:00\n",
       "1     2012-10-02 10:00:00\n",
       "2     2012-10-02 11:00:00\n",
       "3     2012-10-02 12:00:00\n",
       "4     2012-10-02 13:00:00\n",
       "...                   ...\n",
       "48199 2018-09-30 19:00:00\n",
       "48200 2018-09-30 20:00:00\n",
       "48201 2018-09-30 21:00:00\n",
       "48202 2018-09-30 22:00:00\n",
       "48203 2018-09-30 23:00:00\n",
       "\n",
       "[48204 rows x 1 columns]"
      ]
     },
     "execution_count": 33,
     "metadata": {},
     "output_type": "execute_result"
    }
   ],
   "source": [
    "dat= pd.to_datetime(data.date_time, format='%d-%m-%Y %H:%M')\n",
    "type(dat)\n",
    "dat = dat.to_frame()\n",
    "dat"
   ]
  },
  {
   "cell_type": "code",
   "execution_count": 34,
   "id": "b3622ec0",
   "metadata": {},
   "outputs": [],
   "source": [
    "dat['year'] = dat['date_time'].dt.year\n",
    "dat['month'] = dat['date_time'].dt.month\n",
    "dat['day'] = dat['date_time'].dt.day\n",
    "dat['hour'] = dat['date_time'].dt.hour"
   ]
  },
  {
   "cell_type": "code",
   "execution_count": 35,
   "id": "c1ec8d12",
   "metadata": {},
   "outputs": [
    {
     "name": "stdout",
     "output_type": "stream",
     "text": [
      "(48204, 9) (48204,)\n"
     ]
    }
   ],
   "source": [
    "data = data.values\n",
    "dat=dat.values\n",
    "a = data[:,0:5]\n",
    "b = dat[:,1:]\n",
    "x = np.hstack((b,a))\n",
    "y = data[:,-1]\n",
    "print(x.shape,y.shape)"
   ]
  },
  {
   "cell_type": "markdown",
   "id": "29eb121d",
   "metadata": {},
   "source": [
    "# case 1"
   ]
  },
  {
   "cell_type": "code",
   "execution_count": 52,
   "id": "774028e5",
   "metadata": {},
   "outputs": [],
   "source": [
    "X = x[2559:5000]\n",
    "Y = y[2559:5000]"
   ]
  },
  {
   "cell_type": "code",
   "execution_count": 53,
   "id": "71da0189",
   "metadata": {},
   "outputs": [
    {
     "name": "stdout",
     "output_type": "stream",
     "text": [
      "98.40270159144046\n"
     ]
    }
   ],
   "source": [
    "from sklearn.ensemble import RandomForestRegressor\n",
    "rt = RandomForestRegressor(n_estimators = 500, random_state = 0)\n",
    "rt.fit(X,Y)\n",
    "print(rt.score(X, Y)*100)"
   ]
  },
  {
   "cell_type": "code",
   "execution_count": 60,
   "id": "32e07899",
   "metadata": {},
   "outputs": [
    {
     "name": "stdout",
     "output_type": "stream",
     "text": [
      "(24, 9) (24,)\n",
      "86.83383744412944\n"
     ]
    }
   ],
   "source": [
    "x_test = x[5000:5024]\n",
    "y_test = y[5000:5024]\n",
    "print(x_test.shape,y_test.shape)\n",
    "print(rt.score(x_test,y_test)*100)"
   ]
  },
  {
   "cell_type": "markdown",
   "id": "6e7274f1",
   "metadata": {},
   "source": [
    "# case 2"
   ]
  },
  {
   "cell_type": "code",
   "execution_count": 62,
   "id": "bf0f5625",
   "metadata": {},
   "outputs": [],
   "source": [
    "X = x[2559:6000]\n",
    "Y = y[2559:6000]"
   ]
  },
  {
   "cell_type": "code",
   "execution_count": 63,
   "id": "2f969158",
   "metadata": {},
   "outputs": [
    {
     "name": "stdout",
     "output_type": "stream",
     "text": [
      "98.29197560161744\n"
     ]
    }
   ],
   "source": [
    "from sklearn.ensemble import RandomForestRegressor\n",
    "rt = RandomForestRegressor(n_estimators = 500, random_state = 0)\n",
    "rt.fit(X,Y)\n",
    "print(rt.score(X, Y)*100)"
   ]
  },
  {
   "cell_type": "code",
   "execution_count": 66,
   "id": "20d535d6",
   "metadata": {},
   "outputs": [
    {
     "name": "stdout",
     "output_type": "stream",
     "text": [
      "(54, 9) (54,)\n",
      "90.15291491395764\n"
     ]
    }
   ],
   "source": [
    "x_test = x[6000:6054]\n",
    "y_test = y[6000:6054]\n",
    "print(x_test.shape,y_test.shape)\n",
    "print(rt.score(x_test,y_test)*100)"
   ]
  },
  {
   "cell_type": "markdown",
   "id": "7d21dc6e",
   "metadata": {},
   "source": [
    "# case 3"
   ]
  },
  {
   "cell_type": "code",
   "execution_count": 86,
   "id": "704f0458",
   "metadata": {},
   "outputs": [],
   "source": [
    "X = x[2559:7000]\n",
    "Y = y[2559:7000]"
   ]
  },
  {
   "cell_type": "code",
   "execution_count": 87,
   "id": "4dd6f5cd",
   "metadata": {},
   "outputs": [
    {
     "name": "stdout",
     "output_type": "stream",
     "text": [
      "98.33577972499093\n"
     ]
    }
   ],
   "source": [
    "from sklearn.ensemble import RandomForestRegressor\n",
    "rt = RandomForestRegressor(n_estimators = 500, random_state = 0)\n",
    "rt.fit(X,Y)\n",
    "print(rt.score(X, Y)*100)"
   ]
  },
  {
   "cell_type": "code",
   "execution_count": 88,
   "id": "a9b34e11",
   "metadata": {},
   "outputs": [
    {
     "name": "stdout",
     "output_type": "stream",
     "text": [
      "(100, 9) (100,)\n",
      "73.65023957559941\n"
     ]
    }
   ],
   "source": [
    "x_test = x[7000:7100]\n",
    "y_test = y[7000:7100]\n",
    "print(x_test.shape,y_test.shape)\n",
    "print(rt.score(x_test,y_test)*100)"
   ]
  },
  {
   "cell_type": "markdown",
   "id": "c866f4c9",
   "metadata": {},
   "source": [
    "# case 3 part 2"
   ]
  },
  {
   "cell_type": "code",
   "execution_count": 89,
   "id": "d383670e",
   "metadata": {},
   "outputs": [],
   "source": [
    "X = x[3000:7000]\n",
    "Y = y[3000:7000]"
   ]
  },
  {
   "cell_type": "code",
   "execution_count": 90,
   "id": "a2fea64f",
   "metadata": {},
   "outputs": [
    {
     "name": "stdout",
     "output_type": "stream",
     "text": [
      "98.45335523919407\n"
     ]
    }
   ],
   "source": [
    "from sklearn.ensemble import RandomForestRegressor\n",
    "rt = RandomForestRegressor(n_estimators = 500, random_state = 0)\n",
    "rt.fit(X,Y)\n",
    "print(rt.score(X, Y)*100)"
   ]
  },
  {
   "cell_type": "code",
   "execution_count": 91,
   "id": "dd7bcb27",
   "metadata": {},
   "outputs": [
    {
     "name": "stdout",
     "output_type": "stream",
     "text": [
      "(100, 9) (100,)\n",
      "73.49177191209112\n"
     ]
    }
   ],
   "source": [
    "x_test = x[7000:7100]\n",
    "y_test = y[7000:7100]\n",
    "print(x_test.shape,y_test.shape)\n",
    "print(rt.score(x_test,y_test)*100)"
   ]
  }
 ],
 "metadata": {
  "kernelspec": {
   "display_name": "Python 3",
   "language": "python",
   "name": "python3"
  },
  "language_info": {
   "codemirror_mode": {
    "name": "ipython",
    "version": 3
   },
   "file_extension": ".py",
   "mimetype": "text/x-python",
   "name": "python",
   "nbconvert_exporter": "python",
   "pygments_lexer": "ipython3",
   "version": "3.9.4"
  }
 },
 "nbformat": 4,
 "nbformat_minor": 5
}
